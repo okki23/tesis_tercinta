{
  "nbformat": 4,
  "nbformat_minor": 0,
  "metadata": {
    "colab": {
      "name": "Copy of 19112021_DEEP_LSTM.ipynb",
      "provenance": [],
      "collapsed_sections": []
    },
    "kernelspec": {
      "name": "python3",
      "display_name": "Python 3"
    },
    "language_info": {
      "name": "python"
    },
    "accelerator": "GPU"
  },
  "cells": [
    {
      "cell_type": "markdown",
      "metadata": {
        "id": "KVqMHryZHRfJ"
      },
      "source": [
        "**Code Reference:** [Tf-Idf, Word2Vec, Embedding, Keras & SVC](https://www.kaggle.com/michaelhochstrasser/tf-idf-word2vec-embedding-keras-svc)\n",
        "\n",
        "**Dataset Reference:** [Daily News for Stock Market Prediction](https://www.kaggle.com/aaron7sun/stocknews)"
      ]
    },
    {
      "cell_type": "code",
      "metadata": {
        "id": "9PNAnLrt3c4-",
        "colab": {
          "base_uri": "https://localhost:8080/"
        },
        "outputId": "e2adbfcf-b852-4f27-a3f1-fc82ebdb6ea6"
      },
      "source": [
        "from google.colab import drive\n",
        "drive.mount('/content/drive')"
      ],
      "execution_count": 1,
      "outputs": [
        {
          "output_type": "stream",
          "name": "stdout",
          "text": [
            "Mounted at /content/drive\n"
          ]
        }
      ]
    },
    {
      "cell_type": "code",
      "metadata": {
        "id": "9y7tOjiIFWpN",
        "colab": {
          "base_uri": "https://localhost:8080/"
        },
        "outputId": "33646526-9674-4188-8619-823aa3dcc301"
      },
      "source": [
        "!pip install tensorflow"
      ],
      "execution_count": 2,
      "outputs": [
        {
          "output_type": "stream",
          "name": "stdout",
          "text": [
            "Requirement already satisfied: tensorflow in /usr/local/lib/python3.7/dist-packages (2.7.0)\n",
            "Requirement already satisfied: libclang>=9.0.1 in /usr/local/lib/python3.7/dist-packages (from tensorflow) (12.0.0)\n",
            "Requirement already satisfied: keras-preprocessing>=1.1.1 in /usr/local/lib/python3.7/dist-packages (from tensorflow) (1.1.2)\n",
            "Requirement already satisfied: google-pasta>=0.1.1 in /usr/local/lib/python3.7/dist-packages (from tensorflow) (0.2.0)\n",
            "Requirement already satisfied: astunparse>=1.6.0 in /usr/local/lib/python3.7/dist-packages (from tensorflow) (1.6.3)\n",
            "Requirement already satisfied: tensorflow-estimator<2.8,~=2.7.0rc0 in /usr/local/lib/python3.7/dist-packages (from tensorflow) (2.7.0)\n",
            "Requirement already satisfied: typing-extensions>=3.6.6 in /usr/local/lib/python3.7/dist-packages (from tensorflow) (3.10.0.2)\n",
            "Requirement already satisfied: opt-einsum>=2.3.2 in /usr/local/lib/python3.7/dist-packages (from tensorflow) (3.3.0)\n",
            "Requirement already satisfied: absl-py>=0.4.0 in /usr/local/lib/python3.7/dist-packages (from tensorflow) (0.12.0)\n",
            "Requirement already satisfied: tensorflow-io-gcs-filesystem>=0.21.0 in /usr/local/lib/python3.7/dist-packages (from tensorflow) (0.22.0)\n",
            "Requirement already satisfied: grpcio<2.0,>=1.24.3 in /usr/local/lib/python3.7/dist-packages (from tensorflow) (1.42.0)\n",
            "Requirement already satisfied: six>=1.12.0 in /usr/local/lib/python3.7/dist-packages (from tensorflow) (1.15.0)\n",
            "Requirement already satisfied: keras<2.8,>=2.7.0rc0 in /usr/local/lib/python3.7/dist-packages (from tensorflow) (2.7.0)\n",
            "Requirement already satisfied: h5py>=2.9.0 in /usr/local/lib/python3.7/dist-packages (from tensorflow) (3.1.0)\n",
            "Requirement already satisfied: wheel<1.0,>=0.32.0 in /usr/local/lib/python3.7/dist-packages (from tensorflow) (0.37.0)\n",
            "Requirement already satisfied: protobuf>=3.9.2 in /usr/local/lib/python3.7/dist-packages (from tensorflow) (3.17.3)\n",
            "Requirement already satisfied: termcolor>=1.1.0 in /usr/local/lib/python3.7/dist-packages (from tensorflow) (1.1.0)\n",
            "Requirement already satisfied: flatbuffers<3.0,>=1.12 in /usr/local/lib/python3.7/dist-packages (from tensorflow) (2.0)\n",
            "Requirement already satisfied: numpy>=1.14.5 in /usr/local/lib/python3.7/dist-packages (from tensorflow) (1.19.5)\n",
            "Requirement already satisfied: tensorboard~=2.6 in /usr/local/lib/python3.7/dist-packages (from tensorflow) (2.7.0)\n",
            "Requirement already satisfied: gast<0.5.0,>=0.2.1 in /usr/local/lib/python3.7/dist-packages (from tensorflow) (0.4.0)\n",
            "Requirement already satisfied: wrapt>=1.11.0 in /usr/local/lib/python3.7/dist-packages (from tensorflow) (1.13.3)\n",
            "Requirement already satisfied: cached-property in /usr/local/lib/python3.7/dist-packages (from h5py>=2.9.0->tensorflow) (1.5.2)\n",
            "Requirement already satisfied: markdown>=2.6.8 in /usr/local/lib/python3.7/dist-packages (from tensorboard~=2.6->tensorflow) (3.3.6)\n",
            "Requirement already satisfied: werkzeug>=0.11.15 in /usr/local/lib/python3.7/dist-packages (from tensorboard~=2.6->tensorflow) (1.0.1)\n",
            "Requirement already satisfied: requests<3,>=2.21.0 in /usr/local/lib/python3.7/dist-packages (from tensorboard~=2.6->tensorflow) (2.23.0)\n",
            "Requirement already satisfied: tensorboard-plugin-wit>=1.6.0 in /usr/local/lib/python3.7/dist-packages (from tensorboard~=2.6->tensorflow) (1.8.0)\n",
            "Requirement already satisfied: google-auth-oauthlib<0.5,>=0.4.1 in /usr/local/lib/python3.7/dist-packages (from tensorboard~=2.6->tensorflow) (0.4.6)\n",
            "Requirement already satisfied: setuptools>=41.0.0 in /usr/local/lib/python3.7/dist-packages (from tensorboard~=2.6->tensorflow) (57.4.0)\n",
            "Requirement already satisfied: tensorboard-data-server<0.7.0,>=0.6.0 in /usr/local/lib/python3.7/dist-packages (from tensorboard~=2.6->tensorflow) (0.6.1)\n",
            "Requirement already satisfied: google-auth<3,>=1.6.3 in /usr/local/lib/python3.7/dist-packages (from tensorboard~=2.6->tensorflow) (1.35.0)\n",
            "Requirement already satisfied: cachetools<5.0,>=2.0.0 in /usr/local/lib/python3.7/dist-packages (from google-auth<3,>=1.6.3->tensorboard~=2.6->tensorflow) (4.2.4)\n",
            "Requirement already satisfied: pyasn1-modules>=0.2.1 in /usr/local/lib/python3.7/dist-packages (from google-auth<3,>=1.6.3->tensorboard~=2.6->tensorflow) (0.2.8)\n",
            "Requirement already satisfied: rsa<5,>=3.1.4 in /usr/local/lib/python3.7/dist-packages (from google-auth<3,>=1.6.3->tensorboard~=2.6->tensorflow) (4.8)\n",
            "Requirement already satisfied: requests-oauthlib>=0.7.0 in /usr/local/lib/python3.7/dist-packages (from google-auth-oauthlib<0.5,>=0.4.1->tensorboard~=2.6->tensorflow) (1.3.0)\n",
            "Requirement already satisfied: importlib-metadata>=4.4 in /usr/local/lib/python3.7/dist-packages (from markdown>=2.6.8->tensorboard~=2.6->tensorflow) (4.8.2)\n",
            "Requirement already satisfied: zipp>=0.5 in /usr/local/lib/python3.7/dist-packages (from importlib-metadata>=4.4->markdown>=2.6.8->tensorboard~=2.6->tensorflow) (3.6.0)\n",
            "Requirement already satisfied: pyasn1<0.5.0,>=0.4.6 in /usr/local/lib/python3.7/dist-packages (from pyasn1-modules>=0.2.1->google-auth<3,>=1.6.3->tensorboard~=2.6->tensorflow) (0.4.8)\n",
            "Requirement already satisfied: chardet<4,>=3.0.2 in /usr/local/lib/python3.7/dist-packages (from requests<3,>=2.21.0->tensorboard~=2.6->tensorflow) (3.0.4)\n",
            "Requirement already satisfied: idna<3,>=2.5 in /usr/local/lib/python3.7/dist-packages (from requests<3,>=2.21.0->tensorboard~=2.6->tensorflow) (2.10)\n",
            "Requirement already satisfied: urllib3!=1.25.0,!=1.25.1,<1.26,>=1.21.1 in /usr/local/lib/python3.7/dist-packages (from requests<3,>=2.21.0->tensorboard~=2.6->tensorflow) (1.24.3)\n",
            "Requirement already satisfied: certifi>=2017.4.17 in /usr/local/lib/python3.7/dist-packages (from requests<3,>=2.21.0->tensorboard~=2.6->tensorflow) (2021.10.8)\n",
            "Requirement already satisfied: oauthlib>=3.0.0 in /usr/local/lib/python3.7/dist-packages (from requests-oauthlib>=0.7.0->google-auth-oauthlib<0.5,>=0.4.1->tensorboard~=2.6->tensorflow) (3.1.1)\n"
          ]
        }
      ]
    },
    {
      "cell_type": "code",
      "metadata": {
        "id": "DESGzbPy4i7c"
      },
      "source": [
        "# import libraries yang dibutuhkan\n",
        "\n",
        "import numpy as np # linear algebra\n",
        "import pandas as pd # data processing, CSV file I/O (e.g. pd.read_csv)\n",
        "from matplotlib import pyplot as plt\n",
        "\n",
        "from sklearn.feature_extraction.text import TfidfVectorizer\n",
        "from sklearn.feature_extraction.text import CountVectorizer\n",
        "\n",
        "import nltk\n",
        "from nltk import word_tokenize\n",
        "from nltk.stem import WordNetLemmatizer\n",
        "\n",
        "from sklearn.metrics import classification_report\n",
        "from sklearn.metrics import accuracy_score, f1_score, roc_auc_score\n",
        "from sklearn.metrics import confusion_matrix\n",
        "\n",
        "from sklearn.svm import SVC, LinearSVC\n",
        "# from sklearn.linear_model import LogisticRegression\n",
        "# from sklearn import tree\n",
        "# from sklearn.mixture import GaussianMixture\n",
        "# from sklearn.decomposition import PCA\n",
        "\n",
        "from keras.models import Sequential"
      ],
      "execution_count": 3,
      "outputs": []
    },
    {
      "cell_type": "markdown",
      "metadata": {
        "id": "XNR-qffOIUGP"
      },
      "source": [
        "# Input Data dan Eksplorasi Data"
      ]
    },
    {
      "cell_type": "markdown",
      "metadata": {
        "id": "TXEyQusqAxJc"
      },
      "source": [
        "Memuat data, Memeriksa dan menyiapkan Dataset.\n",
        "\n",
        "File terdiri dari 25 judul berita Teratas per hari dan label dengan hanya dua nilai:\n",
        "\n",
        "    \"1\" ketika nilai DJIA Adj Close naik atau tetap sama\n",
        "    \"0\" ketika nilai DJIA Adj Close menurun"
      ]
    },
    {
      "cell_type": "code",
      "metadata": {
        "id": "7WMU1yvh4kyV",
        "colab": {
          "base_uri": "https://localhost:8080/",
          "height": 756
        },
        "outputId": "3929b785-16c2-483e-d6da-debb519f0465"
      },
      "source": [
        "# import data\n",
        "data = pd.read_csv('/content/drive/MyDrive/Tesis Oke/Combined_News_DJIA.csv')\n",
        "\n",
        "# menampilkan isi data\n",
        "data.head()"
      ],
      "execution_count": 4,
      "outputs": [
        {
          "output_type": "execute_result",
          "data": {
            "text/html": [
              "\n",
              "  <div id=\"df-303ab1e4-e8db-460d-9ddf-d39345e156f3\">\n",
              "    <div class=\"colab-df-container\">\n",
              "      <div>\n",
              "<style scoped>\n",
              "    .dataframe tbody tr th:only-of-type {\n",
              "        vertical-align: middle;\n",
              "    }\n",
              "\n",
              "    .dataframe tbody tr th {\n",
              "        vertical-align: top;\n",
              "    }\n",
              "\n",
              "    .dataframe thead th {\n",
              "        text-align: right;\n",
              "    }\n",
              "</style>\n",
              "<table border=\"1\" class=\"dataframe\">\n",
              "  <thead>\n",
              "    <tr style=\"text-align: right;\">\n",
              "      <th></th>\n",
              "      <th>Date</th>\n",
              "      <th>Label</th>\n",
              "      <th>Top1</th>\n",
              "      <th>Top2</th>\n",
              "      <th>Top3</th>\n",
              "      <th>Top4</th>\n",
              "      <th>Top5</th>\n",
              "      <th>Top6</th>\n",
              "      <th>Top7</th>\n",
              "      <th>Top8</th>\n",
              "      <th>Top9</th>\n",
              "      <th>Top10</th>\n",
              "      <th>Top11</th>\n",
              "      <th>Top12</th>\n",
              "      <th>Top13</th>\n",
              "      <th>Top14</th>\n",
              "      <th>Top15</th>\n",
              "      <th>Top16</th>\n",
              "      <th>Top17</th>\n",
              "      <th>Top18</th>\n",
              "      <th>Top19</th>\n",
              "      <th>Top20</th>\n",
              "      <th>Top21</th>\n",
              "      <th>Top22</th>\n",
              "      <th>Top23</th>\n",
              "      <th>Top24</th>\n",
              "      <th>Top25</th>\n",
              "    </tr>\n",
              "  </thead>\n",
              "  <tbody>\n",
              "    <tr>\n",
              "      <th>0</th>\n",
              "      <td>2008-08-08</td>\n",
              "      <td>0</td>\n",
              "      <td>b\"Georgia 'downs two Russian warplanes' as cou...</td>\n",
              "      <td>b'BREAKING: Musharraf to be impeached.'</td>\n",
              "      <td>b'Russia Today: Columns of troops roll into So...</td>\n",
              "      <td>b'Russian tanks are moving towards the capital...</td>\n",
              "      <td>b\"Afghan children raped with 'impunity,' U.N. ...</td>\n",
              "      <td>b'150 Russian tanks have entered South Ossetia...</td>\n",
              "      <td>b\"Breaking: Georgia invades South Ossetia, Rus...</td>\n",
              "      <td>b\"The 'enemy combatent' trials are nothing but...</td>\n",
              "      <td>b'Georgian troops retreat from S. Osettain cap...</td>\n",
              "      <td>b'Did the U.S. Prep Georgia for War with Russia?'</td>\n",
              "      <td>b'Rice Gives Green Light for Israel to Attack ...</td>\n",
              "      <td>b'Announcing:Class Action Lawsuit on Behalf of...</td>\n",
              "      <td>b\"So---Russia and Georgia are at war and the N...</td>\n",
              "      <td>b\"China tells Bush to stay out of other countr...</td>\n",
              "      <td>b'Did World War III start today?'</td>\n",
              "      <td>b'Georgia Invades South Ossetia - if Russia ge...</td>\n",
              "      <td>b'Al-Qaeda Faces Islamist Backlash'</td>\n",
              "      <td>b'Condoleezza Rice: \"The US would not act to p...</td>\n",
              "      <td>b'This is a busy day:  The European Union has ...</td>\n",
              "      <td>b\"Georgia will withdraw 1,000 soldiers from Ir...</td>\n",
              "      <td>b'Why the Pentagon Thinks Attacking Iran is a ...</td>\n",
              "      <td>b'Caucasus in crisis: Georgia invades South Os...</td>\n",
              "      <td>b'Indian shoe manufactory  - And again in a se...</td>\n",
              "      <td>b'Visitors Suffering from Mental Illnesses Ban...</td>\n",
              "      <td>b\"No Help for Mexico's Kidnapping Surge\"</td>\n",
              "    </tr>\n",
              "    <tr>\n",
              "      <th>1</th>\n",
              "      <td>2008-08-11</td>\n",
              "      <td>1</td>\n",
              "      <td>b'Why wont America and Nato help us? If they w...</td>\n",
              "      <td>b'Bush puts foot down on Georgian conflict'</td>\n",
              "      <td>b\"Jewish Georgian minister: Thanks to Israeli ...</td>\n",
              "      <td>b'Georgian army flees in disarray as Russians ...</td>\n",
              "      <td>b\"Olympic opening ceremony fireworks 'faked'\"</td>\n",
              "      <td>b'What were the Mossad with fraudulent New Zea...</td>\n",
              "      <td>b'Russia angered by Israeli military sale to G...</td>\n",
              "      <td>b'An American citizen living in S.Ossetia blam...</td>\n",
              "      <td>b'Welcome To World War IV! Now In High Definit...</td>\n",
              "      <td>b\"Georgia's move, a mistake of monumental prop...</td>\n",
              "      <td>b'Russia presses deeper into Georgia; U.S. say...</td>\n",
              "      <td>b'Abhinav Bindra wins first ever Individual Ol...</td>\n",
              "      <td>b' U.S. ship heads for Arctic to define territ...</td>\n",
              "      <td>b'Drivers in a Jerusalem taxi station threaten...</td>\n",
              "      <td>b'The French Team is Stunned by Phelps and the...</td>\n",
              "      <td>b'Israel and the US behind the Georgian aggres...</td>\n",
              "      <td>b'\"Do not believe TV, neither Russian nor Geor...</td>\n",
              "      <td>b'Riots are still going on in Montreal (Canada...</td>\n",
              "      <td>b'China to overtake US as largest manufacturer'</td>\n",
              "      <td>b'War in South Ossetia [PICS]'</td>\n",
              "      <td>b'Israeli Physicians Group Condemns State Tort...</td>\n",
              "      <td>b' Russia has just beaten the United States ov...</td>\n",
              "      <td>b'Perhaps *the* question about the Georgia - R...</td>\n",
              "      <td>b'Russia is so much better at war'</td>\n",
              "      <td>b\"So this is what it's come to: trading sex fo...</td>\n",
              "    </tr>\n",
              "    <tr>\n",
              "      <th>2</th>\n",
              "      <td>2008-08-12</td>\n",
              "      <td>0</td>\n",
              "      <td>b'Remember that adorable 9-year-old who sang a...</td>\n",
              "      <td>b\"Russia 'ends Georgia operation'\"</td>\n",
              "      <td>b'\"If we had no sexual harassment we would hav...</td>\n",
              "      <td>b\"Al-Qa'eda is losing support in Iraq because ...</td>\n",
              "      <td>b'Ceasefire in Georgia: Putin Outmaneuvers the...</td>\n",
              "      <td>b'Why Microsoft and Intel tried to kill the XO...</td>\n",
              "      <td>b'Stratfor: The Russo-Georgian War and the Bal...</td>\n",
              "      <td>b\"I'm Trying to Get a Sense of This Whole Geor...</td>\n",
              "      <td>b\"The US military was surprised by the timing ...</td>\n",
              "      <td>b'U.S. Beats War Drum as Iran Dumps the Dollar'</td>\n",
              "      <td>b'Gorbachev: \"Georgian military attacked the S...</td>\n",
              "      <td>b'CNN use footage of Tskhinvali ruins to cover...</td>\n",
              "      <td>b'Beginning a war as the Olympics were opening...</td>\n",
              "      <td>b'55 pyramids as large as the Luxor stacked in...</td>\n",
              "      <td>b'The 11 Top Party Cities in the World'</td>\n",
              "      <td>b'U.S. troops still in Georgia (did you know t...</td>\n",
              "      <td>b'Why Russias response to Georgia was right'</td>\n",
              "      <td>b'Gorbachev accuses U.S. of making a \"serious ...</td>\n",
              "      <td>b'Russia, Georgia, and NATO: Cold War Two'</td>\n",
              "      <td>b'Remember that adorable 62-year-old who led y...</td>\n",
              "      <td>b'War in Georgia: The Israeli connection'</td>\n",
              "      <td>b'All signs point to the US encouraging Georgi...</td>\n",
              "      <td>b'Christopher King argues that the US and NATO...</td>\n",
              "      <td>b'America: The New Mexico?'</td>\n",
              "      <td>b\"BBC NEWS | Asia-Pacific | Extinction 'by man...</td>\n",
              "    </tr>\n",
              "    <tr>\n",
              "      <th>3</th>\n",
              "      <td>2008-08-13</td>\n",
              "      <td>0</td>\n",
              "      <td>b' U.S. refuses Israel weapons to attack Iran:...</td>\n",
              "      <td>b\"When the president ordered to attack Tskhinv...</td>\n",
              "      <td>b' Israel clears troops who killed Reuters cam...</td>\n",
              "      <td>b'Britain\\'s policy of being tough on drugs is...</td>\n",
              "      <td>b'Body of 14 year old found in trunk; Latest (...</td>\n",
              "      <td>b'China has moved 10 *million* quake survivors...</td>\n",
              "      <td>b\"Bush announces Operation Get All Up In Russi...</td>\n",
              "      <td>b'Russian forces sink Georgian ships '</td>\n",
              "      <td>b\"The commander of a Navy air reconnaissance s...</td>\n",
              "      <td>b\"92% of CNN readers: Russia's actions in Geor...</td>\n",
              "      <td>b'USA to send fleet into Black Sea to help Geo...</td>\n",
              "      <td>b\"US warns against Israeli plan to strike agai...</td>\n",
              "      <td>b\"In an intriguing cyberalliance, two Estonian...</td>\n",
              "      <td>b'The CNN Effect: Georgia Schools Russia in In...</td>\n",
              "      <td>b'Why Russias response to Georgia was right'</td>\n",
              "      <td>b'Elephants extinct by 2020?'</td>\n",
              "      <td>b'US humanitarian missions soon in Georgia - i...</td>\n",
              "      <td>b\"Georgia's DDOS came from US sources\"</td>\n",
              "      <td>b'Russian convoy heads into Georgia, violating...</td>\n",
              "      <td>b'Israeli defence minister: US against strike ...</td>\n",
              "      <td>b'Gorbachev: We Had No Choice'</td>\n",
              "      <td>b'Witness: Russian forces head towards Tbilisi...</td>\n",
              "      <td>b' Quarter of Russians blame U.S. for conflict...</td>\n",
              "      <td>b'Georgian president  says US military will ta...</td>\n",
              "      <td>b'2006: Nobel laureate Aleksander Solzhenitsyn...</td>\n",
              "    </tr>\n",
              "    <tr>\n",
              "      <th>4</th>\n",
              "      <td>2008-08-14</td>\n",
              "      <td>1</td>\n",
              "      <td>b'All the experts admit that we should legalis...</td>\n",
              "      <td>b'War in South Osetia - 89 pictures made by a ...</td>\n",
              "      <td>b'Swedish wrestler Ara Abrahamian throws away ...</td>\n",
              "      <td>b'Russia exaggerated the death toll in South O...</td>\n",
              "      <td>b'Missile That Killed 9 Inside Pakistan May Ha...</td>\n",
              "      <td>b\"Rushdie Condemns Random House's Refusal to P...</td>\n",
              "      <td>b'Poland and US agree to missle defense deal. ...</td>\n",
              "      <td>b'Will the Russians conquer Tblisi? Bet on it,...</td>\n",
              "      <td>b'Russia exaggerating South Ossetian death tol...</td>\n",
              "      <td>b' Musharraf expected to resign rather than fa...</td>\n",
              "      <td>b'Moscow Made Plans Months Ago to Invade Georgia'</td>\n",
              "      <td>b'Why Russias response to Georgia was right'</td>\n",
              "      <td>b'Nigeria has handed over the potentially oil-...</td>\n",
              "      <td>b'The US and Poland have agreed a preliminary ...</td>\n",
              "      <td>b'Russia apparently is sabotaging infrastructu...</td>\n",
              "      <td>b'Bank analyst forecast Georgian crisis 2 days...</td>\n",
              "      <td>b\"Georgia confict could set back Russia's US r...</td>\n",
              "      <td>b'War in the Caucasus is as much the product o...</td>\n",
              "      <td>b'\"Non-media\" photos of South Ossetia/Georgia ...</td>\n",
              "      <td>b'Georgian TV reporter shot by Russian sniper ...</td>\n",
              "      <td>b'Saudi Arabia: Mother moves to block child ma...</td>\n",
              "      <td>b'Taliban wages war on humanitarian aid workers'</td>\n",
              "      <td>b'Russia: World  \"can forget about\" Georgia\\'s...</td>\n",
              "      <td>b'Darfur rebels accuse Sudan of mounting major...</td>\n",
              "      <td>b'Philippines : Peace Advocate say Muslims nee...</td>\n",
              "    </tr>\n",
              "  </tbody>\n",
              "</table>\n",
              "</div>\n",
              "      <button class=\"colab-df-convert\" onclick=\"convertToInteractive('df-303ab1e4-e8db-460d-9ddf-d39345e156f3')\"\n",
              "              title=\"Convert this dataframe to an interactive table.\"\n",
              "              style=\"display:none;\">\n",
              "        \n",
              "  <svg xmlns=\"http://www.w3.org/2000/svg\" height=\"24px\"viewBox=\"0 0 24 24\"\n",
              "       width=\"24px\">\n",
              "    <path d=\"M0 0h24v24H0V0z\" fill=\"none\"/>\n",
              "    <path d=\"M18.56 5.44l.94 2.06.94-2.06 2.06-.94-2.06-.94-.94-2.06-.94 2.06-2.06.94zm-11 1L8.5 8.5l.94-2.06 2.06-.94-2.06-.94L8.5 2.5l-.94 2.06-2.06.94zm10 10l.94 2.06.94-2.06 2.06-.94-2.06-.94-.94-2.06-.94 2.06-2.06.94z\"/><path d=\"M17.41 7.96l-1.37-1.37c-.4-.4-.92-.59-1.43-.59-.52 0-1.04.2-1.43.59L10.3 9.45l-7.72 7.72c-.78.78-.78 2.05 0 2.83L4 21.41c.39.39.9.59 1.41.59.51 0 1.02-.2 1.41-.59l7.78-7.78 2.81-2.81c.8-.78.8-2.07 0-2.86zM5.41 20L4 18.59l7.72-7.72 1.47 1.35L5.41 20z\"/>\n",
              "  </svg>\n",
              "      </button>\n",
              "      \n",
              "  <style>\n",
              "    .colab-df-container {\n",
              "      display:flex;\n",
              "      flex-wrap:wrap;\n",
              "      gap: 12px;\n",
              "    }\n",
              "\n",
              "    .colab-df-convert {\n",
              "      background-color: #E8F0FE;\n",
              "      border: none;\n",
              "      border-radius: 50%;\n",
              "      cursor: pointer;\n",
              "      display: none;\n",
              "      fill: #1967D2;\n",
              "      height: 32px;\n",
              "      padding: 0 0 0 0;\n",
              "      width: 32px;\n",
              "    }\n",
              "\n",
              "    .colab-df-convert:hover {\n",
              "      background-color: #E2EBFA;\n",
              "      box-shadow: 0px 1px 2px rgba(60, 64, 67, 0.3), 0px 1px 3px 1px rgba(60, 64, 67, 0.15);\n",
              "      fill: #174EA6;\n",
              "    }\n",
              "\n",
              "    [theme=dark] .colab-df-convert {\n",
              "      background-color: #3B4455;\n",
              "      fill: #D2E3FC;\n",
              "    }\n",
              "\n",
              "    [theme=dark] .colab-df-convert:hover {\n",
              "      background-color: #434B5C;\n",
              "      box-shadow: 0px 1px 3px 1px rgba(0, 0, 0, 0.15);\n",
              "      filter: drop-shadow(0px 1px 2px rgba(0, 0, 0, 0.3));\n",
              "      fill: #FFFFFF;\n",
              "    }\n",
              "  </style>\n",
              "\n",
              "      <script>\n",
              "        const buttonEl =\n",
              "          document.querySelector('#df-303ab1e4-e8db-460d-9ddf-d39345e156f3 button.colab-df-convert');\n",
              "        buttonEl.style.display =\n",
              "          google.colab.kernel.accessAllowed ? 'block' : 'none';\n",
              "\n",
              "        async function convertToInteractive(key) {\n",
              "          const element = document.querySelector('#df-303ab1e4-e8db-460d-9ddf-d39345e156f3');\n",
              "          const dataTable =\n",
              "            await google.colab.kernel.invokeFunction('convertToInteractive',\n",
              "                                                     [key], {});\n",
              "          if (!dataTable) return;\n",
              "\n",
              "          const docLinkHtml = 'Like what you see? Visit the ' +\n",
              "            '<a target=\"_blank\" href=https://colab.research.google.com/notebooks/data_table.ipynb>data table notebook</a>'\n",
              "            + ' to learn more about interactive tables.';\n",
              "          element.innerHTML = '';\n",
              "          dataTable['output_type'] = 'display_data';\n",
              "          await google.colab.output.renderOutput(dataTable, element);\n",
              "          const docLink = document.createElement('div');\n",
              "          docLink.innerHTML = docLinkHtml;\n",
              "          element.appendChild(docLink);\n",
              "        }\n",
              "      </script>\n",
              "    </div>\n",
              "  </div>\n",
              "  "
            ],
            "text/plain": [
              "         Date  ...                                              Top25\n",
              "0  2008-08-08  ...           b\"No Help for Mexico's Kidnapping Surge\"\n",
              "1  2008-08-11  ...  b\"So this is what it's come to: trading sex fo...\n",
              "2  2008-08-12  ...  b\"BBC NEWS | Asia-Pacific | Extinction 'by man...\n",
              "3  2008-08-13  ...  b'2006: Nobel laureate Aleksander Solzhenitsyn...\n",
              "4  2008-08-14  ...  b'Philippines : Peace Advocate say Muslims nee...\n",
              "\n",
              "[5 rows x 27 columns]"
            ]
          },
          "metadata": {},
          "execution_count": 4
        }
      ]
    },
    {
      "cell_type": "code",
      "metadata": {
        "colab": {
          "base_uri": "https://localhost:8080/"
        },
        "id": "Yh9IUllu7YBP",
        "outputId": "ddef05bc-be2a-4c66-e217-235e985122de"
      },
      "source": [
        "# mengecek dimensi data\n",
        "data.shape"
      ],
      "execution_count": 5,
      "outputs": [
        {
          "output_type": "execute_result",
          "data": {
            "text/plain": [
              "(1989, 27)"
            ]
          },
          "metadata": {},
          "execution_count": 5
        }
      ]
    },
    {
      "cell_type": "code",
      "metadata": {
        "colab": {
          "base_uri": "https://localhost:8080/"
        },
        "id": "lx9NEaV57dnK",
        "outputId": "c9e361c8-d9d3-47a9-cc6a-b4608d153a7a"
      },
      "source": [
        "# mengecek type data\n",
        "data.info()"
      ],
      "execution_count": 6,
      "outputs": [
        {
          "output_type": "stream",
          "name": "stdout",
          "text": [
            "<class 'pandas.core.frame.DataFrame'>\n",
            "RangeIndex: 1989 entries, 0 to 1988\n",
            "Data columns (total 27 columns):\n",
            " #   Column  Non-Null Count  Dtype \n",
            "---  ------  --------------  ----- \n",
            " 0   Date    1989 non-null   object\n",
            " 1   Label   1989 non-null   int64 \n",
            " 2   Top1    1989 non-null   object\n",
            " 3   Top2    1989 non-null   object\n",
            " 4   Top3    1989 non-null   object\n",
            " 5   Top4    1989 non-null   object\n",
            " 6   Top5    1989 non-null   object\n",
            " 7   Top6    1989 non-null   object\n",
            " 8   Top7    1989 non-null   object\n",
            " 9   Top8    1989 non-null   object\n",
            " 10  Top9    1989 non-null   object\n",
            " 11  Top10   1989 non-null   object\n",
            " 12  Top11   1989 non-null   object\n",
            " 13  Top12   1989 non-null   object\n",
            " 14  Top13   1989 non-null   object\n",
            " 15  Top14   1989 non-null   object\n",
            " 16  Top15   1989 non-null   object\n",
            " 17  Top16   1989 non-null   object\n",
            " 18  Top17   1989 non-null   object\n",
            " 19  Top18   1989 non-null   object\n",
            " 20  Top19   1989 non-null   object\n",
            " 21  Top20   1989 non-null   object\n",
            " 22  Top21   1989 non-null   object\n",
            " 23  Top22   1989 non-null   object\n",
            " 24  Top23   1988 non-null   object\n",
            " 25  Top24   1986 non-null   object\n",
            " 26  Top25   1986 non-null   object\n",
            "dtypes: int64(1), object(26)\n",
            "memory usage: 419.7+ KB\n"
          ]
        }
      ]
    },
    {
      "cell_type": "code",
      "metadata": {
        "colab": {
          "base_uri": "https://localhost:8080/"
        },
        "id": "foT-PpkI7hrP",
        "outputId": "0e4b0369-01d9-48f6-b7e5-7289fa9f71f3"
      },
      "source": [
        "# mengecek data yang kosong\n",
        "data.isnull().sum()"
      ],
      "execution_count": 7,
      "outputs": [
        {
          "output_type": "execute_result",
          "data": {
            "text/plain": [
              "Date     0\n",
              "Label    0\n",
              "Top1     0\n",
              "Top2     0\n",
              "Top3     0\n",
              "Top4     0\n",
              "Top5     0\n",
              "Top6     0\n",
              "Top7     0\n",
              "Top8     0\n",
              "Top9     0\n",
              "Top10    0\n",
              "Top11    0\n",
              "Top12    0\n",
              "Top13    0\n",
              "Top14    0\n",
              "Top15    0\n",
              "Top16    0\n",
              "Top17    0\n",
              "Top18    0\n",
              "Top19    0\n",
              "Top20    0\n",
              "Top21    0\n",
              "Top22    0\n",
              "Top23    1\n",
              "Top24    3\n",
              "Top25    3\n",
              "dtype: int64"
            ]
          },
          "metadata": {},
          "execution_count": 7
        }
      ]
    },
    {
      "cell_type": "code",
      "metadata": {
        "colab": {
          "base_uri": "https://localhost:8080/"
        },
        "id": "zAgKInMB7rnk",
        "outputId": "831cbd45-c53b-41c6-b970-1d027615859c"
      },
      "source": [
        "# distiribusi label target\n",
        "data.groupby('Label').size()"
      ],
      "execution_count": 8,
      "outputs": [
        {
          "output_type": "execute_result",
          "data": {
            "text/plain": [
              "Label\n",
              "0     924\n",
              "1    1065\n",
              "dtype: int64"
            ]
          },
          "metadata": {},
          "execution_count": 8
        }
      ]
    },
    {
      "cell_type": "markdown",
      "metadata": {
        "id": "Z9LtKWGOsQvk"
      },
      "source": [
        "# Preprocessing"
      ]
    },
    {
      "cell_type": "markdown",
      "metadata": {
        "id": "XmQB7hoQBBN1"
      },
      "source": [
        "Pertama, semua headline digabung menjadi satu kolom yaitu menjadi kolom headlines"
      ]
    },
    {
      "cell_type": "code",
      "metadata": {
        "id": "u1Z41n8k4sT0"
      },
      "source": [
        "data['headlines'] = data[data.columns[2:]].apply(lambda x: '. '.join(x.dropna().astype(str)),axis=1)"
      ],
      "execution_count": 9,
      "outputs": []
    },
    {
      "cell_type": "code",
      "metadata": {
        "colab": {
          "base_uri": "https://localhost:8080/"
        },
        "id": "qMWRemBO75zp",
        "outputId": "ed1bb7bd-1286-4f6e-fd47-b4beb8ac3427"
      },
      "source": [
        "data['headlines'].head(10)"
      ],
      "execution_count": 10,
      "outputs": [
        {
          "output_type": "execute_result",
          "data": {
            "text/plain": [
              "0    b\"Georgia 'downs two Russian warplanes' as cou...\n",
              "1    b'Why wont America and Nato help us? If they w...\n",
              "2    b'Remember that adorable 9-year-old who sang a...\n",
              "3    b' U.S. refuses Israel weapons to attack Iran:...\n",
              "4    b'All the experts admit that we should legalis...\n",
              "5    b\"Mom of missing gay man: Too bad he's not a 2...\n",
              "6    b'In an Afghan prison, the majority of female ...\n",
              "7    b\"Man arrested and locked up for five hours af...\n",
              "8    b'Two elderly Chinese women have been sentence...\n",
              "9    b\"British resident held in Guantanamo Bay wins...\n",
              "Name: headlines, dtype: object"
            ]
          },
          "metadata": {},
          "execution_count": 10
        }
      ]
    },
    {
      "cell_type": "code",
      "metadata": {
        "colab": {
          "base_uri": "https://localhost:8080/"
        },
        "id": "izJZQzfi8Cm0",
        "outputId": "3d5ef8bc-64c7-4e75-f7d0-3ee66fbbeec1"
      },
      "source": [
        "data.shape"
      ],
      "execution_count": 11,
      "outputs": [
        {
          "output_type": "execute_result",
          "data": {
            "text/plain": [
              "(1989, 28)"
            ]
          },
          "metadata": {},
          "execution_count": 11
        }
      ]
    },
    {
      "cell_type": "markdown",
      "metadata": {
        "id": "XZ5JeemmBQIr"
      },
      "source": [
        "Histogram dari panjang teks berita utama"
      ]
    },
    {
      "cell_type": "code",
      "metadata": {
        "id": "dCaQDBEL4zC8",
        "colab": {
          "base_uri": "https://localhost:8080/",
          "height": 282
        },
        "outputId": "1975c400-730f-4e85-e875-468cb9681a3d"
      },
      "source": [
        "data['comment_length'] = data['headlines'].apply(lambda x : len(x))\n",
        "data['comment_length'].hist()"
      ],
      "execution_count": 12,
      "outputs": [
        {
          "output_type": "execute_result",
          "data": {
            "text/plain": [
              "<matplotlib.axes._subplots.AxesSubplot at 0x7f2124a27e10>"
            ]
          },
          "metadata": {},
          "execution_count": 12
        },
        {
          "output_type": "display_data",
          "data": {
            "image/png": "[encoded data removed]",
            "text/plain": [
              "<Figure size 432x288 with 1 Axes>"
            ]
          },
          "metadata": {
            "needs_background": "light"
          }
        }
      ]
    },
    {
      "cell_type": "code",
      "metadata": {
        "colab": {
          "base_uri": "https://localhost:8080/"
        },
        "id": "KEd1Pi5M8JEs",
        "outputId": "1581cba3-e0e3-489a-e62a-1b1683a31264"
      },
      "source": [
        "data.isnull().sum()"
      ],
      "execution_count": 13,
      "outputs": [
        {
          "output_type": "execute_result",
          "data": {
            "text/plain": [
              "Date              0\n",
              "Label             0\n",
              "Top1              0\n",
              "Top2              0\n",
              "Top3              0\n",
              "Top4              0\n",
              "Top5              0\n",
              "Top6              0\n",
              "Top7              0\n",
              "Top8              0\n",
              "Top9              0\n",
              "Top10             0\n",
              "Top11             0\n",
              "Top12             0\n",
              "Top13             0\n",
              "Top14             0\n",
              "Top15             0\n",
              "Top16             0\n",
              "Top17             0\n",
              "Top18             0\n",
              "Top19             0\n",
              "Top20             0\n",
              "Top21             0\n",
              "Top22             0\n",
              "Top23             1\n",
              "Top24             3\n",
              "Top25             3\n",
              "headlines         0\n",
              "comment_length    0\n",
              "dtype: int64"
            ]
          },
          "metadata": {},
          "execution_count": 13
        }
      ]
    },
    {
      "cell_type": "markdown",
      "metadata": {
        "id": "8nithLQmBWtH"
      },
      "source": [
        "\n",
        "\n",
        "Distribution of labels\n"
      ]
    },
    {
      "cell_type": "code",
      "metadata": {
        "id": "Gb639tOm432A",
        "colab": {
          "base_uri": "https://localhost:8080/",
          "height": 282
        },
        "outputId": "0683b087-c923-4bf9-9aa4-26f93a447c66"
      },
      "source": [
        "data['Label'].hist()"
      ],
      "execution_count": 14,
      "outputs": [
        {
          "output_type": "execute_result",
          "data": {
            "text/plain": [
              "<matplotlib.axes._subplots.AxesSubplot at 0x7f2123b32b10>"
            ]
          },
          "metadata": {},
          "execution_count": 14
        },
        {
          "output_type": "display_data",
          "data": {
            "image/png": "[encoded data removed]",
            "text/plain": [
              "<Figure size 432x288 with 1 Axes>"
            ]
          },
          "metadata": {
            "needs_background": "light"
          }
        }
      ]
    },
    {
      "cell_type": "markdown",
      "metadata": {
        "id": "lIBefr3LBiID"
      },
      "source": [
        "Membagi data menjadi rangkaian train dan test. Seperti yang diusulkan, data hingga 31.12.2014 digunakan sebagai set train dan dua tahun berikutnya sebagai set test. Ini kira-kira pembagian 80%/20%."
      ]
    },
    {
      "cell_type": "code",
      "metadata": {
        "id": "FW7X_M7N46a_"
      },
      "source": [
        "train = data[data['Date'] < '2015-01-01']\n",
        "test = data[data['Date'] > '2014-12-31']"
      ],
      "execution_count": 15,
      "outputs": []
    },
    {
      "cell_type": "code",
      "metadata": {
        "colab": {
          "base_uri": "https://localhost:8080/"
        },
        "id": "TOb-Ck4V8VEx",
        "outputId": "84579a3b-37df-4cbc-88f0-ea82fcffd140"
      },
      "source": [
        "train.shape"
      ],
      "execution_count": 16,
      "outputs": [
        {
          "output_type": "execute_result",
          "data": {
            "text/plain": [
              "(1611, 29)"
            ]
          },
          "metadata": {},
          "execution_count": 16
        }
      ]
    },
    {
      "cell_type": "code",
      "metadata": {
        "colab": {
          "base_uri": "https://localhost:8080/"
        },
        "id": "lmWbeHJf8XLF",
        "outputId": "4f06d642-a4ba-4d26-c1dc-eee2b15cdad6"
      },
      "source": [
        "test.shape"
      ],
      "execution_count": 17,
      "outputs": [
        {
          "output_type": "execute_result",
          "data": {
            "text/plain": [
              "(378, 29)"
            ]
          },
          "metadata": {},
          "execution_count": 17
        }
      ]
    },
    {
      "cell_type": "markdown",
      "metadata": {
        "id": "aG1gzcKsbqV6"
      },
      "source": [
        "# TF-IDF dan Classifier"
      ]
    },
    {
      "cell_type": "markdown",
      "metadata": {
        "id": "tdxbsvQTb7uy"
      },
      "source": [
        "## TF-IDF"
      ]
    },
    {
      "cell_type": "markdown",
      "metadata": {
        "id": "jzg8A95RBq1R"
      },
      "source": [
        "Upaya pertama dengan Tf-idf dan Classifier sederhana\n",
        "\n",
        "Mulai dari berita utama harian, kalimat-kalimat tersebut diubah menjadi kata-kata dengan menggunakan RegexpTokenizer dari nltk. Lemmatisasi juga diterapkan. CustomTokenizer berikut mengambil alih tugas ini."
      ]
    },
    {
      "cell_type": "code",
      "metadata": {
        "id": "9PXER_jw5Ac_",
        "colab": {
          "base_uri": "https://localhost:8080/"
        },
        "outputId": "df53344b-146c-4325-8008-8d3580654712"
      },
      "source": [
        "import nltk\n",
        "nltk.download('wordnet')\n",
        "\n",
        "nltk.download('stopwords', quiet=True, raise_on_error=True)\n",
        "stop_words_en = set(nltk.corpus.stopwords.words('english'))\n",
        "stop_words_en.add(\"b\")\n",
        "\n",
        "class CustomTokenizer:\n",
        "    \n",
        "    def __init__(self):\n",
        "        self.wnl = WordNetLemmatizer()\n",
        "        self.tokenizer = nltk.tokenize.RegexpTokenizer(r'\\w+')\n",
        "        \n",
        "    def _lem(self, token):\n",
        "        if (token in stop_words_en):\n",
        "            return token  # Memecahkan kesalahan \"UserWarning: stop_words Anda mungkin tidak konsisten dengan prapemrosesan Anda.\"\n",
        "        return self.wnl.lemmatize(token)\n",
        "    \n",
        "    def __call__(self, doc):\n",
        "        return [self._lem(t) for t in self.tokenizer.tokenize(doc)]"
      ],
      "execution_count": 18,
      "outputs": [
        {
          "output_type": "stream",
          "name": "stdout",
          "text": [
            "[nltk_data] Downloading package wordnet to /root/nltk_data...\n",
            "[nltk_data]   Unzipping corpora/wordnet.zip.\n"
          ]
        }
      ]
    },
    {
      "cell_type": "markdown",
      "metadata": {
        "id": "CJFUB3ncBzSS"
      },
      "source": [
        "Menggunakan CustomTokenizer, TfidfVectorizer mengonversi kumpulan headline mentah menjadi matriks fitur TF-IDF.\n",
        "\n",
        "    Stopwords bahasa Inggris dihapus, semua kata diubah menjadi huruf kecil\n",
        "    Dengan ngram_range=(2,2) hanya kata-tupel yang dipertimbangkan\n",
        "    min_df dan max_df mengabaikan istilah yang memiliki frekuensi dokumen lebih rendah/lebih tinggi dari ambang batas yang diberikan (dalam persen)\n",
        "\n",
        "Untuk pemasangan vectorizer, hanya training set yang digunakan."
      ]
    },
    {
      "cell_type": "code",
      "metadata": {
        "id": "UfqHy1vL5BTM"
      },
      "source": [
        "vectorizer = CountVectorizer(tokenizer=CustomTokenizer(), stop_words=stop_words_en, lowercase=True, min_df=0.0075,  max_df=0.05, ngram_range=(2,2))\n",
        "\n",
        "features_train = vectorizer.fit_transform(train['headlines'].tolist())\n",
        "features_test = vectorizer.transform(test['headlines'].tolist())"
      ],
      "execution_count": 19,
      "outputs": []
    },
    {
      "cell_type": "code",
      "metadata": {
        "colab": {
          "base_uri": "https://localhost:8080/"
        },
        "id": "R22nEORx9EZ2",
        "outputId": "15535e82-43d0-4c1d-d553-3fb03c933d01"
      },
      "source": [
        "features_train.shape"
      ],
      "execution_count": 20,
      "outputs": [
        {
          "output_type": "execute_result",
          "data": {
            "text/plain": [
              "(1611, 1219)"
            ]
          },
          "metadata": {},
          "execution_count": 20
        }
      ]
    },
    {
      "cell_type": "code",
      "metadata": {
        "colab": {
          "base_uri": "https://localhost:8080/"
        },
        "id": "gDYShuep9Eoh",
        "outputId": "01ef2fe8-9068-426d-d318-95ee5b6ace1a"
      },
      "source": [
        "features_test.shape"
      ],
      "execution_count": 21,
      "outputs": [
        {
          "output_type": "execute_result",
          "data": {
            "text/plain": [
              "(378, 1219)"
            ]
          },
          "metadata": {},
          "execution_count": 21
        }
      ]
    },
    {
      "cell_type": "markdown",
      "metadata": {
        "id": "lwgvNwTeB-SN"
      },
      "source": [
        "Periksa nama fitur dan fitur TF-IDF"
      ]
    },
    {
      "cell_type": "code",
      "metadata": {
        "id": "I1k3XfQF5EsW",
        "colab": {
          "base_uri": "https://localhost:8080/",
          "height": 369
        },
        "outputId": "6ba6f168-1b86-44ad-f2de-0375d4890b41"
      },
      "source": [
        "feature_names = vectorizer.get_feature_names()\n",
        "print(feature_names[50:100])\n",
        "\n",
        "X_train = pd.DataFrame(features_train.todense(), columns = feature_names)\n",
        "X_test = pd.DataFrame(features_test.todense(), columns = feature_names)\n",
        "\n",
        "X_train.head()"
      ],
      "execution_count": 22,
      "outputs": [
        {
          "output_type": "stream",
          "name": "stdout",
          "text": [
            "['250 000', '3 000', '3 billion', '3 day', '3 million', '3 year', '30 000', '30 million', '30 year', '300 000', '300 million', '4 000', '4 5', '4 billion', '4 day', '4 million', '4 year', '40 000', '40 year', '48 hour', '5 000', '5 billion', '5 million', '5 year', '50 000', '50 million', '50 year', '500 000', '500 year', '6 000', '6 billion', '6 million', '6 month', '60 000', '60 year', '7 billion', '7 year', '70 000', '70 percent', '8 000', '8 year', '9 11', '9 year', 'abc news', 'abuse scandal', 'according new', 'according report', 'accuses u', 'acid attack', 'across country']\n"
          ]
        },
        {
          "output_type": "stream",
          "name": "stderr",
          "text": [
            "/usr/local/lib/python3.7/dist-packages/sklearn/utils/deprecation.py:87: FutureWarning: Function get_feature_names is deprecated; get_feature_names is deprecated in 1.0 and will be removed in 1.2. Please use get_feature_names_out instead.\n",
            "  warnings.warn(msg, category=FutureWarning)\n"
          ]
        },
        {
          "output_type": "execute_result",
          "data": {
            "text/html": [
              "\n",
              "  <div id=\"df-232eb930-e702-41e6-866c-43335841d3a9\">\n",
              "    <div class=\"colab-df-container\">\n",
              "      <div>\n",
              "<style scoped>\n",
              "    .dataframe tbody tr th:only-of-type {\n",
              "        vertical-align: middle;\n",
              "    }\n",
              "\n",
              "    .dataframe tbody tr th {\n",
              "        vertical-align: top;\n",
              "    }\n",
              "\n",
              "    .dataframe thead th {\n",
              "        text-align: right;\n",
              "    }\n",
              "</style>\n",
              "<table border=\"1\" class=\"dataframe\">\n",
              "  <thead>\n",
              "    <tr style=\"text-align: right;\">\n",
              "      <th></th>\n",
              "      <th>000 000</th>\n",
              "      <th>000 dead</th>\n",
              "      <th>000 euro</th>\n",
              "      <th>000 troop</th>\n",
              "      <th>000 year</th>\n",
              "      <th>1 2</th>\n",
              "      <th>1 3</th>\n",
              "      <th>1 4</th>\n",
              "      <th>1 5</th>\n",
              "      <th>1 500</th>\n",
              "      <th>1 6</th>\n",
              "      <th>1 billion</th>\n",
              "      <th>1 million</th>\n",
              "      <th>10 000</th>\n",
              "      <th>10 day</th>\n",
              "      <th>10 million</th>\n",
              "      <th>10 year</th>\n",
              "      <th>100 000</th>\n",
              "      <th>100 million</th>\n",
              "      <th>100 year</th>\n",
              "      <th>11 year</th>\n",
              "      <th>12 000</th>\n",
              "      <th>12 year</th>\n",
              "      <th>13 year</th>\n",
              "      <th>14 year</th>\n",
              "      <th>15 000</th>\n",
              "      <th>15 year</th>\n",
              "      <th>150 000</th>\n",
              "      <th>16 000</th>\n",
              "      <th>16 year</th>\n",
              "      <th>17 year</th>\n",
              "      <th>18 year</th>\n",
              "      <th>19 year</th>\n",
              "      <th>2 000</th>\n",
              "      <th>2 3</th>\n",
              "      <th>2 5</th>\n",
              "      <th>2 billion</th>\n",
              "      <th>2 day</th>\n",
              "      <th>2 million</th>\n",
              "      <th>2 year</th>\n",
              "      <th>...</th>\n",
              "      <th>wind farm</th>\n",
              "      <th>wind power</th>\n",
              "      <th>without border</th>\n",
              "      <th>without charge</th>\n",
              "      <th>woman arrested</th>\n",
              "      <th>woman child</th>\n",
              "      <th>woman girl</th>\n",
              "      <th>woman raped</th>\n",
              "      <th>woman right</th>\n",
              "      <th>woman sentenced</th>\n",
              "      <th>world bank</th>\n",
              "      <th>world biggest</th>\n",
              "      <th>world cup</th>\n",
              "      <th>world economy</th>\n",
              "      <th>world first</th>\n",
              "      <th>world health</th>\n",
              "      <th>world heritage</th>\n",
              "      <th>world largest</th>\n",
              "      <th>world leader</th>\n",
              "      <th>world news</th>\n",
              "      <th>world oldest</th>\n",
              "      <th>world population</th>\n",
              "      <th>world richest</th>\n",
              "      <th>would allow</th>\n",
              "      <th>would like</th>\n",
              "      <th>would make</th>\n",
              "      <th>x post</th>\n",
              "      <th>xpost r</th>\n",
              "      <th>year jail</th>\n",
              "      <th>year later</th>\n",
              "      <th>year since</th>\n",
              "      <th>year u</th>\n",
              "      <th>year world</th>\n",
              "      <th>york time</th>\n",
              "      <th>young child</th>\n",
              "      <th>young girl</th>\n",
              "      <th>young men</th>\n",
              "      <th>young people</th>\n",
              "      <th>young woman</th>\n",
              "      <th>yr old</th>\n",
              "    </tr>\n",
              "  </thead>\n",
              "  <tbody>\n",
              "    <tr>\n",
              "      <th>0</th>\n",
              "      <td>0</td>\n",
              "      <td>0</td>\n",
              "      <td>0</td>\n",
              "      <td>0</td>\n",
              "      <td>0</td>\n",
              "      <td>1</td>\n",
              "      <td>0</td>\n",
              "      <td>0</td>\n",
              "      <td>0</td>\n",
              "      <td>0</td>\n",
              "      <td>0</td>\n",
              "      <td>0</td>\n",
              "      <td>0</td>\n",
              "      <td>0</td>\n",
              "      <td>0</td>\n",
              "      <td>0</td>\n",
              "      <td>0</td>\n",
              "      <td>0</td>\n",
              "      <td>0</td>\n",
              "      <td>0</td>\n",
              "      <td>0</td>\n",
              "      <td>0</td>\n",
              "      <td>0</td>\n",
              "      <td>0</td>\n",
              "      <td>0</td>\n",
              "      <td>0</td>\n",
              "      <td>0</td>\n",
              "      <td>0</td>\n",
              "      <td>0</td>\n",
              "      <td>0</td>\n",
              "      <td>0</td>\n",
              "      <td>0</td>\n",
              "      <td>0</td>\n",
              "      <td>0</td>\n",
              "      <td>0</td>\n",
              "      <td>0</td>\n",
              "      <td>0</td>\n",
              "      <td>0</td>\n",
              "      <td>0</td>\n",
              "      <td>1</td>\n",
              "      <td>...</td>\n",
              "      <td>0</td>\n",
              "      <td>0</td>\n",
              "      <td>0</td>\n",
              "      <td>0</td>\n",
              "      <td>0</td>\n",
              "      <td>0</td>\n",
              "      <td>0</td>\n",
              "      <td>0</td>\n",
              "      <td>0</td>\n",
              "      <td>0</td>\n",
              "      <td>0</td>\n",
              "      <td>0</td>\n",
              "      <td>0</td>\n",
              "      <td>0</td>\n",
              "      <td>0</td>\n",
              "      <td>0</td>\n",
              "      <td>0</td>\n",
              "      <td>0</td>\n",
              "      <td>0</td>\n",
              "      <td>0</td>\n",
              "      <td>0</td>\n",
              "      <td>0</td>\n",
              "      <td>0</td>\n",
              "      <td>0</td>\n",
              "      <td>0</td>\n",
              "      <td>0</td>\n",
              "      <td>0</td>\n",
              "      <td>0</td>\n",
              "      <td>0</td>\n",
              "      <td>0</td>\n",
              "      <td>0</td>\n",
              "      <td>0</td>\n",
              "      <td>0</td>\n",
              "      <td>0</td>\n",
              "      <td>0</td>\n",
              "      <td>0</td>\n",
              "      <td>0</td>\n",
              "      <td>0</td>\n",
              "      <td>0</td>\n",
              "      <td>0</td>\n",
              "    </tr>\n",
              "    <tr>\n",
              "      <th>1</th>\n",
              "      <td>0</td>\n",
              "      <td>0</td>\n",
              "      <td>0</td>\n",
              "      <td>0</td>\n",
              "      <td>0</td>\n",
              "      <td>0</td>\n",
              "      <td>0</td>\n",
              "      <td>0</td>\n",
              "      <td>0</td>\n",
              "      <td>0</td>\n",
              "      <td>0</td>\n",
              "      <td>0</td>\n",
              "      <td>0</td>\n",
              "      <td>0</td>\n",
              "      <td>0</td>\n",
              "      <td>0</td>\n",
              "      <td>0</td>\n",
              "      <td>0</td>\n",
              "      <td>0</td>\n",
              "      <td>0</td>\n",
              "      <td>0</td>\n",
              "      <td>0</td>\n",
              "      <td>0</td>\n",
              "      <td>0</td>\n",
              "      <td>0</td>\n",
              "      <td>0</td>\n",
              "      <td>0</td>\n",
              "      <td>0</td>\n",
              "      <td>0</td>\n",
              "      <td>0</td>\n",
              "      <td>0</td>\n",
              "      <td>0</td>\n",
              "      <td>0</td>\n",
              "      <td>0</td>\n",
              "      <td>0</td>\n",
              "      <td>0</td>\n",
              "      <td>0</td>\n",
              "      <td>0</td>\n",
              "      <td>0</td>\n",
              "      <td>0</td>\n",
              "      <td>...</td>\n",
              "      <td>0</td>\n",
              "      <td>0</td>\n",
              "      <td>0</td>\n",
              "      <td>0</td>\n",
              "      <td>0</td>\n",
              "      <td>0</td>\n",
              "      <td>0</td>\n",
              "      <td>0</td>\n",
              "      <td>0</td>\n",
              "      <td>0</td>\n",
              "      <td>0</td>\n",
              "      <td>0</td>\n",
              "      <td>0</td>\n",
              "      <td>0</td>\n",
              "      <td>0</td>\n",
              "      <td>0</td>\n",
              "      <td>0</td>\n",
              "      <td>0</td>\n",
              "      <td>0</td>\n",
              "      <td>0</td>\n",
              "      <td>0</td>\n",
              "      <td>0</td>\n",
              "      <td>0</td>\n",
              "      <td>0</td>\n",
              "      <td>0</td>\n",
              "      <td>0</td>\n",
              "      <td>0</td>\n",
              "      <td>0</td>\n",
              "      <td>0</td>\n",
              "      <td>0</td>\n",
              "      <td>0</td>\n",
              "      <td>0</td>\n",
              "      <td>0</td>\n",
              "      <td>0</td>\n",
              "      <td>0</td>\n",
              "      <td>0</td>\n",
              "      <td>0</td>\n",
              "      <td>0</td>\n",
              "      <td>0</td>\n",
              "      <td>0</td>\n",
              "    </tr>\n",
              "    <tr>\n",
              "      <th>2</th>\n",
              "      <td>0</td>\n",
              "      <td>0</td>\n",
              "      <td>0</td>\n",
              "      <td>0</td>\n",
              "      <td>0</td>\n",
              "      <td>0</td>\n",
              "      <td>0</td>\n",
              "      <td>0</td>\n",
              "      <td>0</td>\n",
              "      <td>0</td>\n",
              "      <td>0</td>\n",
              "      <td>0</td>\n",
              "      <td>0</td>\n",
              "      <td>0</td>\n",
              "      <td>0</td>\n",
              "      <td>0</td>\n",
              "      <td>0</td>\n",
              "      <td>0</td>\n",
              "      <td>0</td>\n",
              "      <td>0</td>\n",
              "      <td>0</td>\n",
              "      <td>0</td>\n",
              "      <td>0</td>\n",
              "      <td>0</td>\n",
              "      <td>0</td>\n",
              "      <td>0</td>\n",
              "      <td>0</td>\n",
              "      <td>0</td>\n",
              "      <td>0</td>\n",
              "      <td>0</td>\n",
              "      <td>0</td>\n",
              "      <td>0</td>\n",
              "      <td>0</td>\n",
              "      <td>0</td>\n",
              "      <td>0</td>\n",
              "      <td>0</td>\n",
              "      <td>0</td>\n",
              "      <td>0</td>\n",
              "      <td>0</td>\n",
              "      <td>0</td>\n",
              "      <td>...</td>\n",
              "      <td>0</td>\n",
              "      <td>0</td>\n",
              "      <td>0</td>\n",
              "      <td>0</td>\n",
              "      <td>0</td>\n",
              "      <td>0</td>\n",
              "      <td>0</td>\n",
              "      <td>0</td>\n",
              "      <td>0</td>\n",
              "      <td>0</td>\n",
              "      <td>0</td>\n",
              "      <td>0</td>\n",
              "      <td>0</td>\n",
              "      <td>0</td>\n",
              "      <td>0</td>\n",
              "      <td>0</td>\n",
              "      <td>0</td>\n",
              "      <td>0</td>\n",
              "      <td>0</td>\n",
              "      <td>0</td>\n",
              "      <td>0</td>\n",
              "      <td>0</td>\n",
              "      <td>0</td>\n",
              "      <td>0</td>\n",
              "      <td>0</td>\n",
              "      <td>0</td>\n",
              "      <td>0</td>\n",
              "      <td>0</td>\n",
              "      <td>0</td>\n",
              "      <td>0</td>\n",
              "      <td>0</td>\n",
              "      <td>0</td>\n",
              "      <td>0</td>\n",
              "      <td>0</td>\n",
              "      <td>0</td>\n",
              "      <td>0</td>\n",
              "      <td>0</td>\n",
              "      <td>0</td>\n",
              "      <td>0</td>\n",
              "      <td>0</td>\n",
              "    </tr>\n",
              "    <tr>\n",
              "      <th>3</th>\n",
              "      <td>0</td>\n",
              "      <td>0</td>\n",
              "      <td>0</td>\n",
              "      <td>0</td>\n",
              "      <td>0</td>\n",
              "      <td>0</td>\n",
              "      <td>0</td>\n",
              "      <td>0</td>\n",
              "      <td>0</td>\n",
              "      <td>0</td>\n",
              "      <td>0</td>\n",
              "      <td>0</td>\n",
              "      <td>0</td>\n",
              "      <td>0</td>\n",
              "      <td>0</td>\n",
              "      <td>1</td>\n",
              "      <td>0</td>\n",
              "      <td>0</td>\n",
              "      <td>0</td>\n",
              "      <td>0</td>\n",
              "      <td>0</td>\n",
              "      <td>0</td>\n",
              "      <td>0</td>\n",
              "      <td>0</td>\n",
              "      <td>1</td>\n",
              "      <td>0</td>\n",
              "      <td>0</td>\n",
              "      <td>0</td>\n",
              "      <td>0</td>\n",
              "      <td>0</td>\n",
              "      <td>0</td>\n",
              "      <td>0</td>\n",
              "      <td>0</td>\n",
              "      <td>0</td>\n",
              "      <td>0</td>\n",
              "      <td>0</td>\n",
              "      <td>0</td>\n",
              "      <td>0</td>\n",
              "      <td>0</td>\n",
              "      <td>0</td>\n",
              "      <td>...</td>\n",
              "      <td>0</td>\n",
              "      <td>0</td>\n",
              "      <td>0</td>\n",
              "      <td>0</td>\n",
              "      <td>0</td>\n",
              "      <td>0</td>\n",
              "      <td>0</td>\n",
              "      <td>0</td>\n",
              "      <td>0</td>\n",
              "      <td>0</td>\n",
              "      <td>0</td>\n",
              "      <td>0</td>\n",
              "      <td>0</td>\n",
              "      <td>0</td>\n",
              "      <td>0</td>\n",
              "      <td>0</td>\n",
              "      <td>0</td>\n",
              "      <td>0</td>\n",
              "      <td>0</td>\n",
              "      <td>0</td>\n",
              "      <td>0</td>\n",
              "      <td>0</td>\n",
              "      <td>0</td>\n",
              "      <td>0</td>\n",
              "      <td>0</td>\n",
              "      <td>0</td>\n",
              "      <td>0</td>\n",
              "      <td>0</td>\n",
              "      <td>0</td>\n",
              "      <td>0</td>\n",
              "      <td>0</td>\n",
              "      <td>0</td>\n",
              "      <td>0</td>\n",
              "      <td>0</td>\n",
              "      <td>0</td>\n",
              "      <td>0</td>\n",
              "      <td>0</td>\n",
              "      <td>0</td>\n",
              "      <td>0</td>\n",
              "      <td>0</td>\n",
              "    </tr>\n",
              "    <tr>\n",
              "      <th>4</th>\n",
              "      <td>0</td>\n",
              "      <td>0</td>\n",
              "      <td>0</td>\n",
              "      <td>0</td>\n",
              "      <td>0</td>\n",
              "      <td>0</td>\n",
              "      <td>0</td>\n",
              "      <td>0</td>\n",
              "      <td>0</td>\n",
              "      <td>0</td>\n",
              "      <td>0</td>\n",
              "      <td>0</td>\n",
              "      <td>0</td>\n",
              "      <td>0</td>\n",
              "      <td>0</td>\n",
              "      <td>0</td>\n",
              "      <td>0</td>\n",
              "      <td>0</td>\n",
              "      <td>0</td>\n",
              "      <td>0</td>\n",
              "      <td>0</td>\n",
              "      <td>0</td>\n",
              "      <td>0</td>\n",
              "      <td>0</td>\n",
              "      <td>0</td>\n",
              "      <td>0</td>\n",
              "      <td>0</td>\n",
              "      <td>0</td>\n",
              "      <td>0</td>\n",
              "      <td>0</td>\n",
              "      <td>0</td>\n",
              "      <td>0</td>\n",
              "      <td>0</td>\n",
              "      <td>1</td>\n",
              "      <td>0</td>\n",
              "      <td>0</td>\n",
              "      <td>0</td>\n",
              "      <td>1</td>\n",
              "      <td>0</td>\n",
              "      <td>0</td>\n",
              "      <td>...</td>\n",
              "      <td>0</td>\n",
              "      <td>0</td>\n",
              "      <td>0</td>\n",
              "      <td>0</td>\n",
              "      <td>0</td>\n",
              "      <td>0</td>\n",
              "      <td>0</td>\n",
              "      <td>0</td>\n",
              "      <td>0</td>\n",
              "      <td>0</td>\n",
              "      <td>0</td>\n",
              "      <td>0</td>\n",
              "      <td>0</td>\n",
              "      <td>0</td>\n",
              "      <td>0</td>\n",
              "      <td>0</td>\n",
              "      <td>0</td>\n",
              "      <td>0</td>\n",
              "      <td>0</td>\n",
              "      <td>1</td>\n",
              "      <td>0</td>\n",
              "      <td>0</td>\n",
              "      <td>0</td>\n",
              "      <td>0</td>\n",
              "      <td>0</td>\n",
              "      <td>0</td>\n",
              "      <td>0</td>\n",
              "      <td>0</td>\n",
              "      <td>0</td>\n",
              "      <td>0</td>\n",
              "      <td>0</td>\n",
              "      <td>0</td>\n",
              "      <td>1</td>\n",
              "      <td>0</td>\n",
              "      <td>0</td>\n",
              "      <td>0</td>\n",
              "      <td>0</td>\n",
              "      <td>0</td>\n",
              "      <td>0</td>\n",
              "      <td>0</td>\n",
              "    </tr>\n",
              "  </tbody>\n",
              "</table>\n",
              "<p>5 rows × 1219 columns</p>\n",
              "</div>\n",
              "      <button class=\"colab-df-convert\" onclick=\"convertToInteractive('df-232eb930-e702-41e6-866c-43335841d3a9')\"\n",
              "              title=\"Convert this dataframe to an interactive table.\"\n",
              "              style=\"display:none;\">\n",
              "        \n",
              "  <svg xmlns=\"http://www.w3.org/2000/svg\" height=\"24px\"viewBox=\"0 0 24 24\"\n",
              "       width=\"24px\">\n",
              "    <path d=\"M0 0h24v24H0V0z\" fill=\"none\"/>\n",
              "    <path d=\"M18.56 5.44l.94 2.06.94-2.06 2.06-.94-2.06-.94-.94-2.06-.94 2.06-2.06.94zm-11 1L8.5 8.5l.94-2.06 2.06-.94-2.06-.94L8.5 2.5l-.94 2.06-2.06.94zm10 10l.94 2.06.94-2.06 2.06-.94-2.06-.94-.94-2.06-.94 2.06-2.06.94z\"/><path d=\"M17.41 7.96l-1.37-1.37c-.4-.4-.92-.59-1.43-.59-.52 0-1.04.2-1.43.59L10.3 9.45l-7.72 7.72c-.78.78-.78 2.05 0 2.83L4 21.41c.39.39.9.59 1.41.59.51 0 1.02-.2 1.41-.59l7.78-7.78 2.81-2.81c.8-.78.8-2.07 0-2.86zM5.41 20L4 18.59l7.72-7.72 1.47 1.35L5.41 20z\"/>\n",
              "  </svg>\n",
              "      </button>\n",
              "      \n",
              "  <style>\n",
              "    .colab-df-container {\n",
              "      display:flex;\n",
              "      flex-wrap:wrap;\n",
              "      gap: 12px;\n",
              "    }\n",
              "\n",
              "    .colab-df-convert {\n",
              "      background-color: #E8F0FE;\n",
              "      border: none;\n",
              "      border-radius: 50%;\n",
              "      cursor: pointer;\n",
              "      display: none;\n",
              "      fill: #1967D2;\n",
              "      height: 32px;\n",
              "      padding: 0 0 0 0;\n",
              "      width: 32px;\n",
              "    }\n",
              "\n",
              "    .colab-df-convert:hover {\n",
              "      background-color: #E2EBFA;\n",
              "      box-shadow: 0px 1px 2px rgba(60, 64, 67, 0.3), 0px 1px 3px 1px rgba(60, 64, 67, 0.15);\n",
              "      fill: #174EA6;\n",
              "    }\n",
              "\n",
              "    [theme=dark] .colab-df-convert {\n",
              "      background-color: #3B4455;\n",
              "      fill: #D2E3FC;\n",
              "    }\n",
              "\n",
              "    [theme=dark] .colab-df-convert:hover {\n",
              "      background-color: #434B5C;\n",
              "      box-shadow: 0px 1px 3px 1px rgba(0, 0, 0, 0.15);\n",
              "      filter: drop-shadow(0px 1px 2px rgba(0, 0, 0, 0.3));\n",
              "      fill: #FFFFFF;\n",
              "    }\n",
              "  </style>\n",
              "\n",
              "      <script>\n",
              "        const buttonEl =\n",
              "          document.querySelector('#df-232eb930-e702-41e6-866c-43335841d3a9 button.colab-df-convert');\n",
              "        buttonEl.style.display =\n",
              "          google.colab.kernel.accessAllowed ? 'block' : 'none';\n",
              "\n",
              "        async function convertToInteractive(key) {\n",
              "          const element = document.querySelector('#df-232eb930-e702-41e6-866c-43335841d3a9');\n",
              "          const dataTable =\n",
              "            await google.colab.kernel.invokeFunction('convertToInteractive',\n",
              "                                                     [key], {});\n",
              "          if (!dataTable) return;\n",
              "\n",
              "          const docLinkHtml = 'Like what you see? Visit the ' +\n",
              "            '<a target=\"_blank\" href=https://colab.research.google.com/notebooks/data_table.ipynb>data table notebook</a>'\n",
              "            + ' to learn more about interactive tables.';\n",
              "          element.innerHTML = '';\n",
              "          dataTable['output_type'] = 'display_data';\n",
              "          await google.colab.output.renderOutput(dataTable, element);\n",
              "          const docLink = document.createElement('div');\n",
              "          docLink.innerHTML = docLinkHtml;\n",
              "          element.appendChild(docLink);\n",
              "        }\n",
              "      </script>\n",
              "    </div>\n",
              "  </div>\n",
              "  "
            ],
            "text/plain": [
              "   000 000  000 dead  000 euro  ...  young people  young woman  yr old\n",
              "0        0         0         0  ...             0            0       0\n",
              "1        0         0         0  ...             0            0       0\n",
              "2        0         0         0  ...             0            0       0\n",
              "3        0         0         0  ...             0            0       0\n",
              "4        0         0         0  ...             0            0       0\n",
              "\n",
              "[5 rows x 1219 columns]"
            ]
          },
          "metadata": {},
          "execution_count": 22
        }
      ]
    },
    {
      "cell_type": "code",
      "metadata": {
        "id": "M3bQTsNt5IQD",
        "colab": {
          "base_uri": "https://localhost:8080/",
          "height": 206
        },
        "outputId": "477f5520-9643-4ce7-b817-6f931499fcab"
      },
      "source": [
        "from collections import defaultdict\n",
        "\n",
        "up_unigrams = defaultdict(int)\n",
        "down_unigrams = defaultdict(int)\n",
        "\n",
        "for word in feature_names:\n",
        "    up_unigrams[word] += np.sum(X_train[train['Label']==1][word])\n",
        "    down_unigrams[word] += np.sum(X_train[train['Label']==0][word])\n",
        "        \n",
        "df_up_unigrams = pd.DataFrame(sorted(up_unigrams.items(), key=lambda x: x[1])[::-1])\n",
        "df_down_unigrams = pd.DataFrame(sorted(down_unigrams.items(), key=lambda x: x[1])[::-1])\n",
        "df_up_unigrams.head()"
      ],
      "execution_count": 23,
      "outputs": [
        {
          "output_type": "execute_result",
          "data": {
            "text/html": [
              "\n",
              "  <div id=\"df-3882f5a6-43a4-44d7-8903-9521f12234f9\">\n",
              "    <div class=\"colab-df-container\">\n",
              "      <div>\n",
              "<style scoped>\n",
              "    .dataframe tbody tr th:only-of-type {\n",
              "        vertical-align: middle;\n",
              "    }\n",
              "\n",
              "    .dataframe tbody tr th {\n",
              "        vertical-align: top;\n",
              "    }\n",
              "\n",
              "    .dataframe thead th {\n",
              "        text-align: right;\n",
              "    }\n",
              "</style>\n",
              "<table border=\"1\" class=\"dataframe\">\n",
              "  <thead>\n",
              "    <tr style=\"text-align: right;\">\n",
              "      <th></th>\n",
              "      <th>0</th>\n",
              "      <th>1</th>\n",
              "    </tr>\n",
              "  </thead>\n",
              "  <tbody>\n",
              "    <tr>\n",
              "      <th>0</th>\n",
              "      <td>islamic state</td>\n",
              "      <td>73</td>\n",
              "    </tr>\n",
              "    <tr>\n",
              "      <th>1</th>\n",
              "      <td>world cup</td>\n",
              "      <td>60</td>\n",
              "    </tr>\n",
              "    <tr>\n",
              "      <th>2</th>\n",
              "      <td>bin laden</td>\n",
              "      <td>51</td>\n",
              "    </tr>\n",
              "    <tr>\n",
              "      <th>3</th>\n",
              "      <td>supreme court</td>\n",
              "      <td>50</td>\n",
              "    </tr>\n",
              "    <tr>\n",
              "      <th>4</th>\n",
              "      <td>right group</td>\n",
              "      <td>50</td>\n",
              "    </tr>\n",
              "  </tbody>\n",
              "</table>\n",
              "</div>\n",
              "      <button class=\"colab-df-convert\" onclick=\"convertToInteractive('df-3882f5a6-43a4-44d7-8903-9521f12234f9')\"\n",
              "              title=\"Convert this dataframe to an interactive table.\"\n",
              "              style=\"display:none;\">\n",
              "        \n",
              "  <svg xmlns=\"http://www.w3.org/2000/svg\" height=\"24px\"viewBox=\"0 0 24 24\"\n",
              "       width=\"24px\">\n",
              "    <path d=\"M0 0h24v24H0V0z\" fill=\"none\"/>\n",
              "    <path d=\"M18.56 5.44l.94 2.06.94-2.06 2.06-.94-2.06-.94-.94-2.06-.94 2.06-2.06.94zm-11 1L8.5 8.5l.94-2.06 2.06-.94-2.06-.94L8.5 2.5l-.94 2.06-2.06.94zm10 10l.94 2.06.94-2.06 2.06-.94-2.06-.94-.94-2.06-.94 2.06-2.06.94z\"/><path d=\"M17.41 7.96l-1.37-1.37c-.4-.4-.92-.59-1.43-.59-.52 0-1.04.2-1.43.59L10.3 9.45l-7.72 7.72c-.78.78-.78 2.05 0 2.83L4 21.41c.39.39.9.59 1.41.59.51 0 1.02-.2 1.41-.59l7.78-7.78 2.81-2.81c.8-.78.8-2.07 0-2.86zM5.41 20L4 18.59l7.72-7.72 1.47 1.35L5.41 20z\"/>\n",
              "  </svg>\n",
              "      </button>\n",
              "      \n",
              "  <style>\n",
              "    .colab-df-container {\n",
              "      display:flex;\n",
              "      flex-wrap:wrap;\n",
              "      gap: 12px;\n",
              "    }\n",
              "\n",
              "    .colab-df-convert {\n",
              "      background-color: #E8F0FE;\n",
              "      border: none;\n",
              "      border-radius: 50%;\n",
              "      cursor: pointer;\n",
              "      display: none;\n",
              "      fill: #1967D2;\n",
              "      height: 32px;\n",
              "      padding: 0 0 0 0;\n",
              "      width: 32px;\n",
              "    }\n",
              "\n",
              "    .colab-df-convert:hover {\n",
              "      background-color: #E2EBFA;\n",
              "      box-shadow: 0px 1px 2px rgba(60, 64, 67, 0.3), 0px 1px 3px 1px rgba(60, 64, 67, 0.15);\n",
              "      fill: #174EA6;\n",
              "    }\n",
              "\n",
              "    [theme=dark] .colab-df-convert {\n",
              "      background-color: #3B4455;\n",
              "      fill: #D2E3FC;\n",
              "    }\n",
              "\n",
              "    [theme=dark] .colab-df-convert:hover {\n",
              "      background-color: #434B5C;\n",
              "      box-shadow: 0px 1px 3px 1px rgba(0, 0, 0, 0.15);\n",
              "      filter: drop-shadow(0px 1px 2px rgba(0, 0, 0, 0.3));\n",
              "      fill: #FFFFFF;\n",
              "    }\n",
              "  </style>\n",
              "\n",
              "      <script>\n",
              "        const buttonEl =\n",
              "          document.querySelector('#df-3882f5a6-43a4-44d7-8903-9521f12234f9 button.colab-df-convert');\n",
              "        buttonEl.style.display =\n",
              "          google.colab.kernel.accessAllowed ? 'block' : 'none';\n",
              "\n",
              "        async function convertToInteractive(key) {\n",
              "          const element = document.querySelector('#df-3882f5a6-43a4-44d7-8903-9521f12234f9');\n",
              "          const dataTable =\n",
              "            await google.colab.kernel.invokeFunction('convertToInteractive',\n",
              "                                                     [key], {});\n",
              "          if (!dataTable) return;\n",
              "\n",
              "          const docLinkHtml = 'Like what you see? Visit the ' +\n",
              "            '<a target=\"_blank\" href=https://colab.research.google.com/notebooks/data_table.ipynb>data table notebook</a>'\n",
              "            + ' to learn more about interactive tables.';\n",
              "          element.innerHTML = '';\n",
              "          dataTable['output_type'] = 'display_data';\n",
              "          await google.colab.output.renderOutput(dataTable, element);\n",
              "          const docLink = document.createElement('div');\n",
              "          docLink.innerHTML = docLinkHtml;\n",
              "          element.appendChild(docLink);\n",
              "        }\n",
              "      </script>\n",
              "    </div>\n",
              "  </div>\n",
              "  "
            ],
            "text/plain": [
              "               0   1\n",
              "0  islamic state  73\n",
              "1      world cup  60\n",
              "2      bin laden  51\n",
              "3  supreme court  50\n",
              "4    right group  50"
            ]
          },
          "metadata": {},
          "execution_count": 23
        }
      ]
    },
    {
      "cell_type": "code",
      "metadata": {
        "colab": {
          "base_uri": "https://localhost:8080/",
          "height": 416
        },
        "id": "eccQoXOvCNx0",
        "outputId": "00347d9e-e044-4d80-dab1-8272a695440b"
      },
      "source": [
        "import seaborn as sns\n",
        "\n",
        "N=25\n",
        "\n",
        "fig, axes = plt.subplots(ncols=2, figsize=(15, 10), dpi=100)\n",
        "plt.tight_layout()\n",
        "\n",
        "sns.barplot(y=df_up_unigrams[0].values[:N], x=df_up_unigrams[1].values[:N], ax=axes[0], color='green')\n",
        "sns.barplot(y=df_down_unigrams[0].values[:N], x=df_down_unigrams[1].values[:N], ax=axes[1], color='red')\n",
        "\n",
        "for i in range(2):\n",
        "    axes[i].spines['right'].set_visible(False)\n",
        "    axes[i].set_xlabel('')\n",
        "    axes[i].set_ylabel('')\n",
        "    axes[i].tick_params(axis='x', labelsize=10)\n",
        "    axes[i].tick_params(axis='y', labelsize=10)\n",
        "\n",
        "axes[0].set_title(f'Top {N} most common unigrams in headlines resulting in stock up', fontsize=15)\n",
        "axes[1].set_title(f'Top {N} most common unigrams in headlines resulting in stock down', fontsize=15)\n",
        "\n",
        "plt.show()"
      ],
      "execution_count": 24,
      "outputs": [
        {
          "output_type": "display_data",
          "data": {
            "image/png": "[encoded data removed]",
            "text/plain": [
              "<Figure size 1500x1000 with 2 Axes>"
            ]
          },
          "metadata": {
            "needs_background": "light"
          }
        }
      ]
    },
    {
      "cell_type": "markdown",
      "metadata": {
        "id": "JpWfpriCCTmf"
      },
      "source": [
        "## Use SVC Classifier to predict test data"
      ]
    },
    {
      "cell_type": "code",
      "metadata": {
        "id": "9PiXzHV55MSX",
        "colab": {
          "base_uri": "https://localhost:8080/",
          "height": 161
        },
        "outputId": "2da044a7-9c2a-4007-a851-e43771ee426d"
      },
      "source": [
        "# Model SVM\n",
        "clf = SVC()\n",
        "clf = clf.fit(X_train, train[\"Label\"].tolist())\n",
        "print('Accuracy X_train: ' + str(clf.score(X_train, train[\"Label\"].tolist())))\n",
        "\n",
        "# Evaluasi Model SVM\n",
        "predictions = clf.predict(X_test)\n",
        "pd.crosstab(test[\"Label\"], predictions, rownames=[\"Actual\"], colnames=[\"Predicted\"])"
      ],
      "execution_count": 25,
      "outputs": [
        {
          "output_type": "stream",
          "name": "stdout",
          "text": [
            "Accuracy X_train: 0.9621353196772191\n"
          ]
        },
        {
          "output_type": "execute_result",
          "data": {
            "text/html": [
              "\n",
              "  <div id=\"df-c3808cf5-49a7-4e8d-a07c-a455992c4e55\">\n",
              "    <div class=\"colab-df-container\">\n",
              "      <div>\n",
              "<style scoped>\n",
              "    .dataframe tbody tr th:only-of-type {\n",
              "        vertical-align: middle;\n",
              "    }\n",
              "\n",
              "    .dataframe tbody tr th {\n",
              "        vertical-align: top;\n",
              "    }\n",
              "\n",
              "    .dataframe thead th {\n",
              "        text-align: right;\n",
              "    }\n",
              "</style>\n",
              "<table border=\"1\" class=\"dataframe\">\n",
              "  <thead>\n",
              "    <tr style=\"text-align: right;\">\n",
              "      <th>Predicted</th>\n",
              "      <th>0</th>\n",
              "      <th>1</th>\n",
              "    </tr>\n",
              "    <tr>\n",
              "      <th>Actual</th>\n",
              "      <th></th>\n",
              "      <th></th>\n",
              "    </tr>\n",
              "  </thead>\n",
              "  <tbody>\n",
              "    <tr>\n",
              "      <th>0</th>\n",
              "      <td>36</td>\n",
              "      <td>150</td>\n",
              "    </tr>\n",
              "    <tr>\n",
              "      <th>1</th>\n",
              "      <td>30</td>\n",
              "      <td>162</td>\n",
              "    </tr>\n",
              "  </tbody>\n",
              "</table>\n",
              "</div>\n",
              "      <button class=\"colab-df-convert\" onclick=\"convertToInteractive('df-c3808cf5-49a7-4e8d-a07c-a455992c4e55')\"\n",
              "              title=\"Convert this dataframe to an interactive table.\"\n",
              "              style=\"display:none;\">\n",
              "        \n",
              "  <svg xmlns=\"http://www.w3.org/2000/svg\" height=\"24px\"viewBox=\"0 0 24 24\"\n",
              "       width=\"24px\">\n",
              "    <path d=\"M0 0h24v24H0V0z\" fill=\"none\"/>\n",
              "    <path d=\"M18.56 5.44l.94 2.06.94-2.06 2.06-.94-2.06-.94-.94-2.06-.94 2.06-2.06.94zm-11 1L8.5 8.5l.94-2.06 2.06-.94-2.06-.94L8.5 2.5l-.94 2.06-2.06.94zm10 10l.94 2.06.94-2.06 2.06-.94-2.06-.94-.94-2.06-.94 2.06-2.06.94z\"/><path d=\"M17.41 7.96l-1.37-1.37c-.4-.4-.92-.59-1.43-.59-.52 0-1.04.2-1.43.59L10.3 9.45l-7.72 7.72c-.78.78-.78 2.05 0 2.83L4 21.41c.39.39.9.59 1.41.59.51 0 1.02-.2 1.41-.59l7.78-7.78 2.81-2.81c.8-.78.8-2.07 0-2.86zM5.41 20L4 18.59l7.72-7.72 1.47 1.35L5.41 20z\"/>\n",
              "  </svg>\n",
              "      </button>\n",
              "      \n",
              "  <style>\n",
              "    .colab-df-container {\n",
              "      display:flex;\n",
              "      flex-wrap:wrap;\n",
              "      gap: 12px;\n",
              "    }\n",
              "\n",
              "    .colab-df-convert {\n",
              "      background-color: #E8F0FE;\n",
              "      border: none;\n",
              "      border-radius: 50%;\n",
              "      cursor: pointer;\n",
              "      display: none;\n",
              "      fill: #1967D2;\n",
              "      height: 32px;\n",
              "      padding: 0 0 0 0;\n",
              "      width: 32px;\n",
              "    }\n",
              "\n",
              "    .colab-df-convert:hover {\n",
              "      background-color: #E2EBFA;\n",
              "      box-shadow: 0px 1px 2px rgba(60, 64, 67, 0.3), 0px 1px 3px 1px rgba(60, 64, 67, 0.15);\n",
              "      fill: #174EA6;\n",
              "    }\n",
              "\n",
              "    [theme=dark] .colab-df-convert {\n",
              "      background-color: #3B4455;\n",
              "      fill: #D2E3FC;\n",
              "    }\n",
              "\n",
              "    [theme=dark] .colab-df-convert:hover {\n",
              "      background-color: #434B5C;\n",
              "      box-shadow: 0px 1px 3px 1px rgba(0, 0, 0, 0.15);\n",
              "      filter: drop-shadow(0px 1px 2px rgba(0, 0, 0, 0.3));\n",
              "      fill: #FFFFFF;\n",
              "    }\n",
              "  </style>\n",
              "\n",
              "      <script>\n",
              "        const buttonEl =\n",
              "          document.querySelector('#df-c3808cf5-49a7-4e8d-a07c-a455992c4e55 button.colab-df-convert');\n",
              "        buttonEl.style.display =\n",
              "          google.colab.kernel.accessAllowed ? 'block' : 'none';\n",
              "\n",
              "        async function convertToInteractive(key) {\n",
              "          const element = document.querySelector('#df-c3808cf5-49a7-4e8d-a07c-a455992c4e55');\n",
              "          const dataTable =\n",
              "            await google.colab.kernel.invokeFunction('convertToInteractive',\n",
              "                                                     [key], {});\n",
              "          if (!dataTable) return;\n",
              "\n",
              "          const docLinkHtml = 'Like what you see? Visit the ' +\n",
              "            '<a target=\"_blank\" href=https://colab.research.google.com/notebooks/data_table.ipynb>data table notebook</a>'\n",
              "            + ' to learn more about interactive tables.';\n",
              "          element.innerHTML = '';\n",
              "          dataTable['output_type'] = 'display_data';\n",
              "          await google.colab.output.renderOutput(dataTable, element);\n",
              "          const docLink = document.createElement('div');\n",
              "          docLink.innerHTML = docLinkHtml;\n",
              "          element.appendChild(docLink);\n",
              "        }\n",
              "      </script>\n",
              "    </div>\n",
              "  </div>\n",
              "  "
            ],
            "text/plain": [
              "Predicted   0    1\n",
              "Actual            \n",
              "0          36  150\n",
              "1          30  162"
            ]
          },
          "metadata": {},
          "execution_count": 25
        }
      ]
    },
    {
      "cell_type": "code",
      "metadata": {
        "id": "d80_AHDr5PtS",
        "colab": {
          "base_uri": "https://localhost:8080/"
        },
        "outputId": "f3588b9d-a140-41ac-ccea-33634ce5dad4"
      },
      "source": [
        "# Evaluasi Model SVM\n",
        "print (classification_report(test[\"Label\"], predictions))\n",
        "print ('Accuracy X_test: ' + str(accuracy_score(test[\"Label\"], predictions)))"
      ],
      "execution_count": 26,
      "outputs": [
        {
          "output_type": "stream",
          "name": "stdout",
          "text": [
            "              precision    recall  f1-score   support\n",
            "\n",
            "           0       0.55      0.19      0.29       186\n",
            "           1       0.52      0.84      0.64       192\n",
            "\n",
            "    accuracy                           0.52       378\n",
            "   macro avg       0.53      0.52      0.46       378\n",
            "weighted avg       0.53      0.52      0.47       378\n",
            "\n",
            "Accuracy X_test: 0.5238095238095238\n"
          ]
        }
      ]
    },
    {
      "cell_type": "markdown",
      "metadata": {
        "id": "Jde93IP8CcXh"
      },
      "source": [
        "## Keras Sequential Model"
      ]
    },
    {
      "cell_type": "code",
      "metadata": {
        "id": "bIFq0BsauoJ8",
        "colab": {
          "base_uri": "https://localhost:8080/"
        },
        "outputId": "c952c0b5-1fc1-4d57-dcbd-26b71041c421"
      },
      "source": [
        "from keras.layers.core import Dense, Dropout, Activation\n",
        "#from keras.optimizers import Adadelta,Adam,RMSprop\n",
        "from keras.utils import np_utils\n",
        "from keras import Sequential, optimizers, regularizers\n",
        "\n",
        "import tensorflow as tf\n",
        "import keras.models\n",
        "from keras.models import Sequential\n",
        "from keras.layers import Dense, Dropout, Activation\n",
        "from keras.utils import np_utils\n",
        "\n",
        "scale = np.max(X_train)\n",
        "X_train /= scale\n",
        "X_test /= scale\n",
        "\n",
        "mean = np.mean(X_train)\n",
        "X_train -= mean\n",
        "X_test -= mean\n",
        "\n",
        "Y_train = np_utils.to_categorical(train[\"Label\"], 2)\n",
        "Y_test = np_utils.to_categorical(test[\"Label\"], 2)\n",
        "\n",
        "num_features = X_train.shape[1]\n",
        "\n",
        "model = Sequential()\n",
        "model.add(Dense(8,input_shape=(num_features,), activation='relu', kernel_regularizer = regularizers.l2(0.1)))\n",
        "model.add(Dropout(0.5))\n",
        "#model.add(Dense(32, activation='relu', kernel_regularizer = regularizers.l2(0.001)))\n",
        "#model.add(Dropout(0.5))\n",
        "#model.add(Dense(32, activation='relu', kernel_regularizer = regularizers.l2(0.0001)))\n",
        "#model.add(Dropout(0.5))\n",
        "#model.add(Dense(32, activation='relu', kernel_regularizer = regularizers.l2(0.1)))\n",
        "#model.add(Dropout(0.5))\n",
        "#model.add(Dense(128, activation='relu', kernel_regularizer = regularizers.l2(0.001)))\n",
        "#model.add(Dropout(0.5))\n",
        "model.add(Dense(2, activation='sigmoid'))\n",
        "opt = tf.keras.optimizers.Adam(learning_rate=0.00005)\n",
        "model.compile(loss='binary_crossentropy', optimizer=opt, metrics=['accuracy'])\n",
        "print(model.summary())"
      ],
      "execution_count": 27,
      "outputs": [
        {
          "output_type": "stream",
          "name": "stdout",
          "text": [
            "Model: \"sequential\"\n",
            "_________________________________________________________________\n",
            " Layer (type)                Output Shape              Param #   \n",
            "=================================================================\n",
            " dense (Dense)               (None, 8)                 9760      \n",
            "                                                                 \n",
            " dropout (Dropout)           (None, 8)                 0         \n",
            "                                                                 \n",
            " dense_1 (Dense)             (None, 2)                 18        \n",
            "                                                                 \n",
            "=================================================================\n",
            "Total params: 9,778\n",
            "Trainable params: 9,778\n",
            "Non-trainable params: 0\n",
            "_________________________________________________________________\n",
            "None\n"
          ]
        }
      ]
    },
    {
      "cell_type": "code",
      "metadata": {
        "id": "43yIOgNrvPZ-",
        "colab": {
          "base_uri": "https://localhost:8080/"
        },
        "outputId": "e5560e0d-1366-472d-8e4e-f22c377a2659"
      },
      "source": [
        "history = model.fit(X_train, Y_train, batch_size=32, validation_data=(X_test, Y_test), epochs=20, verbose=1)"
      ],
      "execution_count": 28,
      "outputs": [
        {
          "output_type": "stream",
          "name": "stdout",
          "text": [
            "Epoch 1/20\n",
            "51/51 [==============================] - 3s 14ms/step - loss: 2.2267 - accuracy: 0.4904 - val_loss: 2.1410 - val_accuracy: 0.5079\n",
            "Epoch 2/20\n",
            "51/51 [==============================] - 0s 6ms/step - loss: 2.0708 - accuracy: 0.4780 - val_loss: 1.9936 - val_accuracy: 0.5106\n",
            "Epoch 3/20\n",
            "51/51 [==============================] - 0s 6ms/step - loss: 1.9286 - accuracy: 0.4854 - val_loss: 1.8601 - val_accuracy: 0.5026\n",
            "Epoch 4/20\n",
            "51/51 [==============================] - 0s 6ms/step - loss: 1.8028 - accuracy: 0.4773 - val_loss: 1.7392 - val_accuracy: 0.5079\n",
            "Epoch 5/20\n",
            "51/51 [==============================] - 0s 6ms/step - loss: 1.6871 - accuracy: 0.4860 - val_loss: 1.6298 - val_accuracy: 0.5026\n",
            "Epoch 6/20\n",
            "51/51 [==============================] - 0s 6ms/step - loss: 1.5826 - accuracy: 0.4898 - val_loss: 1.5307 - val_accuracy: 0.4868\n",
            "Epoch 7/20\n",
            "51/51 [==============================] - 0s 6ms/step - loss: 1.4885 - accuracy: 0.4804 - val_loss: 1.4411 - val_accuracy: 0.4815\n",
            "Epoch 8/20\n",
            "51/51 [==============================] - 0s 6ms/step - loss: 1.4010 - accuracy: 0.5196 - val_loss: 1.3602 - val_accuracy: 0.4656\n",
            "Epoch 9/20\n",
            "51/51 [==============================] - 0s 6ms/step - loss: 1.3253 - accuracy: 0.5127 - val_loss: 1.2871 - val_accuracy: 0.4709\n",
            "Epoch 10/20\n",
            "51/51 [==============================] - 0s 6ms/step - loss: 1.2550 - accuracy: 0.5047 - val_loss: 1.2212 - val_accuracy: 0.4683\n",
            "Epoch 11/20\n",
            "51/51 [==============================] - 0s 6ms/step - loss: 1.1929 - accuracy: 0.5071 - val_loss: 1.1617 - val_accuracy: 0.4841\n",
            "Epoch 12/20\n",
            "51/51 [==============================] - 0s 5ms/step - loss: 1.1360 - accuracy: 0.5220 - val_loss: 1.1083 - val_accuracy: 0.4815\n",
            "Epoch 13/20\n",
            "51/51 [==============================] - 0s 6ms/step - loss: 1.0848 - accuracy: 0.5133 - val_loss: 1.0602 - val_accuracy: 0.4709\n",
            "Epoch 14/20\n",
            "51/51 [==============================] - 0s 5ms/step - loss: 1.0390 - accuracy: 0.5208 - val_loss: 1.0172 - val_accuracy: 0.4709\n",
            "Epoch 15/20\n",
            "51/51 [==============================] - 0s 6ms/step - loss: 0.9981 - accuracy: 0.5177 - val_loss: 0.9786 - val_accuracy: 0.4630\n",
            "Epoch 16/20\n",
            "51/51 [==============================] - 0s 8ms/step - loss: 0.9611 - accuracy: 0.5183 - val_loss: 0.9440 - val_accuracy: 0.4709\n",
            "Epoch 17/20\n",
            "51/51 [==============================] - 0s 5ms/step - loss: 0.9278 - accuracy: 0.5382 - val_loss: 0.9132 - val_accuracy: 0.4762\n",
            "Epoch 18/20\n",
            "51/51 [==============================] - 0s 6ms/step - loss: 0.8982 - accuracy: 0.5531 - val_loss: 0.8858 - val_accuracy: 0.4894\n",
            "Epoch 19/20\n",
            "51/51 [==============================] - 0s 6ms/step - loss: 0.8732 - accuracy: 0.5351 - val_loss: 0.8614 - val_accuracy: 0.4921\n",
            "Epoch 20/20\n",
            "51/51 [==============================] - 0s 6ms/step - loss: 0.8500 - accuracy: 0.5357 - val_loss: 0.8398 - val_accuracy: 0.5000\n"
          ]
        }
      ]
    },
    {
      "cell_type": "code",
      "metadata": {
        "id": "YWrW3Tmwvag3",
        "colab": {
          "base_uri": "https://localhost:8080/",
          "height": 573
        },
        "outputId": "23d1c863-d753-4d35-85ff-04e1d88c327b"
      },
      "source": [
        "# Plot training & validation accuracy values\n",
        "plt.plot(history.history['accuracy'])\n",
        "plt.plot(history.history['val_accuracy'])\n",
        "plt.title('Model accuracy')\n",
        "plt.ylabel('Accuracy')\n",
        "plt.xlabel('Epoch')\n",
        "plt.legend(['Train', 'Test'], loc='upper left')\n",
        "plt.show()\n",
        "\n",
        "# Plot training & validation loss values\n",
        "plt.plot(history.history['loss'])\n",
        "plt.plot(history.history['val_loss'])\n",
        "plt.title('Model loss')\n",
        "plt.ylabel('Loss')\n",
        "plt.xlabel('Epoch')\n",
        "plt.legend(['Train', 'Test'], loc='upper left')\n",
        "plt.show()"
      ],
      "execution_count": 29,
      "outputs": [
        {
          "output_type": "display_data",
          "data": {
            "image/png": "[encoded data removed]",
            "text/plain": [
              "<Figure size 432x288 with 1 Axes>"
            ]
          },
          "metadata": {
            "needs_background": "light"
          }
        },
        {
          "output_type": "display_data",
          "data": {
            "image/png": "[encoded data removed]",
            "text/plain": [
              "<Figure size 432x288 with 1 Axes>"
            ]
          },
          "metadata": {
            "needs_background": "light"
          }
        }
      ]
    },
    {
      "cell_type": "code",
      "metadata": {
        "id": "8N-iAo_awUvb",
        "colab": {
          "base_uri": "https://localhost:8080/"
        },
        "outputId": "ca9bb1d2-56c9-4fa8-b400-cf69707a7b97"
      },
      "source": [
        "score = model.evaluate(X_test, Y_test)\n",
        "print(score)"
      ],
      "execution_count": 30,
      "outputs": [
        {
          "output_type": "stream",
          "name": "stdout",
          "text": [
            "12/12 [==============================] - 0s 3ms/step - loss: 0.8398 - accuracy: 0.5000\n",
            "[0.8397538661956787, 0.5]\n"
          ]
        }
      ]
    },
    {
      "cell_type": "markdown",
      "metadata": {
        "id": "NUgNRA_VCnjP"
      },
      "source": [
        "# Use Word2Vec And Classifier"
      ]
    },
    {
      "cell_type": "markdown",
      "metadata": {
        "id": "a0PuJQfDc9N9"
      },
      "source": [
        "## Word2Vec"
      ]
    },
    {
      "cell_type": "markdown",
      "metadata": {
        "id": "7YNNJCO_CpU0"
      },
      "source": [
        "Use Word2Vec to find most similar words"
      ]
    },
    {
      "cell_type": "code",
      "metadata": {
        "id": "AIWgH7U45cWM"
      },
      "source": [
        "class MyTokenizer():\n",
        "    def __init__(self):\n",
        "        self.tokenizer = nltk.tokenize.RegexpTokenizer(r'\\w+')\n",
        "        self.lemmatizer = nltk.stem.WordNetLemmatizer()\n",
        "        self.stop_words_en = set(nltk.corpus.stopwords.words('english'))\n",
        "        self.stop_words_germ = set(nltk.corpus.stopwords.words('german'))\n",
        "        self.stop_words = set()\n",
        "        self.stop_words.add(\"b\")\n",
        "        \n",
        "    def tokenize(self, headlines):\n",
        "        # Tokenize\n",
        "        tokens = [self.tokenizer.tokenize(article) for article in headlines]\n",
        "\n",
        "        # Lemmatizer\n",
        "        clean_tokens = []\n",
        "        for words in tokens:\n",
        "            clean_tokens.append([self.lemmatizer.lemmatize(word) for word in words])\n",
        "\n",
        "        # Stop words\n",
        "        final_tokens = []\n",
        "        for words in clean_tokens:\n",
        "            final_tokens.append([word.lower() for word in words if word.lower() not in self.stop_words_en and word.lower() not in self.stop_words_germ and word.lower() not in self.stop_words])\n",
        "            \n",
        "        return final_tokens"
      ],
      "execution_count": 31,
      "outputs": []
    },
    {
      "cell_type": "code",
      "metadata": {
        "id": "z5zO9orh5gdh",
        "colab": {
          "base_uri": "https://localhost:8080/"
        },
        "outputId": "8fb79e60-48cc-486f-edb9-2f4a1f55da4e"
      },
      "source": [
        "from gensim.models import Word2Vec\n",
        "\n",
        "tokenizer = MyTokenizer()\n",
        "\n",
        "headlines_train = train[\"headlines\"]\n",
        "headlines_test= test[\"headlines\"]\n",
        "\n",
        "tokens_train = tokenizer.tokenize(headlines_train)\n",
        "tokens_test = tokenizer.tokenize(headlines_test)\n",
        "\n",
        "model = Word2Vec(tokens_train, min_count=1,size= 50,workers=3, window =3, sg = 1)\n",
        "\n",
        "word_vectors = model.wv\n",
        "print(\"Number of word vectors: {}\".format(len(word_vectors.vocab)))\n",
        "\n",
        "print(model.wv.most_similar('husband'))"
      ],
      "execution_count": 32,
      "outputs": [
        {
          "output_type": "stream",
          "name": "stdout",
          "text": [
            "Number of word vectors: 29909\n",
            "[('abusing', 0.976590633392334), ('murdering', 0.9715256690979004), ('adultery', 0.9708057045936584), ('attempted', 0.9699376821517944), ('teenage', 0.9674612283706665), ('repeatedly', 0.9667584300041199), ('abused', 0.9662029147148132), ('raping', 0.966062605381012), ('hanged', 0.9656693935394287), ('assaulted', 0.9653512239456177)]\n"
          ]
        }
      ]
    },
    {
      "cell_type": "markdown",
      "metadata": {
        "id": "w6AujNtFCwK4"
      },
      "source": [
        "## Word embedding"
      ]
    },
    {
      "cell_type": "code",
      "metadata": {
        "id": "PHH-15qTwyn3",
        "colab": {
          "base_uri": "https://localhost:8080/"
        },
        "outputId": "b0205268-98c7-4e16-b134-6ef93d2e763c"
      },
      "source": [
        "from tensorflow.python.keras.preprocessing.text import Tokenizer\n",
        "from keras.layers import Flatten, Dense, LSTM, GRU, SpatialDropout1D, Bidirectional, concatenate\n",
        "from keras.layers.embeddings import Embedding\n",
        "from keras.preprocessing.sequence import pad_sequences\n",
        "#from keras.optimizers import SGD\n",
        "\n",
        "my_tokenizer = MyTokenizer()\n",
        "\n",
        "headlines_train = train[\"headlines\"]\n",
        "headlines_test= test[\"headlines\"]\n",
        "\n",
        "tokens_train = my_tokenizer.tokenize(headlines_train)\n",
        "tokens_test = my_tokenizer.tokenize(headlines_test)\n",
        "\n",
        "tokenizer = Tokenizer(num_words=20000)\n",
        "tokenizer.fit_on_texts(train[\"headlines\"])\n",
        "        \n",
        "vocab_size = 20000 #len(tokenizer.word_index) + 1\n",
        "print('Number of words: ' + str(vocab_size))\n",
        "\n",
        "X_train_tokens = tokenizer.texts_to_sequences(tokens_train)\n",
        "X_test_tokens = tokenizer.texts_to_sequences(tokens_test)\n",
        "\n",
        "max_length = 0\n",
        "for words in X_train_tokens:\n",
        "    if len(words)>max_length:\n",
        "        max_length = len(words)\n",
        "max_length = 200\n",
        "print('max_length: ' + str(max_length))\n",
        "\n",
        "X_train_pad = pad_sequences(X_train_tokens, maxlen=max_length, padding='post')\n",
        "X_test_pad = pad_sequences(X_test_tokens, maxlen=max_length, padding='post')\n",
        "\n",
        "y_train = train['Label']\n",
        "y_test = test['Label']\n",
        "Y_train = np_utils.to_categorical(y_train, 2)\n",
        "Y_test = np_utils.to_categorical(y_test, 2)"
      ],
      "execution_count": 33,
      "outputs": [
        {
          "output_type": "stream",
          "name": "stdout",
          "text": [
            "Number of words: 20000\n",
            "max_length: 200\n"
          ]
        }
      ]
    },
    {
      "cell_type": "markdown",
      "metadata": {
        "id": "kdgGqde2zUqY"
      },
      "source": [
        "## Deep Learning (Improve)"
      ]
    },
    {
      "cell_type": "code",
      "metadata": {
        "id": "ghG-7jdVU2--",
        "colab": {
          "base_uri": "https://localhost:8080/"
        },
        "outputId": "89d60142-7caa-481a-d5a6-9b938b3d68af"
      },
      "source": [
        "import tensorflow as tf\n",
        "from tensorflow.python.client import device_lib\n",
        "device_lib.list_local_devices()"
      ],
      "execution_count": 34,
      "outputs": [
        {
          "output_type": "execute_result",
          "data": {
            "text/plain": [
              "[name: \"/device:CPU:0\"\n",
              " device_type: \"CPU\"\n",
              " memory_limit: 268435456\n",
              " locality {\n",
              " }\n",
              " incarnation: 988598058113296871\n",
              " xla_global_id: -1, name: \"/device:GPU:0\"\n",
              " device_type: \"GPU\"\n",
              " memory_limit: 11320098816\n",
              " locality {\n",
              "   bus_id: 1\n",
              "   links {\n",
              "   }\n",
              " }\n",
              " incarnation: 16486214308226850764\n",
              " physical_device_desc: \"device: 0, name: Tesla K80, pci bus id: 0000:00:04.0, compute capability: 3.7\"\n",
              " xla_global_id: 416903419]"
            ]
          },
          "metadata": {},
          "execution_count": 34
        }
      ]
    },
    {
      "cell_type": "markdown",
      "metadata": {
        "id": "zYZ2VBiRdfxY"
      },
      "source": [
        "#### **LSTM 1** "
      ]
    },
    {
      "cell_type": "code",
      "metadata": {
        "colab": {
          "base_uri": "https://localhost:8080/"
        },
        "id": "DLmgz6lZdjJm",
        "outputId": "04a9c6f3-a9ca-4de9-fedc-2d60458cf9b9"
      },
      "source": [
        "lstm_mod1 = Sequential()\n",
        "# input layer\n",
        "lstm_mod1.add(Embedding(vocab_size, 16, input_length=max_length))\n",
        "# hidden layer (terdiri dari 6 layer yaitu 4 layer lstm, 1 layer fully connected, 1 layer dropout)\n",
        "lstm_mod1.add(LSTM(256, return_sequences=True))\n",
        "lstm_mod1.add(LSTM(256, return_sequences=True))\n",
        "lstm_mod1.add(LSTM(256, return_sequences=True))\n",
        "lstm_mod1.add(LSTM(256, return_sequences=False)) \n",
        "lstm_mod1.add(Dense(128, activation='relu', kernel_initializer='uniform'))\n",
        "lstm_mod1.add(Dropout(0.2))\n",
        "# 1 output layer\n",
        "lstm_mod1.add(Dense(2, activation='sigmoid'))\n",
        "# parameter\n",
        "opt1 = tf.keras.optimizers.Adam(learning_rate=0.00005)\n",
        "lstm_mod1.compile(optimizer=opt1, loss='binary_crossentropy', metrics=['accuracy'])\n",
        "\n",
        "print(lstm_mod1.summary())"
      ],
      "execution_count": 35,
      "outputs": [
        {
          "output_type": "stream",
          "name": "stdout",
          "text": [
            "Model: \"sequential_1\"\n",
            "_________________________________________________________________\n",
            " Layer (type)                Output Shape              Param #   \n",
            "=================================================================\n",
            " embedding (Embedding)       (None, 200, 16)           320000    \n",
            "                                                                 \n",
            " lstm (LSTM)                 (None, 200, 256)          279552    \n",
            "                                                                 \n",
            " lstm_1 (LSTM)               (None, 200, 256)          525312    \n",
            "                                                                 \n",
            " lstm_2 (LSTM)               (None, 200, 256)          525312    \n",
            "                                                                 \n",
            " lstm_3 (LSTM)               (None, 256)               525312    \n",
            "                                                                 \n",
            " dense_2 (Dense)             (None, 128)               32896     \n",
            "                                                                 \n",
            " dropout_1 (Dropout)         (None, 128)               0         \n",
            "                                                                 \n",
            " dense_3 (Dense)             (None, 2)                 258       \n",
            "                                                                 \n",
            "=================================================================\n",
            "Total params: 2,208,642\n",
            "Trainable params: 2,208,642\n",
            "Non-trainable params: 0\n",
            "_________________________________________________________________\n",
            "None\n"
          ]
        }
      ]
    },
    {
      "cell_type": "code",
      "metadata": {
        "colab": {
          "base_uri": "https://localhost:8080/"
        },
        "id": "r2OTdlchdjNq",
        "outputId": "c47a17db-00ac-4af3-fb02-62b67e4347bb"
      },
      "source": [
        "lstm_hist1 = lstm_mod1.fit(X_train_pad, Y_train, batch_size=16, epochs=20, verbose=1, validation_data=(X_test_pad, Y_test))"
      ],
      "execution_count": 36,
      "outputs": [
        {
          "output_type": "stream",
          "name": "stdout",
          "text": [
            "Epoch 1/20\n",
            "101/101 [==============================] - 34s 247ms/step - loss: 0.6924 - accuracy: 0.5431 - val_loss: 0.6934 - val_accuracy: 0.5079\n",
            "Epoch 2/20\n",
            "101/101 [==============================] - 23s 229ms/step - loss: 0.6900 - accuracy: 0.5419 - val_loss: 0.6934 - val_accuracy: 0.5079\n",
            "Epoch 3/20\n",
            "101/101 [==============================] - 23s 229ms/step - loss: 0.6897 - accuracy: 0.5419 - val_loss: 0.6938 - val_accuracy: 0.5079\n",
            "Epoch 4/20\n",
            "101/101 [==============================] - 23s 229ms/step - loss: 0.6684 - accuracy: 0.5891 - val_loss: 0.7071 - val_accuracy: 0.5185\n",
            "Epoch 5/20\n",
            "101/101 [==============================] - 23s 229ms/step - loss: 0.5560 - accuracy: 0.7238 - val_loss: 0.8142 - val_accuracy: 0.5185\n",
            "Epoch 6/20\n",
            "101/101 [==============================] - 23s 229ms/step - loss: 0.3940 - accuracy: 0.8256 - val_loss: 0.9955 - val_accuracy: 0.5317\n",
            "Epoch 7/20\n",
            "101/101 [==============================] - 23s 229ms/step - loss: 0.2530 - accuracy: 0.9063 - val_loss: 1.2269 - val_accuracy: 0.5317\n",
            "Epoch 8/20\n",
            "101/101 [==============================] - 23s 229ms/step - loss: 0.1585 - accuracy: 0.9528 - val_loss: 1.3352 - val_accuracy: 0.5556\n",
            "Epoch 9/20\n",
            "101/101 [==============================] - 23s 230ms/step - loss: 0.0889 - accuracy: 0.9777 - val_loss: 1.7216 - val_accuracy: 0.5397\n",
            "Epoch 10/20\n",
            "101/101 [==============================] - 23s 230ms/step - loss: 0.0502 - accuracy: 0.9894 - val_loss: 2.1134 - val_accuracy: 0.5397\n",
            "Epoch 11/20\n",
            "101/101 [==============================] - 23s 230ms/step - loss: 0.0270 - accuracy: 0.9963 - val_loss: 2.1594 - val_accuracy: 0.5317\n",
            "Epoch 12/20\n",
            "101/101 [==============================] - 23s 230ms/step - loss: 0.0255 - accuracy: 0.9963 - val_loss: 2.3683 - val_accuracy: 0.5370\n",
            "Epoch 13/20\n",
            "101/101 [==============================] - 23s 229ms/step - loss: 0.0223 - accuracy: 0.9969 - val_loss: 2.4063 - val_accuracy: 0.5423\n",
            "Epoch 14/20\n",
            "101/101 [==============================] - 23s 229ms/step - loss: 0.0161 - accuracy: 0.9975 - val_loss: 2.3748 - val_accuracy: 0.5450\n",
            "Epoch 15/20\n",
            "101/101 [==============================] - 23s 229ms/step - loss: 0.0141 - accuracy: 0.9981 - val_loss: 2.5203 - val_accuracy: 0.5423\n",
            "Epoch 16/20\n",
            "101/101 [==============================] - 23s 229ms/step - loss: 0.0144 - accuracy: 0.9981 - val_loss: 2.5842 - val_accuracy: 0.5370\n",
            "Epoch 17/20\n",
            "101/101 [==============================] - 23s 229ms/step - loss: 0.0100 - accuracy: 0.9988 - val_loss: 2.6245 - val_accuracy: 0.5423\n",
            "Epoch 18/20\n",
            "101/101 [==============================] - 23s 229ms/step - loss: 0.0095 - accuracy: 0.9988 - val_loss: 2.6940 - val_accuracy: 0.5476\n",
            "Epoch 19/20\n",
            "101/101 [==============================] - 23s 229ms/step - loss: 0.0060 - accuracy: 0.9994 - val_loss: 2.8235 - val_accuracy: 0.5423\n",
            "Epoch 20/20\n",
            "101/101 [==============================] - 23s 229ms/step - loss: 0.0053 - accuracy: 0.9994 - val_loss: 2.8427 - val_accuracy: 0.5423\n"
          ]
        }
      ]
    },
    {
      "cell_type": "code",
      "metadata": {
        "colab": {
          "base_uri": "https://localhost:8080/",
          "height": 573
        },
        "id": "Kpk1MsMJdjRA",
        "outputId": "5004ba30-c760-44c2-8337-f80d04a23f86"
      },
      "source": [
        "# Plot training & validation accuracy values\n",
        "plt.plot(lstm_hist1.history['accuracy'])\n",
        "plt.plot(lstm_hist1.history['val_accuracy'])\n",
        "plt.title('Model accuracy')\n",
        "plt.ylabel('Accuracy')\n",
        "plt.xlabel('Epoch')\n",
        "plt.legend(['Train', 'Test'], loc='upper left')\n",
        "plt.show()\n",
        "\n",
        "# Plot training & validation loss values\n",
        "plt.plot(lstm_hist1.history['loss'])\n",
        "plt.plot(lstm_hist1.history['val_loss'])\n",
        "plt.title('Model loss')\n",
        "plt.ylabel('Loss')\n",
        "plt.xlabel('Epoch')\n",
        "plt.legend(['Train', 'Test'], loc='upper left')\n",
        "plt.show()"
      ],
      "execution_count": 37,
      "outputs": [
        {
          "output_type": "display_data",
          "data": {
            "image/png": "[encoded data removed]",
            "text/plain": [
              "<Figure size 432x288 with 1 Axes>"
            ]
          },
          "metadata": {
            "needs_background": "light"
          }
        },
        {
          "output_type": "display_data",
          "data": {
            "image/png": "[encoded data removed]",
            "text/plain": [
              "<Figure size 432x288 with 1 Axes>"
            ]
          },
          "metadata": {
            "needs_background": "light"
          }
        }
      ]
    },
    {
      "cell_type": "code",
      "metadata": {
        "colab": {
          "base_uri": "https://localhost:8080/"
        },
        "id": "PgI-tL82hQO5",
        "outputId": "1640be43-3e78-417e-9ac4-7dcff604d699"
      },
      "source": [
        "loss1, accuracy1 = lstm_mod1.evaluate(X_test_pad,Y_test)\n",
        "print('Testing Accuracy is {} '.format(accuracy1*100))"
      ],
      "execution_count": 38,
      "outputs": [
        {
          "output_type": "stream",
          "name": "stdout",
          "text": [
            "12/12 [==============================] - 1s 122ms/step - loss: 2.8427 - accuracy: 0.5423\n",
            "Testing Accuracy is 54.23280596733093 \n"
          ]
        }
      ]
    },
    {
      "cell_type": "code",
      "metadata": {
        "colab": {
          "base_uri": "https://localhost:8080/"
        },
        "id": "h3TrQTb_m7hH",
        "outputId": "2f83acb6-f7e2-4ece-ee3d-c697c1536eb3"
      },
      "source": [
        "y_pred1 = lstm_mod1.predict(X_test_pad)\n",
        "y_predict1 = y_pred1>0.5\n",
        "\n",
        "print(\"akurasi = \", accuracy_score(Y_test, y_predict1))\n",
        "print(\"f1 score = \", f1_score(Y_test, y_predict1, average='macro'))\n",
        "print(\"AUC = \", roc_auc_score(Y_test, y_predict1, average='macro'))"
      ],
      "execution_count": 39,
      "outputs": [
        {
          "output_type": "stream",
          "name": "stdout",
          "text": [
            "akurasi =  0.5423280423280423\n",
            "f1 score =  0.5423202338786755\n",
            "AUC =  0.5431787634408602\n"
          ]
        }
      ]
    },
    {
      "cell_type": "markdown",
      "metadata": {
        "id": "-2mziYrXCauk"
      },
      "source": [
        "#### **LSTM 2** "
      ]
    },
    {
      "cell_type": "code",
      "metadata": {
        "colab": {
          "base_uri": "https://localhost:8080/"
        },
        "id": "0w-I8c1XCau_",
        "outputId": "8454851f-2f1e-4f62-8968-ba47edd9f1bf"
      },
      "source": [
        "lstm_mod2 = Sequential()\n",
        "lstm_mod2.add(Embedding(vocab_size, 16, input_length=max_length))\n",
        "lstm_mod2.add(LSTM(256, return_sequences=True))\n",
        "lstm_mod2.add(LSTM(256, return_sequences=True))\n",
        "lstm_mod2.add(LSTM(256, return_sequences=True))\n",
        "lstm_mod2.add(LSTM(256, return_sequences=False)) \n",
        "lstm_mod2.add(Dense(128, activation='relu', kernel_initializer='uniform'))\n",
        "lstm_mod2.add(Dropout(0.2))\n",
        "lstm_mod2.add(Dense(2, activation='sigmoid'))\n",
        "\n",
        "opt2 = tf.keras.optimizers.Adam(learning_rate=0.00003)\n",
        "lstm_mod2.compile(optimizer=opt2, loss='binary_crossentropy', metrics=['accuracy'])\n",
        "\n",
        "print(lstm_mod2.summary())"
      ],
      "execution_count": 40,
      "outputs": [
        {
          "output_type": "stream",
          "name": "stdout",
          "text": [
            "Model: \"sequential_2\"\n",
            "_________________________________________________________________\n",
            " Layer (type)                Output Shape              Param #   \n",
            "=================================================================\n",
            " embedding_1 (Embedding)     (None, 200, 16)           320000    \n",
            "                                                                 \n",
            " lstm_4 (LSTM)               (None, 200, 256)          279552    \n",
            "                                                                 \n",
            " lstm_5 (LSTM)               (None, 200, 256)          525312    \n",
            "                                                                 \n",
            " lstm_6 (LSTM)               (None, 200, 256)          525312    \n",
            "                                                                 \n",
            " lstm_7 (LSTM)               (None, 256)               525312    \n",
            "                                                                 \n",
            " dense_4 (Dense)             (None, 128)               32896     \n",
            "                                                                 \n",
            " dropout_2 (Dropout)         (None, 128)               0         \n",
            "                                                                 \n",
            " dense_5 (Dense)             (None, 2)                 258       \n",
            "                                                                 \n",
            "=================================================================\n",
            "Total params: 2,208,642\n",
            "Trainable params: 2,208,642\n",
            "Non-trainable params: 0\n",
            "_________________________________________________________________\n",
            "None\n"
          ]
        }
      ]
    },
    {
      "cell_type": "code",
      "metadata": {
        "colab": {
          "base_uri": "https://localhost:8080/"
        },
        "id": "IG7TOnirCavB",
        "outputId": "9c4c2524-c303-48a7-90f3-ff2992d6be80"
      },
      "source": [
        "lstm_hist2 = lstm_mod2.fit(X_train_pad, Y_train, batch_size=16, epochs=20, verbose=1, validation_data=(X_test_pad, Y_test))"
      ],
      "execution_count": 41,
      "outputs": [
        {
          "output_type": "stream",
          "name": "stdout",
          "text": [
            "Epoch 1/20\n",
            "101/101 [==============================] - 32s 246ms/step - loss: 0.6930 - accuracy: 0.5307 - val_loss: 0.6930 - val_accuracy: 0.5079\n",
            "Epoch 2/20\n",
            "101/101 [==============================] - 23s 229ms/step - loss: 0.6914 - accuracy: 0.5419 - val_loss: 0.6946 - val_accuracy: 0.5079\n",
            "Epoch 3/20\n",
            "101/101 [==============================] - 23s 229ms/step - loss: 0.6905 - accuracy: 0.5419 - val_loss: 0.6946 - val_accuracy: 0.5079\n",
            "Epoch 4/20\n",
            "101/101 [==============================] - 23s 229ms/step - loss: 0.6900 - accuracy: 0.5419 - val_loss: 0.6947 - val_accuracy: 0.5079\n",
            "Epoch 5/20\n",
            "101/101 [==============================] - 23s 229ms/step - loss: 0.6881 - accuracy: 0.5419 - val_loss: 0.6999 - val_accuracy: 0.5079\n",
            "Epoch 6/20\n",
            "101/101 [==============================] - 23s 229ms/step - loss: 0.6713 - accuracy: 0.5723 - val_loss: 0.6931 - val_accuracy: 0.5000\n",
            "Epoch 7/20\n",
            "101/101 [==============================] - 23s 229ms/step - loss: 0.5581 - accuracy: 0.7287 - val_loss: 0.8175 - val_accuracy: 0.5026\n",
            "Epoch 8/20\n",
            "101/101 [==============================] - 23s 229ms/step - loss: 0.4325 - accuracy: 0.8107 - val_loss: 0.9947 - val_accuracy: 0.4788\n",
            "Epoch 9/20\n",
            "101/101 [==============================] - 23s 228ms/step - loss: 0.3342 - accuracy: 0.8672 - val_loss: 1.0628 - val_accuracy: 0.5079\n",
            "Epoch 10/20\n",
            "101/101 [==============================] - 23s 229ms/step - loss: 0.2573 - accuracy: 0.9094 - val_loss: 1.1963 - val_accuracy: 0.4947\n",
            "Epoch 11/20\n",
            "101/101 [==============================] - 23s 229ms/step - loss: 0.1849 - accuracy: 0.9429 - val_loss: 1.6401 - val_accuracy: 0.4735\n",
            "Epoch 12/20\n",
            "101/101 [==============================] - 23s 229ms/step - loss: 0.1340 - accuracy: 0.9665 - val_loss: 1.7213 - val_accuracy: 0.4815\n",
            "Epoch 13/20\n",
            "101/101 [==============================] - 23s 229ms/step - loss: 0.0908 - accuracy: 0.9814 - val_loss: 1.8913 - val_accuracy: 0.4815\n",
            "Epoch 14/20\n",
            "101/101 [==============================] - 23s 229ms/step - loss: 0.0664 - accuracy: 0.9870 - val_loss: 2.0221 - val_accuracy: 0.4868\n",
            "Epoch 15/20\n",
            "101/101 [==============================] - 23s 229ms/step - loss: 0.0512 - accuracy: 0.9894 - val_loss: 2.1334 - val_accuracy: 0.4921\n",
            "Epoch 16/20\n",
            "101/101 [==============================] - 23s 228ms/step - loss: 0.0463 - accuracy: 0.9913 - val_loss: 2.2526 - val_accuracy: 0.4841\n",
            "Epoch 17/20\n",
            "101/101 [==============================] - 23s 228ms/step - loss: 0.0317 - accuracy: 0.9938 - val_loss: 2.3913 - val_accuracy: 0.4894\n",
            "Epoch 18/20\n",
            "101/101 [==============================] - 23s 229ms/step - loss: 0.0255 - accuracy: 0.9963 - val_loss: 2.4394 - val_accuracy: 0.4921\n",
            "Epoch 19/20\n",
            "101/101 [==============================] - 23s 229ms/step - loss: 0.0241 - accuracy: 0.9963 - val_loss: 2.5917 - val_accuracy: 0.4894\n",
            "Epoch 20/20\n",
            "101/101 [==============================] - 23s 229ms/step - loss: 0.0235 - accuracy: 0.9963 - val_loss: 2.5681 - val_accuracy: 0.5106\n"
          ]
        }
      ]
    },
    {
      "cell_type": "code",
      "metadata": {
        "id": "ydMvNganCavB",
        "colab": {
          "base_uri": "https://localhost:8080/",
          "height": 573
        },
        "outputId": "7916d629-638e-411b-cd80-7950ec4c95a5"
      },
      "source": [
        "# Plot training & validation accuracy values\n",
        "plt.plot(lstm_hist2.history['accuracy'])\n",
        "plt.plot(lstm_hist2.history['val_accuracy'])\n",
        "plt.title('Model accuracy')\n",
        "plt.ylabel('Accuracy')\n",
        "plt.xlabel('Epoch')\n",
        "plt.legend(['Train', 'Test'], loc='upper left')\n",
        "plt.show()\n",
        "\n",
        "# Plot training & validation loss values\n",
        "plt.plot(lstm_hist2.history['loss'])\n",
        "plt.plot(lstm_hist2.history['val_loss'])\n",
        "plt.title('Model loss')\n",
        "plt.ylabel('Loss')\n",
        "plt.xlabel('Epoch')\n",
        "plt.legend(['Train', 'Test'], loc='upper left')\n",
        "plt.show()"
      ],
      "execution_count": 42,
      "outputs": [
        {
          "output_type": "display_data",
          "data": {
            "image/png": "[encoded data removed]",
            "text/plain": [
              "<Figure size 432x288 with 1 Axes>"
            ]
          },
          "metadata": {
            "needs_background": "light"
          }
        },
        {
          "output_type": "display_data",
          "data": {
            "image/png": "[encoded data removed]",
            "text/plain": [
              "<Figure size 432x288 with 1 Axes>"
            ]
          },
          "metadata": {
            "needs_background": "light"
          }
        }
      ]
    },
    {
      "cell_type": "code",
      "metadata": {
        "id": "lrgRUYPMCavC",
        "colab": {
          "base_uri": "https://localhost:8080/"
        },
        "outputId": "e109c627-fdaa-4ece-e75e-2702870e6e66"
      },
      "source": [
        "loss2, accuracy2 = lstm_mod2.evaluate(X_test_pad,Y_test)\n",
        "print('Testing Accuracy is {} '.format(accuracy2*100))"
      ],
      "execution_count": 43,
      "outputs": [
        {
          "output_type": "stream",
          "name": "stdout",
          "text": [
            "12/12 [==============================] - 1s 122ms/step - loss: 2.5681 - accuracy: 0.5106\n",
            "Testing Accuracy is 51.05820298194885 \n"
          ]
        }
      ]
    },
    {
      "cell_type": "code",
      "metadata": {
        "id": "QVYRxORZoQlj",
        "colab": {
          "base_uri": "https://localhost:8080/"
        },
        "outputId": "eb8bcc6d-f523-4d07-9c6e-e89078c52ff1"
      },
      "source": [
        "y_pred2 = lstm_mod2.predict(X_test_pad)\n",
        "y_predict2 = y_pred2>0.5\n",
        "\n",
        "print(\"akurasi = \", accuracy_score(Y_test, y_predict2))\n",
        "print(\"f1 score = \", f1_score(Y_test, y_predict2, average='macro'))\n",
        "print(\"AUC = \", roc_auc_score(Y_test, y_predict2, average='macro'))"
      ],
      "execution_count": 44,
      "outputs": [
        {
          "output_type": "stream",
          "name": "stdout",
          "text": [
            "akurasi =  0.5105820105820106\n",
            "f1 score =  0.5104851858098611\n",
            "AUC =  0.512642809139785\n"
          ]
        }
      ]
    },
    {
      "cell_type": "markdown",
      "metadata": {
        "id": "WhEjuQrgC0mG"
      },
      "source": [
        "#### **LSTM 3** "
      ]
    },
    {
      "cell_type": "code",
      "metadata": {
        "id": "_lEZBtSMC0mf",
        "colab": {
          "base_uri": "https://localhost:8080/"
        },
        "outputId": "f1c4bd7b-be75-4e25-b790-481bb8cc57b1"
      },
      "source": [
        "lstm_mod3 = Sequential()\n",
        "lstm_mod3.add(Embedding(vocab_size, 16, input_length=max_length))\n",
        "lstm_mod3.add(LSTM(256, return_sequences=True))\n",
        "lstm_mod3.add(LSTM(256, return_sequences=True))\n",
        "lstm_mod3.add(LSTM(256, return_sequences=True))\n",
        "lstm_mod3.add(LSTM(256, return_sequences=False)) \n",
        "lstm_mod3.add(Dense(128, activation='relu', kernel_initializer='uniform'))\n",
        "lstm_mod3.add(Dropout(0.2))\n",
        "lstm_mod3.add(Dense(2, activation='sigmoid'))\n",
        "\n",
        "opt3 = tf.keras.optimizers.Adam(learning_rate=0.00002)\n",
        "lstm_mod3.compile(optimizer=opt3, loss='binary_crossentropy', metrics=['accuracy'])\n",
        "\n",
        "print(lstm_mod3.summary())"
      ],
      "execution_count": 45,
      "outputs": [
        {
          "output_type": "stream",
          "name": "stdout",
          "text": [
            "Model: \"sequential_3\"\n",
            "_________________________________________________________________\n",
            " Layer (type)                Output Shape              Param #   \n",
            "=================================================================\n",
            " embedding_2 (Embedding)     (None, 200, 16)           320000    \n",
            "                                                                 \n",
            " lstm_8 (LSTM)               (None, 200, 256)          279552    \n",
            "                                                                 \n",
            " lstm_9 (LSTM)               (None, 200, 256)          525312    \n",
            "                                                                 \n",
            " lstm_10 (LSTM)              (None, 200, 256)          525312    \n",
            "                                                                 \n",
            " lstm_11 (LSTM)              (None, 256)               525312    \n",
            "                                                                 \n",
            " dense_6 (Dense)             (None, 128)               32896     \n",
            "                                                                 \n",
            " dropout_3 (Dropout)         (None, 128)               0         \n",
            "                                                                 \n",
            " dense_7 (Dense)             (None, 2)                 258       \n",
            "                                                                 \n",
            "=================================================================\n",
            "Total params: 2,208,642\n",
            "Trainable params: 2,208,642\n",
            "Non-trainable params: 0\n",
            "_________________________________________________________________\n",
            "None\n"
          ]
        }
      ]
    },
    {
      "cell_type": "code",
      "metadata": {
        "id": "gHkN7EOMC0mf",
        "colab": {
          "base_uri": "https://localhost:8080/"
        },
        "outputId": "f9988166-74ba-4392-f0be-5604d8f7bfa7"
      },
      "source": [
        "lstm_hist3 = lstm_mod3.fit(X_train_pad, Y_train, batch_size=16, epochs=20, verbose=1, validation_data=(X_test_pad, Y_test))"
      ],
      "execution_count": 46,
      "outputs": [
        {
          "output_type": "stream",
          "name": "stdout",
          "text": [
            "Epoch 1/20\n",
            "101/101 [==============================] - 32s 248ms/step - loss: 0.6930 - accuracy: 0.5413 - val_loss: 0.6931 - val_accuracy: 0.5079\n",
            "Epoch 2/20\n",
            "101/101 [==============================] - 23s 230ms/step - loss: 0.6921 - accuracy: 0.5419 - val_loss: 0.6933 - val_accuracy: 0.5079\n",
            "Epoch 3/20\n",
            "101/101 [==============================] - 23s 229ms/step - loss: 0.6904 - accuracy: 0.5419 - val_loss: 0.6949 - val_accuracy: 0.5079\n",
            "Epoch 4/20\n",
            "101/101 [==============================] - 23s 229ms/step - loss: 0.6896 - accuracy: 0.5419 - val_loss: 0.6945 - val_accuracy: 0.5079\n",
            "Epoch 5/20\n",
            "101/101 [==============================] - 23s 229ms/step - loss: 0.6892 - accuracy: 0.5419 - val_loss: 0.6947 - val_accuracy: 0.5079\n",
            "Epoch 6/20\n",
            "101/101 [==============================] - 23s 229ms/step - loss: 0.6874 - accuracy: 0.5419 - val_loss: 0.6969 - val_accuracy: 0.5079\n",
            "Epoch 7/20\n",
            "101/101 [==============================] - 23s 230ms/step - loss: 0.6639 - accuracy: 0.6034 - val_loss: 0.7456 - val_accuracy: 0.5159\n",
            "Epoch 8/20\n",
            "101/101 [==============================] - 23s 229ms/step - loss: 0.5806 - accuracy: 0.7083 - val_loss: 0.8330 - val_accuracy: 0.4577\n",
            "Epoch 9/20\n",
            "101/101 [==============================] - 23s 229ms/step - loss: 0.4952 - accuracy: 0.7604 - val_loss: 0.8651 - val_accuracy: 0.4894\n",
            "Epoch 10/20\n",
            "101/101 [==============================] - 23s 230ms/step - loss: 0.4221 - accuracy: 0.8107 - val_loss: 0.9836 - val_accuracy: 0.4974\n",
            "Epoch 11/20\n",
            "101/101 [==============================] - 23s 229ms/step - loss: 0.3569 - accuracy: 0.8547 - val_loss: 1.1902 - val_accuracy: 0.5000\n",
            "Epoch 12/20\n",
            "101/101 [==============================] - 23s 228ms/step - loss: 0.3011 - accuracy: 0.8920 - val_loss: 1.1596 - val_accuracy: 0.4894\n",
            "Epoch 13/20\n",
            "101/101 [==============================] - 23s 228ms/step - loss: 0.2659 - accuracy: 0.9106 - val_loss: 1.4500 - val_accuracy: 0.5238\n",
            "Epoch 14/20\n",
            "101/101 [==============================] - 23s 229ms/step - loss: 0.2223 - accuracy: 0.9261 - val_loss: 1.2686 - val_accuracy: 0.4762\n",
            "Epoch 15/20\n",
            "101/101 [==============================] - 23s 229ms/step - loss: 0.1852 - accuracy: 0.9429 - val_loss: 1.6324 - val_accuracy: 0.5159\n",
            "Epoch 16/20\n",
            "101/101 [==============================] - 23s 229ms/step - loss: 0.1574 - accuracy: 0.9528 - val_loss: 1.5583 - val_accuracy: 0.5106\n",
            "Epoch 17/20\n",
            "101/101 [==============================] - 23s 229ms/step - loss: 0.1293 - accuracy: 0.9659 - val_loss: 1.7959 - val_accuracy: 0.4974\n",
            "Epoch 18/20\n",
            "101/101 [==============================] - 23s 229ms/step - loss: 0.1091 - accuracy: 0.9727 - val_loss: 2.0210 - val_accuracy: 0.4921\n",
            "Epoch 19/20\n",
            "101/101 [==============================] - 23s 229ms/step - loss: 0.0959 - accuracy: 0.9739 - val_loss: 1.9791 - val_accuracy: 0.4974\n",
            "Epoch 20/20\n",
            "101/101 [==============================] - 23s 229ms/step - loss: 0.0836 - accuracy: 0.9808 - val_loss: 1.9953 - val_accuracy: 0.5000\n"
          ]
        }
      ]
    },
    {
      "cell_type": "code",
      "metadata": {
        "id": "t0djxc2YC0mg",
        "colab": {
          "base_uri": "https://localhost:8080/",
          "height": 573
        },
        "outputId": "d9d5f8f1-ba7e-4413-aef7-ebfacf0216a8"
      },
      "source": [
        "# Plot training & validation accuracy values\n",
        "plt.plot(lstm_hist3.history['accuracy'])\n",
        "plt.plot(lstm_hist3.history['val_accuracy'])\n",
        "plt.title('Model accuracy')\n",
        "plt.ylabel('Accuracy')\n",
        "plt.xlabel('Epoch')\n",
        "plt.legend(['Train', 'Test'], loc='upper left')\n",
        "plt.show()\n",
        "\n",
        "# Plot training & validation loss values\n",
        "plt.plot(lstm_hist3.history['loss'])\n",
        "plt.plot(lstm_hist3.history['val_loss'])\n",
        "plt.title('Model loss')\n",
        "plt.ylabel('Loss')\n",
        "plt.xlabel('Epoch')\n",
        "plt.legend(['Train', 'Test'], loc='upper left')\n",
        "plt.show()"
      ],
      "execution_count": 47,
      "outputs": [
        {
          "output_type": "display_data",
          "data": {
            "image/png": "[encoded data removed]",
            "text/plain": [
              "<Figure size 432x288 with 1 Axes>"
            ]
          },
          "metadata": {
            "needs_background": "light"
          }
        },
        {
          "output_type": "display_data",
          "data": {
            "image/png": "[encoded data removed]",
            "text/plain": [
              "<Figure size 432x288 with 1 Axes>"
            ]
          },
          "metadata": {
            "needs_background": "light"
          }
        }
      ]
    },
    {
      "cell_type": "code",
      "metadata": {
        "id": "18JEUhvxC0mg",
        "colab": {
          "base_uri": "https://localhost:8080/"
        },
        "outputId": "b87fb518-2057-4591-91a3-08cddc6ce80a"
      },
      "source": [
        "loss3, accuracy3 = lstm_mod3.evaluate(X_test_pad,Y_test)\n",
        "print('Testing Accuracy is {} '.format(accuracy3*100))"
      ],
      "execution_count": 48,
      "outputs": [
        {
          "output_type": "stream",
          "name": "stdout",
          "text": [
            "12/12 [==============================] - 1s 117ms/step - loss: 1.9953 - accuracy: 0.5000\n",
            "Testing Accuracy is 50.0 \n"
          ]
        }
      ]
    },
    {
      "cell_type": "code",
      "metadata": {
        "id": "803L6g7ZoWZF",
        "colab": {
          "base_uri": "https://localhost:8080/"
        },
        "outputId": "a79e647b-a7b9-415e-c82b-deacead92365"
      },
      "source": [
        "y_pred3 = lstm_mod3.predict(X_test_pad)\n",
        "y_predict3 = y_pred3>0.5\n",
        "\n",
        "print(\"akurasi = \", accuracy_score(Y_test, y_predict3))\n",
        "print(\"f1 score = \", f1_score(Y_test, y_predict3, average='macro'))\n",
        "print(\"AUC = \", roc_auc_score(Y_test, y_predict3, average='macro'))"
      ],
      "execution_count": 49,
      "outputs": [
        {
          "output_type": "stream",
          "name": "stdout",
          "text": [
            "akurasi =  0.4973544973544973\n",
            "f1 score =  0.4974852195354311\n",
            "AUC =  0.49785786290322587\n"
          ]
        }
      ]
    }
  ]
}