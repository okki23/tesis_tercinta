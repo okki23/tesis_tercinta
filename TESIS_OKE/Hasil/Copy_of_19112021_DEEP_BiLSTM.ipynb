{
  "cells": [
    {
      "cell_type": "markdown",
      "metadata": {
        "id": "KVqMHryZHRfJ"
      },
      "source": [
        "**Code Reference:** [Tf-Idf, Word2Vec, Embedding, Keras & SVC](https://www.kaggle.com/michaelhochstrasser/tf-idf-word2vec-embedding-keras-svc)\n",
        "\n",
        "**Dataset Reference:** [Daily News for Stock Market Prediction](https://www.kaggle.com/aaron7sun/stocknews)"
      ]
    },
    {
      "cell_type": "code",
      "execution_count": 1,
      "metadata": {
        "colab": {
          "base_uri": "https://localhost:8080/"
        },
        "id": "9PNAnLrt3c4-",
        "outputId": "b20eae34-1df7-454b-a558-629a55fe5b57"
      },
      "outputs": [
        {
          "output_type": "stream",
          "name": "stdout",
          "text": [
            "Drive already mounted at /content/drive; to attempt to forcibly remount, call drive.mount(\"/content/drive\", force_remount=True).\n"
          ]
        }
      ],
      "source": [
        "from google.colab import drive\n",
        "drive.mount('/content/drive')"
      ]
    },
    {
      "cell_type": "code",
      "execution_count": 2,
      "metadata": {
        "colab": {
          "base_uri": "https://localhost:8080/"
        },
        "id": "9y7tOjiIFWpN",
        "outputId": "d540f73a-c13d-42fc-81c7-a3fb5105f9d4"
      },
      "outputs": [
        {
          "output_type": "stream",
          "name": "stdout",
          "text": [
            "Requirement already satisfied: tensorflow in /usr/local/lib/python3.7/dist-packages (2.7.0)\n",
            "Requirement already satisfied: libclang>=9.0.1 in /usr/local/lib/python3.7/dist-packages (from tensorflow) (12.0.0)\n",
            "Requirement already satisfied: tensorflow-estimator<2.8,~=2.7.0rc0 in /usr/local/lib/python3.7/dist-packages (from tensorflow) (2.7.0)\n",
            "Requirement already satisfied: astunparse>=1.6.0 in /usr/local/lib/python3.7/dist-packages (from tensorflow) (1.6.3)\n",
            "Requirement already satisfied: opt-einsum>=2.3.2 in /usr/local/lib/python3.7/dist-packages (from tensorflow) (3.3.0)\n",
            "Requirement already satisfied: absl-py>=0.4.0 in /usr/local/lib/python3.7/dist-packages (from tensorflow) (0.12.0)\n",
            "Requirement already satisfied: google-pasta>=0.1.1 in /usr/local/lib/python3.7/dist-packages (from tensorflow) (0.2.0)\n",
            "Requirement already satisfied: protobuf>=3.9.2 in /usr/local/lib/python3.7/dist-packages (from tensorflow) (3.17.3)\n",
            "Requirement already satisfied: numpy>=1.14.5 in /usr/local/lib/python3.7/dist-packages (from tensorflow) (1.19.5)\n",
            "Requirement already satisfied: tensorboard~=2.6 in /usr/local/lib/python3.7/dist-packages (from tensorflow) (2.7.0)\n",
            "Requirement already satisfied: gast<0.5.0,>=0.2.1 in /usr/local/lib/python3.7/dist-packages (from tensorflow) (0.4.0)\n",
            "Requirement already satisfied: six>=1.12.0 in /usr/local/lib/python3.7/dist-packages (from tensorflow) (1.15.0)\n",
            "Requirement already satisfied: wrapt>=1.11.0 in /usr/local/lib/python3.7/dist-packages (from tensorflow) (1.13.3)\n",
            "Requirement already satisfied: flatbuffers<3.0,>=1.12 in /usr/local/lib/python3.7/dist-packages (from tensorflow) (2.0)\n",
            "Requirement already satisfied: wheel<1.0,>=0.32.0 in /usr/local/lib/python3.7/dist-packages (from tensorflow) (0.37.0)\n",
            "Requirement already satisfied: grpcio<2.0,>=1.24.3 in /usr/local/lib/python3.7/dist-packages (from tensorflow) (1.42.0)\n",
            "Requirement already satisfied: keras-preprocessing>=1.1.1 in /usr/local/lib/python3.7/dist-packages (from tensorflow) (1.1.2)\n",
            "Requirement already satisfied: tensorflow-io-gcs-filesystem>=0.21.0 in /usr/local/lib/python3.7/dist-packages (from tensorflow) (0.22.0)\n",
            "Requirement already satisfied: h5py>=2.9.0 in /usr/local/lib/python3.7/dist-packages (from tensorflow) (3.1.0)\n",
            "Requirement already satisfied: termcolor>=1.1.0 in /usr/local/lib/python3.7/dist-packages (from tensorflow) (1.1.0)\n",
            "Requirement already satisfied: keras<2.8,>=2.7.0rc0 in /usr/local/lib/python3.7/dist-packages (from tensorflow) (2.7.0)\n",
            "Requirement already satisfied: typing-extensions>=3.6.6 in /usr/local/lib/python3.7/dist-packages (from tensorflow) (3.10.0.2)\n",
            "Requirement already satisfied: cached-property in /usr/local/lib/python3.7/dist-packages (from h5py>=2.9.0->tensorflow) (1.5.2)\n",
            "Requirement already satisfied: markdown>=2.6.8 in /usr/local/lib/python3.7/dist-packages (from tensorboard~=2.6->tensorflow) (3.3.6)\n",
            "Requirement already satisfied: requests<3,>=2.21.0 in /usr/local/lib/python3.7/dist-packages (from tensorboard~=2.6->tensorflow) (2.23.0)\n",
            "Requirement already satisfied: tensorboard-plugin-wit>=1.6.0 in /usr/local/lib/python3.7/dist-packages (from tensorboard~=2.6->tensorflow) (1.8.0)\n",
            "Requirement already satisfied: tensorboard-data-server<0.7.0,>=0.6.0 in /usr/local/lib/python3.7/dist-packages (from tensorboard~=2.6->tensorflow) (0.6.1)\n",
            "Requirement already satisfied: google-auth<3,>=1.6.3 in /usr/local/lib/python3.7/dist-packages (from tensorboard~=2.6->tensorflow) (1.35.0)\n",
            "Requirement already satisfied: werkzeug>=0.11.15 in /usr/local/lib/python3.7/dist-packages (from tensorboard~=2.6->tensorflow) (1.0.1)\n",
            "Requirement already satisfied: setuptools>=41.0.0 in /usr/local/lib/python3.7/dist-packages (from tensorboard~=2.6->tensorflow) (57.4.0)\n",
            "Requirement already satisfied: google-auth-oauthlib<0.5,>=0.4.1 in /usr/local/lib/python3.7/dist-packages (from tensorboard~=2.6->tensorflow) (0.4.6)\n",
            "Requirement already satisfied: rsa<5,>=3.1.4 in /usr/local/lib/python3.7/dist-packages (from google-auth<3,>=1.6.3->tensorboard~=2.6->tensorflow) (4.8)\n",
            "Requirement already satisfied: pyasn1-modules>=0.2.1 in /usr/local/lib/python3.7/dist-packages (from google-auth<3,>=1.6.3->tensorboard~=2.6->tensorflow) (0.2.8)\n",
            "Requirement already satisfied: cachetools<5.0,>=2.0.0 in /usr/local/lib/python3.7/dist-packages (from google-auth<3,>=1.6.3->tensorboard~=2.6->tensorflow) (4.2.4)\n",
            "Requirement already satisfied: requests-oauthlib>=0.7.0 in /usr/local/lib/python3.7/dist-packages (from google-auth-oauthlib<0.5,>=0.4.1->tensorboard~=2.6->tensorflow) (1.3.0)\n",
            "Requirement already satisfied: importlib-metadata>=4.4 in /usr/local/lib/python3.7/dist-packages (from markdown>=2.6.8->tensorboard~=2.6->tensorflow) (4.8.2)\n",
            "Requirement already satisfied: zipp>=0.5 in /usr/local/lib/python3.7/dist-packages (from importlib-metadata>=4.4->markdown>=2.6.8->tensorboard~=2.6->tensorflow) (3.6.0)\n",
            "Requirement already satisfied: pyasn1<0.5.0,>=0.4.6 in /usr/local/lib/python3.7/dist-packages (from pyasn1-modules>=0.2.1->google-auth<3,>=1.6.3->tensorboard~=2.6->tensorflow) (0.4.8)\n",
            "Requirement already satisfied: chardet<4,>=3.0.2 in /usr/local/lib/python3.7/dist-packages (from requests<3,>=2.21.0->tensorboard~=2.6->tensorflow) (3.0.4)\n",
            "Requirement already satisfied: idna<3,>=2.5 in /usr/local/lib/python3.7/dist-packages (from requests<3,>=2.21.0->tensorboard~=2.6->tensorflow) (2.10)\n",
            "Requirement already satisfied: certifi>=2017.4.17 in /usr/local/lib/python3.7/dist-packages (from requests<3,>=2.21.0->tensorboard~=2.6->tensorflow) (2021.10.8)\n",
            "Requirement already satisfied: urllib3!=1.25.0,!=1.25.1,<1.26,>=1.21.1 in /usr/local/lib/python3.7/dist-packages (from requests<3,>=2.21.0->tensorboard~=2.6->tensorflow) (1.24.3)\n",
            "Requirement already satisfied: oauthlib>=3.0.0 in /usr/local/lib/python3.7/dist-packages (from requests-oauthlib>=0.7.0->google-auth-oauthlib<0.5,>=0.4.1->tensorboard~=2.6->tensorflow) (3.1.1)\n"
          ]
        }
      ],
      "source": [
        "!pip install tensorflow"
      ]
    },
    {
      "cell_type": "code",
      "execution_count": 3,
      "metadata": {
        "id": "DESGzbPy4i7c"
      },
      "outputs": [],
      "source": [
        "# import libraries yang dibutuhkan\n",
        "\n",
        "import numpy as np # linear algebra\n",
        "import pandas as pd # data processing, CSV file I/O (e.g. pd.read_csv)\n",
        "from matplotlib import pyplot as plt\n",
        "\n",
        "from sklearn.feature_extraction.text import TfidfVectorizer\n",
        "from sklearn.feature_extraction.text import CountVectorizer\n",
        "\n",
        "import nltk\n",
        "from nltk import word_tokenize\n",
        "from nltk.stem import WordNetLemmatizer\n",
        "\n",
        "from sklearn.metrics import classification_report\n",
        "from sklearn.metrics import accuracy_score, f1_score, roc_auc_score\n",
        "from sklearn.metrics import confusion_matrix\n",
        "\n",
        "from sklearn.svm import SVC, LinearSVC\n",
        "# from sklearn.linear_model import LogisticRegression\n",
        "# from sklearn import tree\n",
        "# from sklearn.mixture import GaussianMixture\n",
        "# from sklearn.decomposition import PCA\n",
        "\n",
        "from keras.models import Sequential"
      ]
    },
    {
      "cell_type": "markdown",
      "metadata": {
        "id": "XNR-qffOIUGP"
      },
      "source": [
        "# Input Data dan Eksplorasi Data"
      ]
    },
    {
      "cell_type": "markdown",
      "metadata": {
        "id": "TXEyQusqAxJc"
      },
      "source": [
        "Memuat data, Memeriksa dan menyiapkan Dataset.\n",
        "\n",
        "File terdiri dari 25 judul berita Teratas per hari dan label dengan hanya dua nilai:\n",
        "\n",
        "    \"1\" ketika nilai DJIA Adj Close naik atau tetap sama\n",
        "    \"0\" ketika nilai DJIA Adj Close menurun"
      ]
    },
    {
      "cell_type": "code",
      "execution_count": 4,
      "metadata": {
        "colab": {
          "base_uri": "https://localhost:8080/",
          "height": 756
        },
        "id": "7WMU1yvh4kyV",
        "outputId": "06bfc3d1-fe43-4797-bb66-7900ff3608e8"
      },
      "outputs": [
        {
          "output_type": "execute_result",
          "data": {
            "text/html": [
              "\n",
              "  <div id=\"df-b9a8036c-c3f5-4dc3-8d06-e7899f45f41f\">\n",
              "    <div class=\"colab-df-container\">\n",
              "      <div>\n",
              "<style scoped>\n",
              "    .dataframe tbody tr th:only-of-type {\n",
              "        vertical-align: middle;\n",
              "    }\n",
              "\n",
              "    .dataframe tbody tr th {\n",
              "        vertical-align: top;\n",
              "    }\n",
              "\n",
              "    .dataframe thead th {\n",
              "        text-align: right;\n",
              "    }\n",
              "</style>\n",
              "<table border=\"1\" class=\"dataframe\">\n",
              "  <thead>\n",
              "    <tr style=\"text-align: right;\">\n",
              "      <th></th>\n",
              "      <th>Date</th>\n",
              "      <th>Label</th>\n",
              "      <th>Top1</th>\n",
              "      <th>Top2</th>\n",
              "      <th>Top3</th>\n",
              "      <th>Top4</th>\n",
              "      <th>Top5</th>\n",
              "      <th>Top6</th>\n",
              "      <th>Top7</th>\n",
              "      <th>Top8</th>\n",
              "      <th>Top9</th>\n",
              "      <th>Top10</th>\n",
              "      <th>Top11</th>\n",
              "      <th>Top12</th>\n",
              "      <th>Top13</th>\n",
              "      <th>Top14</th>\n",
              "      <th>Top15</th>\n",
              "      <th>Top16</th>\n",
              "      <th>Top17</th>\n",
              "      <th>Top18</th>\n",
              "      <th>Top19</th>\n",
              "      <th>Top20</th>\n",
              "      <th>Top21</th>\n",
              "      <th>Top22</th>\n",
              "      <th>Top23</th>\n",
              "      <th>Top24</th>\n",
              "      <th>Top25</th>\n",
              "    </tr>\n",
              "  </thead>\n",
              "  <tbody>\n",
              "    <tr>\n",
              "      <th>0</th>\n",
              "      <td>2008-08-08</td>\n",
              "      <td>0</td>\n",
              "      <td>b\"Georgia 'downs two Russian warplanes' as cou...</td>\n",
              "      <td>b'BREAKING: Musharraf to be impeached.'</td>\n",
              "      <td>b'Russia Today: Columns of troops roll into So...</td>\n",
              "      <td>b'Russian tanks are moving towards the capital...</td>\n",
              "      <td>b\"Afghan children raped with 'impunity,' U.N. ...</td>\n",
              "      <td>b'150 Russian tanks have entered South Ossetia...</td>\n",
              "      <td>b\"Breaking: Georgia invades South Ossetia, Rus...</td>\n",
              "      <td>b\"The 'enemy combatent' trials are nothing but...</td>\n",
              "      <td>b'Georgian troops retreat from S. Osettain cap...</td>\n",
              "      <td>b'Did the U.S. Prep Georgia for War with Russia?'</td>\n",
              "      <td>b'Rice Gives Green Light for Israel to Attack ...</td>\n",
              "      <td>b'Announcing:Class Action Lawsuit on Behalf of...</td>\n",
              "      <td>b\"So---Russia and Georgia are at war and the N...</td>\n",
              "      <td>b\"China tells Bush to stay out of other countr...</td>\n",
              "      <td>b'Did World War III start today?'</td>\n",
              "      <td>b'Georgia Invades South Ossetia - if Russia ge...</td>\n",
              "      <td>b'Al-Qaeda Faces Islamist Backlash'</td>\n",
              "      <td>b'Condoleezza Rice: \"The US would not act to p...</td>\n",
              "      <td>b'This is a busy day:  The European Union has ...</td>\n",
              "      <td>b\"Georgia will withdraw 1,000 soldiers from Ir...</td>\n",
              "      <td>b'Why the Pentagon Thinks Attacking Iran is a ...</td>\n",
              "      <td>b'Caucasus in crisis: Georgia invades South Os...</td>\n",
              "      <td>b'Indian shoe manufactory  - And again in a se...</td>\n",
              "      <td>b'Visitors Suffering from Mental Illnesses Ban...</td>\n",
              "      <td>b\"No Help for Mexico's Kidnapping Surge\"</td>\n",
              "    </tr>\n",
              "    <tr>\n",
              "      <th>1</th>\n",
              "      <td>2008-08-11</td>\n",
              "      <td>1</td>\n",
              "      <td>b'Why wont America and Nato help us? If they w...</td>\n",
              "      <td>b'Bush puts foot down on Georgian conflict'</td>\n",
              "      <td>b\"Jewish Georgian minister: Thanks to Israeli ...</td>\n",
              "      <td>b'Georgian army flees in disarray as Russians ...</td>\n",
              "      <td>b\"Olympic opening ceremony fireworks 'faked'\"</td>\n",
              "      <td>b'What were the Mossad with fraudulent New Zea...</td>\n",
              "      <td>b'Russia angered by Israeli military sale to G...</td>\n",
              "      <td>b'An American citizen living in S.Ossetia blam...</td>\n",
              "      <td>b'Welcome To World War IV! Now In High Definit...</td>\n",
              "      <td>b\"Georgia's move, a mistake of monumental prop...</td>\n",
              "      <td>b'Russia presses deeper into Georgia; U.S. say...</td>\n",
              "      <td>b'Abhinav Bindra wins first ever Individual Ol...</td>\n",
              "      <td>b' U.S. ship heads for Arctic to define territ...</td>\n",
              "      <td>b'Drivers in a Jerusalem taxi station threaten...</td>\n",
              "      <td>b'The French Team is Stunned by Phelps and the...</td>\n",
              "      <td>b'Israel and the US behind the Georgian aggres...</td>\n",
              "      <td>b'\"Do not believe TV, neither Russian nor Geor...</td>\n",
              "      <td>b'Riots are still going on in Montreal (Canada...</td>\n",
              "      <td>b'China to overtake US as largest manufacturer'</td>\n",
              "      <td>b'War in South Ossetia [PICS]'</td>\n",
              "      <td>b'Israeli Physicians Group Condemns State Tort...</td>\n",
              "      <td>b' Russia has just beaten the United States ov...</td>\n",
              "      <td>b'Perhaps *the* question about the Georgia - R...</td>\n",
              "      <td>b'Russia is so much better at war'</td>\n",
              "      <td>b\"So this is what it's come to: trading sex fo...</td>\n",
              "    </tr>\n",
              "    <tr>\n",
              "      <th>2</th>\n",
              "      <td>2008-08-12</td>\n",
              "      <td>0</td>\n",
              "      <td>b'Remember that adorable 9-year-old who sang a...</td>\n",
              "      <td>b\"Russia 'ends Georgia operation'\"</td>\n",
              "      <td>b'\"If we had no sexual harassment we would hav...</td>\n",
              "      <td>b\"Al-Qa'eda is losing support in Iraq because ...</td>\n",
              "      <td>b'Ceasefire in Georgia: Putin Outmaneuvers the...</td>\n",
              "      <td>b'Why Microsoft and Intel tried to kill the XO...</td>\n",
              "      <td>b'Stratfor: The Russo-Georgian War and the Bal...</td>\n",
              "      <td>b\"I'm Trying to Get a Sense of This Whole Geor...</td>\n",
              "      <td>b\"The US military was surprised by the timing ...</td>\n",
              "      <td>b'U.S. Beats War Drum as Iran Dumps the Dollar'</td>\n",
              "      <td>b'Gorbachev: \"Georgian military attacked the S...</td>\n",
              "      <td>b'CNN use footage of Tskhinvali ruins to cover...</td>\n",
              "      <td>b'Beginning a war as the Olympics were opening...</td>\n",
              "      <td>b'55 pyramids as large as the Luxor stacked in...</td>\n",
              "      <td>b'The 11 Top Party Cities in the World'</td>\n",
              "      <td>b'U.S. troops still in Georgia (did you know t...</td>\n",
              "      <td>b'Why Russias response to Georgia was right'</td>\n",
              "      <td>b'Gorbachev accuses U.S. of making a \"serious ...</td>\n",
              "      <td>b'Russia, Georgia, and NATO: Cold War Two'</td>\n",
              "      <td>b'Remember that adorable 62-year-old who led y...</td>\n",
              "      <td>b'War in Georgia: The Israeli connection'</td>\n",
              "      <td>b'All signs point to the US encouraging Georgi...</td>\n",
              "      <td>b'Christopher King argues that the US and NATO...</td>\n",
              "      <td>b'America: The New Mexico?'</td>\n",
              "      <td>b\"BBC NEWS | Asia-Pacific | Extinction 'by man...</td>\n",
              "    </tr>\n",
              "    <tr>\n",
              "      <th>3</th>\n",
              "      <td>2008-08-13</td>\n",
              "      <td>0</td>\n",
              "      <td>b' U.S. refuses Israel weapons to attack Iran:...</td>\n",
              "      <td>b\"When the president ordered to attack Tskhinv...</td>\n",
              "      <td>b' Israel clears troops who killed Reuters cam...</td>\n",
              "      <td>b'Britain\\'s policy of being tough on drugs is...</td>\n",
              "      <td>b'Body of 14 year old found in trunk; Latest (...</td>\n",
              "      <td>b'China has moved 10 *million* quake survivors...</td>\n",
              "      <td>b\"Bush announces Operation Get All Up In Russi...</td>\n",
              "      <td>b'Russian forces sink Georgian ships '</td>\n",
              "      <td>b\"The commander of a Navy air reconnaissance s...</td>\n",
              "      <td>b\"92% of CNN readers: Russia's actions in Geor...</td>\n",
              "      <td>b'USA to send fleet into Black Sea to help Geo...</td>\n",
              "      <td>b\"US warns against Israeli plan to strike agai...</td>\n",
              "      <td>b\"In an intriguing cyberalliance, two Estonian...</td>\n",
              "      <td>b'The CNN Effect: Georgia Schools Russia in In...</td>\n",
              "      <td>b'Why Russias response to Georgia was right'</td>\n",
              "      <td>b'Elephants extinct by 2020?'</td>\n",
              "      <td>b'US humanitarian missions soon in Georgia - i...</td>\n",
              "      <td>b\"Georgia's DDOS came from US sources\"</td>\n",
              "      <td>b'Russian convoy heads into Georgia, violating...</td>\n",
              "      <td>b'Israeli defence minister: US against strike ...</td>\n",
              "      <td>b'Gorbachev: We Had No Choice'</td>\n",
              "      <td>b'Witness: Russian forces head towards Tbilisi...</td>\n",
              "      <td>b' Quarter of Russians blame U.S. for conflict...</td>\n",
              "      <td>b'Georgian president  says US military will ta...</td>\n",
              "      <td>b'2006: Nobel laureate Aleksander Solzhenitsyn...</td>\n",
              "    </tr>\n",
              "    <tr>\n",
              "      <th>4</th>\n",
              "      <td>2008-08-14</td>\n",
              "      <td>1</td>\n",
              "      <td>b'All the experts admit that we should legalis...</td>\n",
              "      <td>b'War in South Osetia - 89 pictures made by a ...</td>\n",
              "      <td>b'Swedish wrestler Ara Abrahamian throws away ...</td>\n",
              "      <td>b'Russia exaggerated the death toll in South O...</td>\n",
              "      <td>b'Missile That Killed 9 Inside Pakistan May Ha...</td>\n",
              "      <td>b\"Rushdie Condemns Random House's Refusal to P...</td>\n",
              "      <td>b'Poland and US agree to missle defense deal. ...</td>\n",
              "      <td>b'Will the Russians conquer Tblisi? Bet on it,...</td>\n",
              "      <td>b'Russia exaggerating South Ossetian death tol...</td>\n",
              "      <td>b' Musharraf expected to resign rather than fa...</td>\n",
              "      <td>b'Moscow Made Plans Months Ago to Invade Georgia'</td>\n",
              "      <td>b'Why Russias response to Georgia was right'</td>\n",
              "      <td>b'Nigeria has handed over the potentially oil-...</td>\n",
              "      <td>b'The US and Poland have agreed a preliminary ...</td>\n",
              "      <td>b'Russia apparently is sabotaging infrastructu...</td>\n",
              "      <td>b'Bank analyst forecast Georgian crisis 2 days...</td>\n",
              "      <td>b\"Georgia confict could set back Russia's US r...</td>\n",
              "      <td>b'War in the Caucasus is as much the product o...</td>\n",
              "      <td>b'\"Non-media\" photos of South Ossetia/Georgia ...</td>\n",
              "      <td>b'Georgian TV reporter shot by Russian sniper ...</td>\n",
              "      <td>b'Saudi Arabia: Mother moves to block child ma...</td>\n",
              "      <td>b'Taliban wages war on humanitarian aid workers'</td>\n",
              "      <td>b'Russia: World  \"can forget about\" Georgia\\'s...</td>\n",
              "      <td>b'Darfur rebels accuse Sudan of mounting major...</td>\n",
              "      <td>b'Philippines : Peace Advocate say Muslims nee...</td>\n",
              "    </tr>\n",
              "  </tbody>\n",
              "</table>\n",
              "</div>\n",
              "      <button class=\"colab-df-convert\" onclick=\"convertToInteractive('df-b9a8036c-c3f5-4dc3-8d06-e7899f45f41f')\"\n",
              "              title=\"Convert this dataframe to an interactive table.\"\n",
              "              style=\"display:none;\">\n",
              "        \n",
              "  <svg xmlns=\"http://www.w3.org/2000/svg\" height=\"24px\"viewBox=\"0 0 24 24\"\n",
              "       width=\"24px\">\n",
              "    <path d=\"M0 0h24v24H0V0z\" fill=\"none\"/>\n",
              "    <path d=\"M18.56 5.44l.94 2.06.94-2.06 2.06-.94-2.06-.94-.94-2.06-.94 2.06-2.06.94zm-11 1L8.5 8.5l.94-2.06 2.06-.94-2.06-.94L8.5 2.5l-.94 2.06-2.06.94zm10 10l.94 2.06.94-2.06 2.06-.94-2.06-.94-.94-2.06-.94 2.06-2.06.94z\"/><path d=\"M17.41 7.96l-1.37-1.37c-.4-.4-.92-.59-1.43-.59-.52 0-1.04.2-1.43.59L10.3 9.45l-7.72 7.72c-.78.78-.78 2.05 0 2.83L4 21.41c.39.39.9.59 1.41.59.51 0 1.02-.2 1.41-.59l7.78-7.78 2.81-2.81c.8-.78.8-2.07 0-2.86zM5.41 20L4 18.59l7.72-7.72 1.47 1.35L5.41 20z\"/>\n",
              "  </svg>\n",
              "      </button>\n",
              "      \n",
              "  <style>\n",
              "    .colab-df-container {\n",
              "      display:flex;\n",
              "      flex-wrap:wrap;\n",
              "      gap: 12px;\n",
              "    }\n",
              "\n",
              "    .colab-df-convert {\n",
              "      background-color: #E8F0FE;\n",
              "      border: none;\n",
              "      border-radius: 50%;\n",
              "      cursor: pointer;\n",
              "      display: none;\n",
              "      fill: #1967D2;\n",
              "      height: 32px;\n",
              "      padding: 0 0 0 0;\n",
              "      width: 32px;\n",
              "    }\n",
              "\n",
              "    .colab-df-convert:hover {\n",
              "      background-color: #E2EBFA;\n",
              "      box-shadow: 0px 1px 2px rgba(60, 64, 67, 0.3), 0px 1px 3px 1px rgba(60, 64, 67, 0.15);\n",
              "      fill: #174EA6;\n",
              "    }\n",
              "\n",
              "    [theme=dark] .colab-df-convert {\n",
              "      background-color: #3B4455;\n",
              "      fill: #D2E3FC;\n",
              "    }\n",
              "\n",
              "    [theme=dark] .colab-df-convert:hover {\n",
              "      background-color: #434B5C;\n",
              "      box-shadow: 0px 1px 3px 1px rgba(0, 0, 0, 0.15);\n",
              "      filter: drop-shadow(0px 1px 2px rgba(0, 0, 0, 0.3));\n",
              "      fill: #FFFFFF;\n",
              "    }\n",
              "  </style>\n",
              "\n",
              "      <script>\n",
              "        const buttonEl =\n",
              "          document.querySelector('#df-b9a8036c-c3f5-4dc3-8d06-e7899f45f41f button.colab-df-convert');\n",
              "        buttonEl.style.display =\n",
              "          google.colab.kernel.accessAllowed ? 'block' : 'none';\n",
              "\n",
              "        async function convertToInteractive(key) {\n",
              "          const element = document.querySelector('#df-b9a8036c-c3f5-4dc3-8d06-e7899f45f41f');\n",
              "          const dataTable =\n",
              "            await google.colab.kernel.invokeFunction('convertToInteractive',\n",
              "                                                     [key], {});\n",
              "          if (!dataTable) return;\n",
              "\n",
              "          const docLinkHtml = 'Like what you see? Visit the ' +\n",
              "            '<a target=\"_blank\" href=https://colab.research.google.com/notebooks/data_table.ipynb>data table notebook</a>'\n",
              "            + ' to learn more about interactive tables.';\n",
              "          element.innerHTML = '';\n",
              "          dataTable['output_type'] = 'display_data';\n",
              "          await google.colab.output.renderOutput(dataTable, element);\n",
              "          const docLink = document.createElement('div');\n",
              "          docLink.innerHTML = docLinkHtml;\n",
              "          element.appendChild(docLink);\n",
              "        }\n",
              "      </script>\n",
              "    </div>\n",
              "  </div>\n",
              "  "
            ],
            "text/plain": [
              "         Date  ...                                              Top25\n",
              "0  2008-08-08  ...           b\"No Help for Mexico's Kidnapping Surge\"\n",
              "1  2008-08-11  ...  b\"So this is what it's come to: trading sex fo...\n",
              "2  2008-08-12  ...  b\"BBC NEWS | Asia-Pacific | Extinction 'by man...\n",
              "3  2008-08-13  ...  b'2006: Nobel laureate Aleksander Solzhenitsyn...\n",
              "4  2008-08-14  ...  b'Philippines : Peace Advocate say Muslims nee...\n",
              "\n",
              "[5 rows x 27 columns]"
            ]
          },
          "metadata": {},
          "execution_count": 4
        }
      ],
      "source": [
        "# import data\n",
        "data = pd.read_csv('/content/drive/MyDrive/Tesis Oke/Combined_News_DJIA.csv')\n",
        "\n",
        "# menampilkan isi data\n",
        "data.head()"
      ]
    },
    {
      "cell_type": "code",
      "execution_count": 5,
      "metadata": {
        "colab": {
          "base_uri": "https://localhost:8080/"
        },
        "id": "Yh9IUllu7YBP",
        "outputId": "6a6a3433-ab52-4ffa-d4c1-aa03ac1e0264"
      },
      "outputs": [
        {
          "output_type": "execute_result",
          "data": {
            "text/plain": [
              "(1989, 27)"
            ]
          },
          "metadata": {},
          "execution_count": 5
        }
      ],
      "source": [
        "# mengecek dimensi data\n",
        "data.shape"
      ]
    },
    {
      "cell_type": "code",
      "execution_count": 6,
      "metadata": {
        "colab": {
          "base_uri": "https://localhost:8080/"
        },
        "id": "lx9NEaV57dnK",
        "outputId": "95ce4401-fc0b-4ca9-955f-691692838b89"
      },
      "outputs": [
        {
          "output_type": "stream",
          "name": "stdout",
          "text": [
            "<class 'pandas.core.frame.DataFrame'>\n",
            "RangeIndex: 1989 entries, 0 to 1988\n",
            "Data columns (total 27 columns):\n",
            " #   Column  Non-Null Count  Dtype \n",
            "---  ------  --------------  ----- \n",
            " 0   Date    1989 non-null   object\n",
            " 1   Label   1989 non-null   int64 \n",
            " 2   Top1    1989 non-null   object\n",
            " 3   Top2    1989 non-null   object\n",
            " 4   Top3    1989 non-null   object\n",
            " 5   Top4    1989 non-null   object\n",
            " 6   Top5    1989 non-null   object\n",
            " 7   Top6    1989 non-null   object\n",
            " 8   Top7    1989 non-null   object\n",
            " 9   Top8    1989 non-null   object\n",
            " 10  Top9    1989 non-null   object\n",
            " 11  Top10   1989 non-null   object\n",
            " 12  Top11   1989 non-null   object\n",
            " 13  Top12   1989 non-null   object\n",
            " 14  Top13   1989 non-null   object\n",
            " 15  Top14   1989 non-null   object\n",
            " 16  Top15   1989 non-null   object\n",
            " 17  Top16   1989 non-null   object\n",
            " 18  Top17   1989 non-null   object\n",
            " 19  Top18   1989 non-null   object\n",
            " 20  Top19   1989 non-null   object\n",
            " 21  Top20   1989 non-null   object\n",
            " 22  Top21   1989 non-null   object\n",
            " 23  Top22   1989 non-null   object\n",
            " 24  Top23   1988 non-null   object\n",
            " 25  Top24   1986 non-null   object\n",
            " 26  Top25   1986 non-null   object\n",
            "dtypes: int64(1), object(26)\n",
            "memory usage: 419.7+ KB\n"
          ]
        }
      ],
      "source": [
        "# mengecek type data\n",
        "data.info()"
      ]
    },
    {
      "cell_type": "code",
      "execution_count": 7,
      "metadata": {
        "colab": {
          "base_uri": "https://localhost:8080/"
        },
        "id": "foT-PpkI7hrP",
        "outputId": "5087a5db-8b34-43e1-d3d6-0adae747358f"
      },
      "outputs": [
        {
          "output_type": "execute_result",
          "data": {
            "text/plain": [
              "Date     0\n",
              "Label    0\n",
              "Top1     0\n",
              "Top2     0\n",
              "Top3     0\n",
              "Top4     0\n",
              "Top5     0\n",
              "Top6     0\n",
              "Top7     0\n",
              "Top8     0\n",
              "Top9     0\n",
              "Top10    0\n",
              "Top11    0\n",
              "Top12    0\n",
              "Top13    0\n",
              "Top14    0\n",
              "Top15    0\n",
              "Top16    0\n",
              "Top17    0\n",
              "Top18    0\n",
              "Top19    0\n",
              "Top20    0\n",
              "Top21    0\n",
              "Top22    0\n",
              "Top23    1\n",
              "Top24    3\n",
              "Top25    3\n",
              "dtype: int64"
            ]
          },
          "metadata": {},
          "execution_count": 7
        }
      ],
      "source": [
        "# mengecek data yang kosong\n",
        "data.isnull().sum()"
      ]
    },
    {
      "cell_type": "code",
      "execution_count": 8,
      "metadata": {
        "colab": {
          "base_uri": "https://localhost:8080/"
        },
        "id": "zAgKInMB7rnk",
        "outputId": "c618d98a-b5db-43a9-f9bb-8cf98f611f08"
      },
      "outputs": [
        {
          "output_type": "execute_result",
          "data": {
            "text/plain": [
              "Label\n",
              "0     924\n",
              "1    1065\n",
              "dtype: int64"
            ]
          },
          "metadata": {},
          "execution_count": 8
        }
      ],
      "source": [
        "# distiribusi label target\n",
        "data.groupby('Label').size()"
      ]
    },
    {
      "cell_type": "markdown",
      "metadata": {
        "id": "Z9LtKWGOsQvk"
      },
      "source": [
        "# Preprocessing"
      ]
    },
    {
      "cell_type": "markdown",
      "metadata": {
        "id": "XmQB7hoQBBN1"
      },
      "source": [
        "Pertama, semua headline digabung menjadi satu kolom yaitu menjadi kolom headlines"
      ]
    },
    {
      "cell_type": "code",
      "execution_count": 9,
      "metadata": {
        "id": "u1Z41n8k4sT0"
      },
      "outputs": [],
      "source": [
        "data['headlines'] = data[data.columns[2:]].apply(lambda x: '. '.join(x.dropna().astype(str)),axis=1)"
      ]
    },
    {
      "cell_type": "code",
      "execution_count": 10,
      "metadata": {
        "colab": {
          "base_uri": "https://localhost:8080/"
        },
        "id": "qMWRemBO75zp",
        "outputId": "712526c3-2589-46d5-f208-a010ae4f6421"
      },
      "outputs": [
        {
          "output_type": "execute_result",
          "data": {
            "text/plain": [
              "0    b\"Georgia 'downs two Russian warplanes' as cou...\n",
              "1    b'Why wont America and Nato help us? If they w...\n",
              "2    b'Remember that adorable 9-year-old who sang a...\n",
              "3    b' U.S. refuses Israel weapons to attack Iran:...\n",
              "4    b'All the experts admit that we should legalis...\n",
              "5    b\"Mom of missing gay man: Too bad he's not a 2...\n",
              "6    b'In an Afghan prison, the majority of female ...\n",
              "7    b\"Man arrested and locked up for five hours af...\n",
              "8    b'Two elderly Chinese women have been sentence...\n",
              "9    b\"British resident held in Guantanamo Bay wins...\n",
              "Name: headlines, dtype: object"
            ]
          },
          "metadata": {},
          "execution_count": 10
        }
      ],
      "source": [
        "data['headlines'].head(10)"
      ]
    },
    {
      "cell_type": "code",
      "execution_count": 11,
      "metadata": {
        "colab": {
          "base_uri": "https://localhost:8080/"
        },
        "id": "izJZQzfi8Cm0",
        "outputId": "190d38c2-d895-45d7-a252-1c15b6759723"
      },
      "outputs": [
        {
          "output_type": "execute_result",
          "data": {
            "text/plain": [
              "(1989, 28)"
            ]
          },
          "metadata": {},
          "execution_count": 11
        }
      ],
      "source": [
        "data.shape"
      ]
    },
    {
      "cell_type": "markdown",
      "metadata": {
        "id": "XZ5JeemmBQIr"
      },
      "source": [
        "Histogram dari panjang teks berita utama"
      ]
    },
    {
      "cell_type": "code",
      "execution_count": 12,
      "metadata": {
        "colab": {
          "base_uri": "https://localhost:8080/",
          "height": 282
        },
        "id": "dCaQDBEL4zC8",
        "outputId": "4490f4ec-c077-4ccc-8ddd-3e31d48dd9e8"
      },
      "outputs": [
        {
          "output_type": "execute_result",
          "data": {
            "text/plain": [
              "<matplotlib.axes._subplots.AxesSubplot at 0x7efbc13182d0>"
            ]
          },
          "metadata": {},
          "execution_count": 12
        },
        {
          "output_type": "display_data",
          "data": {
            "image/png": "[encoded data removed]",
            "text/plain": [
              "<Figure size 432x288 with 1 Axes>"
            ]
          },
          "metadata": {
            "needs_background": "light"
          }
        }
      ],
      "source": [
        "data['comment_length'] = data['headlines'].apply(lambda x : len(x))\n",
        "data['comment_length'].hist()"
      ]
    },
    {
      "cell_type": "code",
      "execution_count": 13,
      "metadata": {
        "colab": {
          "base_uri": "https://localhost:8080/"
        },
        "id": "KEd1Pi5M8JEs",
        "outputId": "6ab7980b-6a12-41df-c2ea-cbc17c1237d3"
      },
      "outputs": [
        {
          "output_type": "execute_result",
          "data": {
            "text/plain": [
              "Date              0\n",
              "Label             0\n",
              "Top1              0\n",
              "Top2              0\n",
              "Top3              0\n",
              "Top4              0\n",
              "Top5              0\n",
              "Top6              0\n",
              "Top7              0\n",
              "Top8              0\n",
              "Top9              0\n",
              "Top10             0\n",
              "Top11             0\n",
              "Top12             0\n",
              "Top13             0\n",
              "Top14             0\n",
              "Top15             0\n",
              "Top16             0\n",
              "Top17             0\n",
              "Top18             0\n",
              "Top19             0\n",
              "Top20             0\n",
              "Top21             0\n",
              "Top22             0\n",
              "Top23             1\n",
              "Top24             3\n",
              "Top25             3\n",
              "headlines         0\n",
              "comment_length    0\n",
              "dtype: int64"
            ]
          },
          "metadata": {},
          "execution_count": 13
        }
      ],
      "source": [
        "data.isnull().sum()"
      ]
    },
    {
      "cell_type": "markdown",
      "metadata": {
        "id": "8nithLQmBWtH"
      },
      "source": [
        "\n",
        "\n",
        "Distribution of labels\n"
      ]
    },
    {
      "cell_type": "code",
      "execution_count": 14,
      "metadata": {
        "colab": {
          "base_uri": "https://localhost:8080/",
          "height": 282
        },
        "id": "Gb639tOm432A",
        "outputId": "5cf9f777-462b-4ed9-f75e-b26c657a4e64"
      },
      "outputs": [
        {
          "output_type": "execute_result",
          "data": {
            "text/plain": [
              "<matplotlib.axes._subplots.AxesSubplot at 0x7efbc125ba90>"
            ]
          },
          "metadata": {},
          "execution_count": 14
        },
        {
          "output_type": "display_data",
          "data": {
            "image/png": "[encoded data removed]",
            "text/plain": [
              "<Figure size 432x288 with 1 Axes>"
            ]
          },
          "metadata": {
            "needs_background": "light"
          }
        }
      ],
      "source": [
        "data['Label'].hist()"
      ]
    },
    {
      "cell_type": "markdown",
      "metadata": {
        "id": "lIBefr3LBiID"
      },
      "source": [
        "Membagi data menjadi rangkaian train dan test. Seperti yang diusulkan, data hingga 31.12.2014 digunakan sebagai set train dan dua tahun berikutnya sebagai set test. Ini kira-kira pembagian 80%/20%."
      ]
    },
    {
      "cell_type": "code",
      "execution_count": 15,
      "metadata": {
        "id": "FW7X_M7N46a_"
      },
      "outputs": [],
      "source": [
        "train = data[data['Date'] < '2015-01-01']\n",
        "test = data[data['Date'] > '2014-12-31']"
      ]
    },
    {
      "cell_type": "code",
      "execution_count": 16,
      "metadata": {
        "colab": {
          "base_uri": "https://localhost:8080/"
        },
        "id": "TOb-Ck4V8VEx",
        "outputId": "ce60cab2-765e-4ad1-82f2-9743856e01da"
      },
      "outputs": [
        {
          "output_type": "execute_result",
          "data": {
            "text/plain": [
              "(1611, 29)"
            ]
          },
          "metadata": {},
          "execution_count": 16
        }
      ],
      "source": [
        "train.shape"
      ]
    },
    {
      "cell_type": "code",
      "execution_count": 17,
      "metadata": {
        "colab": {
          "base_uri": "https://localhost:8080/"
        },
        "id": "lmWbeHJf8XLF",
        "outputId": "98ad08db-f00c-405b-ce69-37d434266956"
      },
      "outputs": [
        {
          "output_type": "execute_result",
          "data": {
            "text/plain": [
              "(378, 29)"
            ]
          },
          "metadata": {},
          "execution_count": 17
        }
      ],
      "source": [
        "test.shape"
      ]
    },
    {
      "cell_type": "markdown",
      "metadata": {
        "id": "aG1gzcKsbqV6"
      },
      "source": [
        "# TF-IDF dan Classifier"
      ]
    },
    {
      "cell_type": "markdown",
      "metadata": {
        "id": "tdxbsvQTb7uy"
      },
      "source": [
        "## TF-IDF"
      ]
    },
    {
      "cell_type": "markdown",
      "metadata": {
        "id": "jzg8A95RBq1R"
      },
      "source": [
        "Upaya pertama dengan Tf-idf dan Classifier sederhana\n",
        "\n",
        "Mulai dari berita utama harian, kalimat-kalimat tersebut diubah menjadi kata-kata dengan menggunakan RegexpTokenizer dari nltk. Lemmatisasi juga diterapkan. CustomTokenizer berikut mengambil alih tugas ini."
      ]
    },
    {
      "cell_type": "code",
      "execution_count": 18,
      "metadata": {
        "colab": {
          "base_uri": "https://localhost:8080/"
        },
        "id": "9PXER_jw5Ac_",
        "outputId": "a4a0bfef-f676-4609-ab58-799407ecd7d0"
      },
      "outputs": [
        {
          "output_type": "stream",
          "name": "stdout",
          "text": [
            "[nltk_data] Downloading package wordnet to /root/nltk_data...\n",
            "[nltk_data]   Package wordnet is already up-to-date!\n"
          ]
        }
      ],
      "source": [
        "import nltk\n",
        "nltk.download('wordnet')\n",
        "\n",
        "nltk.download('stopwords', quiet=True, raise_on_error=True)\n",
        "stop_words_en = set(nltk.corpus.stopwords.words('english'))\n",
        "stop_words_en.add(\"b\")\n",
        "\n",
        "class CustomTokenizer:\n",
        "    \n",
        "    def __init__(self):\n",
        "        self.wnl = WordNetLemmatizer()\n",
        "        self.tokenizer = nltk.tokenize.RegexpTokenizer(r'\\w+')\n",
        "        \n",
        "    def _lem(self, token):\n",
        "        if (token in stop_words_en):\n",
        "            return token  # Memecahkan kesalahan \"UserWarning: stop_words Anda mungkin tidak konsisten dengan prapemrosesan Anda.\"\n",
        "        return self.wnl.lemmatize(token)\n",
        "    \n",
        "    def __call__(self, doc):\n",
        "        return [self._lem(t) for t in self.tokenizer.tokenize(doc)]"
      ]
    },
    {
      "cell_type": "markdown",
      "metadata": {
        "id": "CJFUB3ncBzSS"
      },
      "source": [
        "Menggunakan CustomTokenizer, TfidfVectorizer mengonversi kumpulan headline mentah menjadi matriks fitur TF-IDF.\n",
        "\n",
        "    Stopwords bahasa Inggris dihapus, semua kata diubah menjadi huruf kecil\n",
        "    Dengan ngram_range=(2,2) hanya kata-tupel yang dipertimbangkan\n",
        "    min_df dan max_df mengabaikan istilah yang memiliki frekuensi dokumen lebih rendah/lebih tinggi dari ambang batas yang diberikan (dalam persen)\n",
        "\n",
        "Untuk pemasangan vectorizer, hanya training set yang digunakan."
      ]
    },
    {
      "cell_type": "code",
      "execution_count": 19,
      "metadata": {
        "id": "UfqHy1vL5BTM"
      },
      "outputs": [],
      "source": [
        "vectorizer = CountVectorizer(tokenizer=CustomTokenizer(), stop_words=stop_words_en, lowercase=True, min_df=0.0075,  max_df=0.05, ngram_range=(2,2))\n",
        "\n",
        "features_train = vectorizer.fit_transform(train['headlines'].tolist())\n",
        "features_test = vectorizer.transform(test['headlines'].tolist())"
      ]
    },
    {
      "cell_type": "code",
      "execution_count": 20,
      "metadata": {
        "colab": {
          "base_uri": "https://localhost:8080/"
        },
        "id": "R22nEORx9EZ2",
        "outputId": "a573a929-4c17-4f12-d821-ce1030356e67"
      },
      "outputs": [
        {
          "output_type": "execute_result",
          "data": {
            "text/plain": [
              "(1611, 1219)"
            ]
          },
          "metadata": {},
          "execution_count": 20
        }
      ],
      "source": [
        "features_train.shape"
      ]
    },
    {
      "cell_type": "code",
      "execution_count": 21,
      "metadata": {
        "colab": {
          "base_uri": "https://localhost:8080/"
        },
        "id": "gDYShuep9Eoh",
        "outputId": "b213dda6-60a3-4cdb-ac55-c3df14d572d2"
      },
      "outputs": [
        {
          "output_type": "execute_result",
          "data": {
            "text/plain": [
              "(378, 1219)"
            ]
          },
          "metadata": {},
          "execution_count": 21
        }
      ],
      "source": [
        "features_test.shape"
      ]
    },
    {
      "cell_type": "markdown",
      "metadata": {
        "id": "lwgvNwTeB-SN"
      },
      "source": [
        "Periksa nama fitur dan fitur TF-IDF"
      ]
    },
    {
      "cell_type": "code",
      "execution_count": 22,
      "metadata": {
        "colab": {
          "base_uri": "https://localhost:8080/",
          "height": 369
        },
        "id": "I1k3XfQF5EsW",
        "outputId": "a098da8e-a644-4c53-bd40-81d15246f2f1"
      },
      "outputs": [
        {
          "output_type": "stream",
          "name": "stderr",
          "text": [
            "/usr/local/lib/python3.7/dist-packages/sklearn/utils/deprecation.py:87: FutureWarning: Function get_feature_names is deprecated; get_feature_names is deprecated in 1.0 and will be removed in 1.2. Please use get_feature_names_out instead.\n",
            "  warnings.warn(msg, category=FutureWarning)\n"
          ]
        },
        {
          "output_type": "stream",
          "name": "stdout",
          "text": [
            "['250 000', '3 000', '3 billion', '3 day', '3 million', '3 year', '30 000', '30 million', '30 year', '300 000', '300 million', '4 000', '4 5', '4 billion', '4 day', '4 million', '4 year', '40 000', '40 year', '48 hour', '5 000', '5 billion', '5 million', '5 year', '50 000', '50 million', '50 year', '500 000', '500 year', '6 000', '6 billion', '6 million', '6 month', '60 000', '60 year', '7 billion', '7 year', '70 000', '70 percent', '8 000', '8 year', '9 11', '9 year', 'abc news', 'abuse scandal', 'according new', 'according report', 'accuses u', 'acid attack', 'across country']\n"
          ]
        },
        {
          "output_type": "execute_result",
          "data": {
            "text/html": [
              "\n",
              "  <div id=\"df-c6b14350-6a0c-4515-9234-9a0b889e83fc\">\n",
              "    <div class=\"colab-df-container\">\n",
              "      <div>\n",
              "<style scoped>\n",
              "    .dataframe tbody tr th:only-of-type {\n",
              "        vertical-align: middle;\n",
              "    }\n",
              "\n",
              "    .dataframe tbody tr th {\n",
              "        vertical-align: top;\n",
              "    }\n",
              "\n",
              "    .dataframe thead th {\n",
              "        text-align: right;\n",
              "    }\n",
              "</style>\n",
              "<table border=\"1\" class=\"dataframe\">\n",
              "  <thead>\n",
              "    <tr style=\"text-align: right;\">\n",
              "      <th></th>\n",
              "      <th>000 000</th>\n",
              "      <th>000 dead</th>\n",
              "      <th>000 euro</th>\n",
              "      <th>000 troop</th>\n",
              "      <th>000 year</th>\n",
              "      <th>1 2</th>\n",
              "      <th>1 3</th>\n",
              "      <th>1 4</th>\n",
              "      <th>1 5</th>\n",
              "      <th>1 500</th>\n",
              "      <th>1 6</th>\n",
              "      <th>1 billion</th>\n",
              "      <th>1 million</th>\n",
              "      <th>10 000</th>\n",
              "      <th>10 day</th>\n",
              "      <th>10 million</th>\n",
              "      <th>10 year</th>\n",
              "      <th>100 000</th>\n",
              "      <th>100 million</th>\n",
              "      <th>100 year</th>\n",
              "      <th>11 year</th>\n",
              "      <th>12 000</th>\n",
              "      <th>12 year</th>\n",
              "      <th>13 year</th>\n",
              "      <th>14 year</th>\n",
              "      <th>15 000</th>\n",
              "      <th>15 year</th>\n",
              "      <th>150 000</th>\n",
              "      <th>16 000</th>\n",
              "      <th>16 year</th>\n",
              "      <th>17 year</th>\n",
              "      <th>18 year</th>\n",
              "      <th>19 year</th>\n",
              "      <th>2 000</th>\n",
              "      <th>2 3</th>\n",
              "      <th>2 5</th>\n",
              "      <th>2 billion</th>\n",
              "      <th>2 day</th>\n",
              "      <th>2 million</th>\n",
              "      <th>2 year</th>\n",
              "      <th>...</th>\n",
              "      <th>wind farm</th>\n",
              "      <th>wind power</th>\n",
              "      <th>without border</th>\n",
              "      <th>without charge</th>\n",
              "      <th>woman arrested</th>\n",
              "      <th>woman child</th>\n",
              "      <th>woman girl</th>\n",
              "      <th>woman raped</th>\n",
              "      <th>woman right</th>\n",
              "      <th>woman sentenced</th>\n",
              "      <th>world bank</th>\n",
              "      <th>world biggest</th>\n",
              "      <th>world cup</th>\n",
              "      <th>world economy</th>\n",
              "      <th>world first</th>\n",
              "      <th>world health</th>\n",
              "      <th>world heritage</th>\n",
              "      <th>world largest</th>\n",
              "      <th>world leader</th>\n",
              "      <th>world news</th>\n",
              "      <th>world oldest</th>\n",
              "      <th>world population</th>\n",
              "      <th>world richest</th>\n",
              "      <th>would allow</th>\n",
              "      <th>would like</th>\n",
              "      <th>would make</th>\n",
              "      <th>x post</th>\n",
              "      <th>xpost r</th>\n",
              "      <th>year jail</th>\n",
              "      <th>year later</th>\n",
              "      <th>year since</th>\n",
              "      <th>year u</th>\n",
              "      <th>year world</th>\n",
              "      <th>york time</th>\n",
              "      <th>young child</th>\n",
              "      <th>young girl</th>\n",
              "      <th>young men</th>\n",
              "      <th>young people</th>\n",
              "      <th>young woman</th>\n",
              "      <th>yr old</th>\n",
              "    </tr>\n",
              "  </thead>\n",
              "  <tbody>\n",
              "    <tr>\n",
              "      <th>0</th>\n",
              "      <td>0</td>\n",
              "      <td>0</td>\n",
              "      <td>0</td>\n",
              "      <td>0</td>\n",
              "      <td>0</td>\n",
              "      <td>1</td>\n",
              "      <td>0</td>\n",
              "      <td>0</td>\n",
              "      <td>0</td>\n",
              "      <td>0</td>\n",
              "      <td>0</td>\n",
              "      <td>0</td>\n",
              "      <td>0</td>\n",
              "      <td>0</td>\n",
              "      <td>0</td>\n",
              "      <td>0</td>\n",
              "      <td>0</td>\n",
              "      <td>0</td>\n",
              "      <td>0</td>\n",
              "      <td>0</td>\n",
              "      <td>0</td>\n",
              "      <td>0</td>\n",
              "      <td>0</td>\n",
              "      <td>0</td>\n",
              "      <td>0</td>\n",
              "      <td>0</td>\n",
              "      <td>0</td>\n",
              "      <td>0</td>\n",
              "      <td>0</td>\n",
              "      <td>0</td>\n",
              "      <td>0</td>\n",
              "      <td>0</td>\n",
              "      <td>0</td>\n",
              "      <td>0</td>\n",
              "      <td>0</td>\n",
              "      <td>0</td>\n",
              "      <td>0</td>\n",
              "      <td>0</td>\n",
              "      <td>0</td>\n",
              "      <td>1</td>\n",
              "      <td>...</td>\n",
              "      <td>0</td>\n",
              "      <td>0</td>\n",
              "      <td>0</td>\n",
              "      <td>0</td>\n",
              "      <td>0</td>\n",
              "      <td>0</td>\n",
              "      <td>0</td>\n",
              "      <td>0</td>\n",
              "      <td>0</td>\n",
              "      <td>0</td>\n",
              "      <td>0</td>\n",
              "      <td>0</td>\n",
              "      <td>0</td>\n",
              "      <td>0</td>\n",
              "      <td>0</td>\n",
              "      <td>0</td>\n",
              "      <td>0</td>\n",
              "      <td>0</td>\n",
              "      <td>0</td>\n",
              "      <td>0</td>\n",
              "      <td>0</td>\n",
              "      <td>0</td>\n",
              "      <td>0</td>\n",
              "      <td>0</td>\n",
              "      <td>0</td>\n",
              "      <td>0</td>\n",
              "      <td>0</td>\n",
              "      <td>0</td>\n",
              "      <td>0</td>\n",
              "      <td>0</td>\n",
              "      <td>0</td>\n",
              "      <td>0</td>\n",
              "      <td>0</td>\n",
              "      <td>0</td>\n",
              "      <td>0</td>\n",
              "      <td>0</td>\n",
              "      <td>0</td>\n",
              "      <td>0</td>\n",
              "      <td>0</td>\n",
              "      <td>0</td>\n",
              "    </tr>\n",
              "    <tr>\n",
              "      <th>1</th>\n",
              "      <td>0</td>\n",
              "      <td>0</td>\n",
              "      <td>0</td>\n",
              "      <td>0</td>\n",
              "      <td>0</td>\n",
              "      <td>0</td>\n",
              "      <td>0</td>\n",
              "      <td>0</td>\n",
              "      <td>0</td>\n",
              "      <td>0</td>\n",
              "      <td>0</td>\n",
              "      <td>0</td>\n",
              "      <td>0</td>\n",
              "      <td>0</td>\n",
              "      <td>0</td>\n",
              "      <td>0</td>\n",
              "      <td>0</td>\n",
              "      <td>0</td>\n",
              "      <td>0</td>\n",
              "      <td>0</td>\n",
              "      <td>0</td>\n",
              "      <td>0</td>\n",
              "      <td>0</td>\n",
              "      <td>0</td>\n",
              "      <td>0</td>\n",
              "      <td>0</td>\n",
              "      <td>0</td>\n",
              "      <td>0</td>\n",
              "      <td>0</td>\n",
              "      <td>0</td>\n",
              "      <td>0</td>\n",
              "      <td>0</td>\n",
              "      <td>0</td>\n",
              "      <td>0</td>\n",
              "      <td>0</td>\n",
              "      <td>0</td>\n",
              "      <td>0</td>\n",
              "      <td>0</td>\n",
              "      <td>0</td>\n",
              "      <td>0</td>\n",
              "      <td>...</td>\n",
              "      <td>0</td>\n",
              "      <td>0</td>\n",
              "      <td>0</td>\n",
              "      <td>0</td>\n",
              "      <td>0</td>\n",
              "      <td>0</td>\n",
              "      <td>0</td>\n",
              "      <td>0</td>\n",
              "      <td>0</td>\n",
              "      <td>0</td>\n",
              "      <td>0</td>\n",
              "      <td>0</td>\n",
              "      <td>0</td>\n",
              "      <td>0</td>\n",
              "      <td>0</td>\n",
              "      <td>0</td>\n",
              "      <td>0</td>\n",
              "      <td>0</td>\n",
              "      <td>0</td>\n",
              "      <td>0</td>\n",
              "      <td>0</td>\n",
              "      <td>0</td>\n",
              "      <td>0</td>\n",
              "      <td>0</td>\n",
              "      <td>0</td>\n",
              "      <td>0</td>\n",
              "      <td>0</td>\n",
              "      <td>0</td>\n",
              "      <td>0</td>\n",
              "      <td>0</td>\n",
              "      <td>0</td>\n",
              "      <td>0</td>\n",
              "      <td>0</td>\n",
              "      <td>0</td>\n",
              "      <td>0</td>\n",
              "      <td>0</td>\n",
              "      <td>0</td>\n",
              "      <td>0</td>\n",
              "      <td>0</td>\n",
              "      <td>0</td>\n",
              "    </tr>\n",
              "    <tr>\n",
              "      <th>2</th>\n",
              "      <td>0</td>\n",
              "      <td>0</td>\n",
              "      <td>0</td>\n",
              "      <td>0</td>\n",
              "      <td>0</td>\n",
              "      <td>0</td>\n",
              "      <td>0</td>\n",
              "      <td>0</td>\n",
              "      <td>0</td>\n",
              "      <td>0</td>\n",
              "      <td>0</td>\n",
              "      <td>0</td>\n",
              "      <td>0</td>\n",
              "      <td>0</td>\n",
              "      <td>0</td>\n",
              "      <td>0</td>\n",
              "      <td>0</td>\n",
              "      <td>0</td>\n",
              "      <td>0</td>\n",
              "      <td>0</td>\n",
              "      <td>0</td>\n",
              "      <td>0</td>\n",
              "      <td>0</td>\n",
              "      <td>0</td>\n",
              "      <td>0</td>\n",
              "      <td>0</td>\n",
              "      <td>0</td>\n",
              "      <td>0</td>\n",
              "      <td>0</td>\n",
              "      <td>0</td>\n",
              "      <td>0</td>\n",
              "      <td>0</td>\n",
              "      <td>0</td>\n",
              "      <td>0</td>\n",
              "      <td>0</td>\n",
              "      <td>0</td>\n",
              "      <td>0</td>\n",
              "      <td>0</td>\n",
              "      <td>0</td>\n",
              "      <td>0</td>\n",
              "      <td>...</td>\n",
              "      <td>0</td>\n",
              "      <td>0</td>\n",
              "      <td>0</td>\n",
              "      <td>0</td>\n",
              "      <td>0</td>\n",
              "      <td>0</td>\n",
              "      <td>0</td>\n",
              "      <td>0</td>\n",
              "      <td>0</td>\n",
              "      <td>0</td>\n",
              "      <td>0</td>\n",
              "      <td>0</td>\n",
              "      <td>0</td>\n",
              "      <td>0</td>\n",
              "      <td>0</td>\n",
              "      <td>0</td>\n",
              "      <td>0</td>\n",
              "      <td>0</td>\n",
              "      <td>0</td>\n",
              "      <td>0</td>\n",
              "      <td>0</td>\n",
              "      <td>0</td>\n",
              "      <td>0</td>\n",
              "      <td>0</td>\n",
              "      <td>0</td>\n",
              "      <td>0</td>\n",
              "      <td>0</td>\n",
              "      <td>0</td>\n",
              "      <td>0</td>\n",
              "      <td>0</td>\n",
              "      <td>0</td>\n",
              "      <td>0</td>\n",
              "      <td>0</td>\n",
              "      <td>0</td>\n",
              "      <td>0</td>\n",
              "      <td>0</td>\n",
              "      <td>0</td>\n",
              "      <td>0</td>\n",
              "      <td>0</td>\n",
              "      <td>0</td>\n",
              "    </tr>\n",
              "    <tr>\n",
              "      <th>3</th>\n",
              "      <td>0</td>\n",
              "      <td>0</td>\n",
              "      <td>0</td>\n",
              "      <td>0</td>\n",
              "      <td>0</td>\n",
              "      <td>0</td>\n",
              "      <td>0</td>\n",
              "      <td>0</td>\n",
              "      <td>0</td>\n",
              "      <td>0</td>\n",
              "      <td>0</td>\n",
              "      <td>0</td>\n",
              "      <td>0</td>\n",
              "      <td>0</td>\n",
              "      <td>0</td>\n",
              "      <td>1</td>\n",
              "      <td>0</td>\n",
              "      <td>0</td>\n",
              "      <td>0</td>\n",
              "      <td>0</td>\n",
              "      <td>0</td>\n",
              "      <td>0</td>\n",
              "      <td>0</td>\n",
              "      <td>0</td>\n",
              "      <td>1</td>\n",
              "      <td>0</td>\n",
              "      <td>0</td>\n",
              "      <td>0</td>\n",
              "      <td>0</td>\n",
              "      <td>0</td>\n",
              "      <td>0</td>\n",
              "      <td>0</td>\n",
              "      <td>0</td>\n",
              "      <td>0</td>\n",
              "      <td>0</td>\n",
              "      <td>0</td>\n",
              "      <td>0</td>\n",
              "      <td>0</td>\n",
              "      <td>0</td>\n",
              "      <td>0</td>\n",
              "      <td>...</td>\n",
              "      <td>0</td>\n",
              "      <td>0</td>\n",
              "      <td>0</td>\n",
              "      <td>0</td>\n",
              "      <td>0</td>\n",
              "      <td>0</td>\n",
              "      <td>0</td>\n",
              "      <td>0</td>\n",
              "      <td>0</td>\n",
              "      <td>0</td>\n",
              "      <td>0</td>\n",
              "      <td>0</td>\n",
              "      <td>0</td>\n",
              "      <td>0</td>\n",
              "      <td>0</td>\n",
              "      <td>0</td>\n",
              "      <td>0</td>\n",
              "      <td>0</td>\n",
              "      <td>0</td>\n",
              "      <td>0</td>\n",
              "      <td>0</td>\n",
              "      <td>0</td>\n",
              "      <td>0</td>\n",
              "      <td>0</td>\n",
              "      <td>0</td>\n",
              "      <td>0</td>\n",
              "      <td>0</td>\n",
              "      <td>0</td>\n",
              "      <td>0</td>\n",
              "      <td>0</td>\n",
              "      <td>0</td>\n",
              "      <td>0</td>\n",
              "      <td>0</td>\n",
              "      <td>0</td>\n",
              "      <td>0</td>\n",
              "      <td>0</td>\n",
              "      <td>0</td>\n",
              "      <td>0</td>\n",
              "      <td>0</td>\n",
              "      <td>0</td>\n",
              "    </tr>\n",
              "    <tr>\n",
              "      <th>4</th>\n",
              "      <td>0</td>\n",
              "      <td>0</td>\n",
              "      <td>0</td>\n",
              "      <td>0</td>\n",
              "      <td>0</td>\n",
              "      <td>0</td>\n",
              "      <td>0</td>\n",
              "      <td>0</td>\n",
              "      <td>0</td>\n",
              "      <td>0</td>\n",
              "      <td>0</td>\n",
              "      <td>0</td>\n",
              "      <td>0</td>\n",
              "      <td>0</td>\n",
              "      <td>0</td>\n",
              "      <td>0</td>\n",
              "      <td>0</td>\n",
              "      <td>0</td>\n",
              "      <td>0</td>\n",
              "      <td>0</td>\n",
              "      <td>0</td>\n",
              "      <td>0</td>\n",
              "      <td>0</td>\n",
              "      <td>0</td>\n",
              "      <td>0</td>\n",
              "      <td>0</td>\n",
              "      <td>0</td>\n",
              "      <td>0</td>\n",
              "      <td>0</td>\n",
              "      <td>0</td>\n",
              "      <td>0</td>\n",
              "      <td>0</td>\n",
              "      <td>0</td>\n",
              "      <td>1</td>\n",
              "      <td>0</td>\n",
              "      <td>0</td>\n",
              "      <td>0</td>\n",
              "      <td>1</td>\n",
              "      <td>0</td>\n",
              "      <td>0</td>\n",
              "      <td>...</td>\n",
              "      <td>0</td>\n",
              "      <td>0</td>\n",
              "      <td>0</td>\n",
              "      <td>0</td>\n",
              "      <td>0</td>\n",
              "      <td>0</td>\n",
              "      <td>0</td>\n",
              "      <td>0</td>\n",
              "      <td>0</td>\n",
              "      <td>0</td>\n",
              "      <td>0</td>\n",
              "      <td>0</td>\n",
              "      <td>0</td>\n",
              "      <td>0</td>\n",
              "      <td>0</td>\n",
              "      <td>0</td>\n",
              "      <td>0</td>\n",
              "      <td>0</td>\n",
              "      <td>0</td>\n",
              "      <td>1</td>\n",
              "      <td>0</td>\n",
              "      <td>0</td>\n",
              "      <td>0</td>\n",
              "      <td>0</td>\n",
              "      <td>0</td>\n",
              "      <td>0</td>\n",
              "      <td>0</td>\n",
              "      <td>0</td>\n",
              "      <td>0</td>\n",
              "      <td>0</td>\n",
              "      <td>0</td>\n",
              "      <td>0</td>\n",
              "      <td>1</td>\n",
              "      <td>0</td>\n",
              "      <td>0</td>\n",
              "      <td>0</td>\n",
              "      <td>0</td>\n",
              "      <td>0</td>\n",
              "      <td>0</td>\n",
              "      <td>0</td>\n",
              "    </tr>\n",
              "  </tbody>\n",
              "</table>\n",
              "<p>5 rows × 1219 columns</p>\n",
              "</div>\n",
              "      <button class=\"colab-df-convert\" onclick=\"convertToInteractive('df-c6b14350-6a0c-4515-9234-9a0b889e83fc')\"\n",
              "              title=\"Convert this dataframe to an interactive table.\"\n",
              "              style=\"display:none;\">\n",
              "        \n",
              "  <svg xmlns=\"http://www.w3.org/2000/svg\" height=\"24px\"viewBox=\"0 0 24 24\"\n",
              "       width=\"24px\">\n",
              "    <path d=\"M0 0h24v24H0V0z\" fill=\"none\"/>\n",
              "    <path d=\"M18.56 5.44l.94 2.06.94-2.06 2.06-.94-2.06-.94-.94-2.06-.94 2.06-2.06.94zm-11 1L8.5 8.5l.94-2.06 2.06-.94-2.06-.94L8.5 2.5l-.94 2.06-2.06.94zm10 10l.94 2.06.94-2.06 2.06-.94-2.06-.94-.94-2.06-.94 2.06-2.06.94z\"/><path d=\"M17.41 7.96l-1.37-1.37c-.4-.4-.92-.59-1.43-.59-.52 0-1.04.2-1.43.59L10.3 9.45l-7.72 7.72c-.78.78-.78 2.05 0 2.83L4 21.41c.39.39.9.59 1.41.59.51 0 1.02-.2 1.41-.59l7.78-7.78 2.81-2.81c.8-.78.8-2.07 0-2.86zM5.41 20L4 18.59l7.72-7.72 1.47 1.35L5.41 20z\"/>\n",
              "  </svg>\n",
              "      </button>\n",
              "      \n",
              "  <style>\n",
              "    .colab-df-container {\n",
              "      display:flex;\n",
              "      flex-wrap:wrap;\n",
              "      gap: 12px;\n",
              "    }\n",
              "\n",
              "    .colab-df-convert {\n",
              "      background-color: #E8F0FE;\n",
              "      border: none;\n",
              "      border-radius: 50%;\n",
              "      cursor: pointer;\n",
              "      display: none;\n",
              "      fill: #1967D2;\n",
              "      height: 32px;\n",
              "      padding: 0 0 0 0;\n",
              "      width: 32px;\n",
              "    }\n",
              "\n",
              "    .colab-df-convert:hover {\n",
              "      background-color: #E2EBFA;\n",
              "      box-shadow: 0px 1px 2px rgba(60, 64, 67, 0.3), 0px 1px 3px 1px rgba(60, 64, 67, 0.15);\n",
              "      fill: #174EA6;\n",
              "    }\n",
              "\n",
              "    [theme=dark] .colab-df-convert {\n",
              "      background-color: #3B4455;\n",
              "      fill: #D2E3FC;\n",
              "    }\n",
              "\n",
              "    [theme=dark] .colab-df-convert:hover {\n",
              "      background-color: #434B5C;\n",
              "      box-shadow: 0px 1px 3px 1px rgba(0, 0, 0, 0.15);\n",
              "      filter: drop-shadow(0px 1px 2px rgba(0, 0, 0, 0.3));\n",
              "      fill: #FFFFFF;\n",
              "    }\n",
              "  </style>\n",
              "\n",
              "      <script>\n",
              "        const buttonEl =\n",
              "          document.querySelector('#df-c6b14350-6a0c-4515-9234-9a0b889e83fc button.colab-df-convert');\n",
              "        buttonEl.style.display =\n",
              "          google.colab.kernel.accessAllowed ? 'block' : 'none';\n",
              "\n",
              "        async function convertToInteractive(key) {\n",
              "          const element = document.querySelector('#df-c6b14350-6a0c-4515-9234-9a0b889e83fc');\n",
              "          const dataTable =\n",
              "            await google.colab.kernel.invokeFunction('convertToInteractive',\n",
              "                                                     [key], {});\n",
              "          if (!dataTable) return;\n",
              "\n",
              "          const docLinkHtml = 'Like what you see? Visit the ' +\n",
              "            '<a target=\"_blank\" href=https://colab.research.google.com/notebooks/data_table.ipynb>data table notebook</a>'\n",
              "            + ' to learn more about interactive tables.';\n",
              "          element.innerHTML = '';\n",
              "          dataTable['output_type'] = 'display_data';\n",
              "          await google.colab.output.renderOutput(dataTable, element);\n",
              "          const docLink = document.createElement('div');\n",
              "          docLink.innerHTML = docLinkHtml;\n",
              "          element.appendChild(docLink);\n",
              "        }\n",
              "      </script>\n",
              "    </div>\n",
              "  </div>\n",
              "  "
            ],
            "text/plain": [
              "   000 000  000 dead  000 euro  ...  young people  young woman  yr old\n",
              "0        0         0         0  ...             0            0       0\n",
              "1        0         0         0  ...             0            0       0\n",
              "2        0         0         0  ...             0            0       0\n",
              "3        0         0         0  ...             0            0       0\n",
              "4        0         0         0  ...             0            0       0\n",
              "\n",
              "[5 rows x 1219 columns]"
            ]
          },
          "metadata": {},
          "execution_count": 22
        }
      ],
      "source": [
        "feature_names = vectorizer.get_feature_names()\n",
        "print(feature_names[50:100])\n",
        "\n",
        "X_train = pd.DataFrame(features_train.todense(), columns = feature_names)\n",
        "X_test = pd.DataFrame(features_test.todense(), columns = feature_names)\n",
        "\n",
        "X_train.head()"
      ]
    },
    {
      "cell_type": "code",
      "execution_count": 23,
      "metadata": {
        "colab": {
          "base_uri": "https://localhost:8080/",
          "height": 206
        },
        "id": "M3bQTsNt5IQD",
        "outputId": "3eee3133-bd68-4f9f-fd85-3a5cf7b2631a"
      },
      "outputs": [
        {
          "output_type": "execute_result",
          "data": {
            "text/html": [
              "\n",
              "  <div id=\"df-9308bf49-6670-4ac8-b3f7-e0d0ee661f2b\">\n",
              "    <div class=\"colab-df-container\">\n",
              "      <div>\n",
              "<style scoped>\n",
              "    .dataframe tbody tr th:only-of-type {\n",
              "        vertical-align: middle;\n",
              "    }\n",
              "\n",
              "    .dataframe tbody tr th {\n",
              "        vertical-align: top;\n",
              "    }\n",
              "\n",
              "    .dataframe thead th {\n",
              "        text-align: right;\n",
              "    }\n",
              "</style>\n",
              "<table border=\"1\" class=\"dataframe\">\n",
              "  <thead>\n",
              "    <tr style=\"text-align: right;\">\n",
              "      <th></th>\n",
              "      <th>0</th>\n",
              "      <th>1</th>\n",
              "    </tr>\n",
              "  </thead>\n",
              "  <tbody>\n",
              "    <tr>\n",
              "      <th>0</th>\n",
              "      <td>islamic state</td>\n",
              "      <td>73</td>\n",
              "    </tr>\n",
              "    <tr>\n",
              "      <th>1</th>\n",
              "      <td>world cup</td>\n",
              "      <td>60</td>\n",
              "    </tr>\n",
              "    <tr>\n",
              "      <th>2</th>\n",
              "      <td>bin laden</td>\n",
              "      <td>51</td>\n",
              "    </tr>\n",
              "    <tr>\n",
              "      <th>3</th>\n",
              "      <td>supreme court</td>\n",
              "      <td>50</td>\n",
              "    </tr>\n",
              "    <tr>\n",
              "      <th>4</th>\n",
              "      <td>right group</td>\n",
              "      <td>50</td>\n",
              "    </tr>\n",
              "  </tbody>\n",
              "</table>\n",
              "</div>\n",
              "      <button class=\"colab-df-convert\" onclick=\"convertToInteractive('df-9308bf49-6670-4ac8-b3f7-e0d0ee661f2b')\"\n",
              "              title=\"Convert this dataframe to an interactive table.\"\n",
              "              style=\"display:none;\">\n",
              "        \n",
              "  <svg xmlns=\"http://www.w3.org/2000/svg\" height=\"24px\"viewBox=\"0 0 24 24\"\n",
              "       width=\"24px\">\n",
              "    <path d=\"M0 0h24v24H0V0z\" fill=\"none\"/>\n",
              "    <path d=\"M18.56 5.44l.94 2.06.94-2.06 2.06-.94-2.06-.94-.94-2.06-.94 2.06-2.06.94zm-11 1L8.5 8.5l.94-2.06 2.06-.94-2.06-.94L8.5 2.5l-.94 2.06-2.06.94zm10 10l.94 2.06.94-2.06 2.06-.94-2.06-.94-.94-2.06-.94 2.06-2.06.94z\"/><path d=\"M17.41 7.96l-1.37-1.37c-.4-.4-.92-.59-1.43-.59-.52 0-1.04.2-1.43.59L10.3 9.45l-7.72 7.72c-.78.78-.78 2.05 0 2.83L4 21.41c.39.39.9.59 1.41.59.51 0 1.02-.2 1.41-.59l7.78-7.78 2.81-2.81c.8-.78.8-2.07 0-2.86zM5.41 20L4 18.59l7.72-7.72 1.47 1.35L5.41 20z\"/>\n",
              "  </svg>\n",
              "      </button>\n",
              "      \n",
              "  <style>\n",
              "    .colab-df-container {\n",
              "      display:flex;\n",
              "      flex-wrap:wrap;\n",
              "      gap: 12px;\n",
              "    }\n",
              "\n",
              "    .colab-df-convert {\n",
              "      background-color: #E8F0FE;\n",
              "      border: none;\n",
              "      border-radius: 50%;\n",
              "      cursor: pointer;\n",
              "      display: none;\n",
              "      fill: #1967D2;\n",
              "      height: 32px;\n",
              "      padding: 0 0 0 0;\n",
              "      width: 32px;\n",
              "    }\n",
              "\n",
              "    .colab-df-convert:hover {\n",
              "      background-color: #E2EBFA;\n",
              "      box-shadow: 0px 1px 2px rgba(60, 64, 67, 0.3), 0px 1px 3px 1px rgba(60, 64, 67, 0.15);\n",
              "      fill: #174EA6;\n",
              "    }\n",
              "\n",
              "    [theme=dark] .colab-df-convert {\n",
              "      background-color: #3B4455;\n",
              "      fill: #D2E3FC;\n",
              "    }\n",
              "\n",
              "    [theme=dark] .colab-df-convert:hover {\n",
              "      background-color: #434B5C;\n",
              "      box-shadow: 0px 1px 3px 1px rgba(0, 0, 0, 0.15);\n",
              "      filter: drop-shadow(0px 1px 2px rgba(0, 0, 0, 0.3));\n",
              "      fill: #FFFFFF;\n",
              "    }\n",
              "  </style>\n",
              "\n",
              "      <script>\n",
              "        const buttonEl =\n",
              "          document.querySelector('#df-9308bf49-6670-4ac8-b3f7-e0d0ee661f2b button.colab-df-convert');\n",
              "        buttonEl.style.display =\n",
              "          google.colab.kernel.accessAllowed ? 'block' : 'none';\n",
              "\n",
              "        async function convertToInteractive(key) {\n",
              "          const element = document.querySelector('#df-9308bf49-6670-4ac8-b3f7-e0d0ee661f2b');\n",
              "          const dataTable =\n",
              "            await google.colab.kernel.invokeFunction('convertToInteractive',\n",
              "                                                     [key], {});\n",
              "          if (!dataTable) return;\n",
              "\n",
              "          const docLinkHtml = 'Like what you see? Visit the ' +\n",
              "            '<a target=\"_blank\" href=https://colab.research.google.com/notebooks/data_table.ipynb>data table notebook</a>'\n",
              "            + ' to learn more about interactive tables.';\n",
              "          element.innerHTML = '';\n",
              "          dataTable['output_type'] = 'display_data';\n",
              "          await google.colab.output.renderOutput(dataTable, element);\n",
              "          const docLink = document.createElement('div');\n",
              "          docLink.innerHTML = docLinkHtml;\n",
              "          element.appendChild(docLink);\n",
              "        }\n",
              "      </script>\n",
              "    </div>\n",
              "  </div>\n",
              "  "
            ],
            "text/plain": [
              "               0   1\n",
              "0  islamic state  73\n",
              "1      world cup  60\n",
              "2      bin laden  51\n",
              "3  supreme court  50\n",
              "4    right group  50"
            ]
          },
          "metadata": {},
          "execution_count": 23
        }
      ],
      "source": [
        "from collections import defaultdict\n",
        "\n",
        "up_unigrams = defaultdict(int)\n",
        "down_unigrams = defaultdict(int)\n",
        "\n",
        "for word in feature_names:\n",
        "    up_unigrams[word] += np.sum(X_train[train['Label']==1][word])\n",
        "    down_unigrams[word] += np.sum(X_train[train['Label']==0][word])\n",
        "        \n",
        "df_up_unigrams = pd.DataFrame(sorted(up_unigrams.items(), key=lambda x: x[1])[::-1])\n",
        "df_down_unigrams = pd.DataFrame(sorted(down_unigrams.items(), key=lambda x: x[1])[::-1])\n",
        "df_up_unigrams.head()"
      ]
    },
    {
      "cell_type": "code",
      "execution_count": 24,
      "metadata": {
        "colab": {
          "base_uri": "https://localhost:8080/",
          "height": 806
        },
        "id": "eccQoXOvCNx0",
        "outputId": "4b06db25-5b8c-4e40-f774-772276ca47b1"
      },
      "outputs": [
        {
          "output_type": "display_data",
          "data": {
            "image/png": "[encoded data removed]",
            "text/plain": [
              "<Figure size 1500x1000 with 2 Axes>"
            ]
          },
          "metadata": {
            "needs_background": "light"
          }
        }
      ],
      "source": [
        "import seaborn as sns\n",
        "\n",
        "N=25\n",
        "\n",
        "fig, axes = plt.subplots(ncols=2, figsize=(15, 10), dpi=100)\n",
        "plt.tight_layout()\n",
        "\n",
        "sns.barplot(y=df_up_unigrams[0].values[:N], x=df_up_unigrams[1].values[:N], ax=axes[0], color='green')\n",
        "sns.barplot(y=df_down_unigrams[0].values[:N], x=df_down_unigrams[1].values[:N], ax=axes[1], color='red')\n",
        "\n",
        "for i in range(2):\n",
        "    axes[i].spines['right'].set_visible(False)\n",
        "    axes[i].set_xlabel('')\n",
        "    axes[i].set_ylabel('')\n",
        "    axes[i].tick_params(axis='x', labelsize=10)\n",
        "    axes[i].tick_params(axis='y', labelsize=10)\n",
        "\n",
        "axes[0].set_title(f'Top {N} most common unigrams in headlines resulting in stock up', fontsize=15)\n",
        "axes[1].set_title(f'Top {N} most common unigrams in headlines resulting in stock down', fontsize=15)\n",
        "\n",
        "plt.show()"
      ]
    },
    {
      "cell_type": "markdown",
      "metadata": {
        "id": "JpWfpriCCTmf"
      },
      "source": [
        "## Use SVC Classifier to predict test data"
      ]
    },
    {
      "cell_type": "code",
      "execution_count": 25,
      "metadata": {
        "colab": {
          "base_uri": "https://localhost:8080/",
          "height": 161
        },
        "id": "9PiXzHV55MSX",
        "outputId": "73b3a271-2e91-40d5-a0a1-499acfb4d904"
      },
      "outputs": [
        {
          "output_type": "stream",
          "name": "stdout",
          "text": [
            "Accuracy X_train: 0.9621353196772191\n"
          ]
        },
        {
          "output_type": "execute_result",
          "data": {
            "text/html": [
              "\n",
              "  <div id=\"df-23580bbe-749b-4eec-a64d-c961e8fa699e\">\n",
              "    <div class=\"colab-df-container\">\n",
              "      <div>\n",
              "<style scoped>\n",
              "    .dataframe tbody tr th:only-of-type {\n",
              "        vertical-align: middle;\n",
              "    }\n",
              "\n",
              "    .dataframe tbody tr th {\n",
              "        vertical-align: top;\n",
              "    }\n",
              "\n",
              "    .dataframe thead th {\n",
              "        text-align: right;\n",
              "    }\n",
              "</style>\n",
              "<table border=\"1\" class=\"dataframe\">\n",
              "  <thead>\n",
              "    <tr style=\"text-align: right;\">\n",
              "      <th>Predicted</th>\n",
              "      <th>0</th>\n",
              "      <th>1</th>\n",
              "    </tr>\n",
              "    <tr>\n",
              "      <th>Actual</th>\n",
              "      <th></th>\n",
              "      <th></th>\n",
              "    </tr>\n",
              "  </thead>\n",
              "  <tbody>\n",
              "    <tr>\n",
              "      <th>0</th>\n",
              "      <td>36</td>\n",
              "      <td>150</td>\n",
              "    </tr>\n",
              "    <tr>\n",
              "      <th>1</th>\n",
              "      <td>30</td>\n",
              "      <td>162</td>\n",
              "    </tr>\n",
              "  </tbody>\n",
              "</table>\n",
              "</div>\n",
              "      <button class=\"colab-df-convert\" onclick=\"convertToInteractive('df-23580bbe-749b-4eec-a64d-c961e8fa699e')\"\n",
              "              title=\"Convert this dataframe to an interactive table.\"\n",
              "              style=\"display:none;\">\n",
              "        \n",
              "  <svg xmlns=\"http://www.w3.org/2000/svg\" height=\"24px\"viewBox=\"0 0 24 24\"\n",
              "       width=\"24px\">\n",
              "    <path d=\"M0 0h24v24H0V0z\" fill=\"none\"/>\n",
              "    <path d=\"M18.56 5.44l.94 2.06.94-2.06 2.06-.94-2.06-.94-.94-2.06-.94 2.06-2.06.94zm-11 1L8.5 8.5l.94-2.06 2.06-.94-2.06-.94L8.5 2.5l-.94 2.06-2.06.94zm10 10l.94 2.06.94-2.06 2.06-.94-2.06-.94-.94-2.06-.94 2.06-2.06.94z\"/><path d=\"M17.41 7.96l-1.37-1.37c-.4-.4-.92-.59-1.43-.59-.52 0-1.04.2-1.43.59L10.3 9.45l-7.72 7.72c-.78.78-.78 2.05 0 2.83L4 21.41c.39.39.9.59 1.41.59.51 0 1.02-.2 1.41-.59l7.78-7.78 2.81-2.81c.8-.78.8-2.07 0-2.86zM5.41 20L4 18.59l7.72-7.72 1.47 1.35L5.41 20z\"/>\n",
              "  </svg>\n",
              "      </button>\n",
              "      \n",
              "  <style>\n",
              "    .colab-df-container {\n",
              "      display:flex;\n",
              "      flex-wrap:wrap;\n",
              "      gap: 12px;\n",
              "    }\n",
              "\n",
              "    .colab-df-convert {\n",
              "      background-color: #E8F0FE;\n",
              "      border: none;\n",
              "      border-radius: 50%;\n",
              "      cursor: pointer;\n",
              "      display: none;\n",
              "      fill: #1967D2;\n",
              "      height: 32px;\n",
              "      padding: 0 0 0 0;\n",
              "      width: 32px;\n",
              "    }\n",
              "\n",
              "    .colab-df-convert:hover {\n",
              "      background-color: #E2EBFA;\n",
              "      box-shadow: 0px 1px 2px rgba(60, 64, 67, 0.3), 0px 1px 3px 1px rgba(60, 64, 67, 0.15);\n",
              "      fill: #174EA6;\n",
              "    }\n",
              "\n",
              "    [theme=dark] .colab-df-convert {\n",
              "      background-color: #3B4455;\n",
              "      fill: #D2E3FC;\n",
              "    }\n",
              "\n",
              "    [theme=dark] .colab-df-convert:hover {\n",
              "      background-color: #434B5C;\n",
              "      box-shadow: 0px 1px 3px 1px rgba(0, 0, 0, 0.15);\n",
              "      filter: drop-shadow(0px 1px 2px rgba(0, 0, 0, 0.3));\n",
              "      fill: #FFFFFF;\n",
              "    }\n",
              "  </style>\n",
              "\n",
              "      <script>\n",
              "        const buttonEl =\n",
              "          document.querySelector('#df-23580bbe-749b-4eec-a64d-c961e8fa699e button.colab-df-convert');\n",
              "        buttonEl.style.display =\n",
              "          google.colab.kernel.accessAllowed ? 'block' : 'none';\n",
              "\n",
              "        async function convertToInteractive(key) {\n",
              "          const element = document.querySelector('#df-23580bbe-749b-4eec-a64d-c961e8fa699e');\n",
              "          const dataTable =\n",
              "            await google.colab.kernel.invokeFunction('convertToInteractive',\n",
              "                                                     [key], {});\n",
              "          if (!dataTable) return;\n",
              "\n",
              "          const docLinkHtml = 'Like what you see? Visit the ' +\n",
              "            '<a target=\"_blank\" href=https://colab.research.google.com/notebooks/data_table.ipynb>data table notebook</a>'\n",
              "            + ' to learn more about interactive tables.';\n",
              "          element.innerHTML = '';\n",
              "          dataTable['output_type'] = 'display_data';\n",
              "          await google.colab.output.renderOutput(dataTable, element);\n",
              "          const docLink = document.createElement('div');\n",
              "          docLink.innerHTML = docLinkHtml;\n",
              "          element.appendChild(docLink);\n",
              "        }\n",
              "      </script>\n",
              "    </div>\n",
              "  </div>\n",
              "  "
            ],
            "text/plain": [
              "Predicted   0    1\n",
              "Actual            \n",
              "0          36  150\n",
              "1          30  162"
            ]
          },
          "metadata": {},
          "execution_count": 25
        }
      ],
      "source": [
        "# Model SVM\n",
        "clf = SVC()\n",
        "clf = clf.fit(X_train, train[\"Label\"].tolist())\n",
        "print('Accuracy X_train: ' + str(clf.score(X_train, train[\"Label\"].tolist())))\n",
        "\n",
        "# Evaluasi Model SVM\n",
        "predictions = clf.predict(X_test)\n",
        "pd.crosstab(test[\"Label\"], predictions, rownames=[\"Actual\"], colnames=[\"Predicted\"])"
      ]
    },
    {
      "cell_type": "code",
      "execution_count": 26,
      "metadata": {
        "colab": {
          "base_uri": "https://localhost:8080/"
        },
        "id": "d80_AHDr5PtS",
        "outputId": "a8bfe6b4-d7d7-4569-c113-64ec4e877948"
      },
      "outputs": [
        {
          "output_type": "stream",
          "name": "stdout",
          "text": [
            "              precision    recall  f1-score   support\n",
            "\n",
            "           0       0.55      0.19      0.29       186\n",
            "           1       0.52      0.84      0.64       192\n",
            "\n",
            "    accuracy                           0.52       378\n",
            "   macro avg       0.53      0.52      0.46       378\n",
            "weighted avg       0.53      0.52      0.47       378\n",
            "\n",
            "Accuracy X_test: 0.5238095238095238\n"
          ]
        }
      ],
      "source": [
        "# Evaluasi Model SVM\n",
        "print (classification_report(test[\"Label\"], predictions))\n",
        "print ('Accuracy X_test: ' + str(accuracy_score(test[\"Label\"], predictions)))"
      ]
    },
    {
      "cell_type": "markdown",
      "metadata": {
        "id": "Jde93IP8CcXh"
      },
      "source": [
        "## Keras Sequential Model"
      ]
    },
    {
      "cell_type": "code",
      "execution_count": 27,
      "metadata": {
        "colab": {
          "base_uri": "https://localhost:8080/"
        },
        "id": "bIFq0BsauoJ8",
        "outputId": "a88ff36b-2c8c-443a-edb1-c2b5aea56602"
      },
      "outputs": [
        {
          "output_type": "stream",
          "name": "stdout",
          "text": [
            "Model: \"sequential\"\n",
            "_________________________________________________________________\n",
            " Layer (type)                Output Shape              Param #   \n",
            "=================================================================\n",
            " dense (Dense)               (None, 8)                 9760      \n",
            "                                                                 \n",
            " dropout (Dropout)           (None, 8)                 0         \n",
            "                                                                 \n",
            " dense_1 (Dense)             (None, 2)                 18        \n",
            "                                                                 \n",
            "=================================================================\n",
            "Total params: 9,778\n",
            "Trainable params: 9,778\n",
            "Non-trainable params: 0\n",
            "_________________________________________________________________\n",
            "None\n"
          ]
        }
      ],
      "source": [
        "from keras.layers.core import Dense, Dropout, Activation\n",
        "#from keras.optimizers import Adadelta,Adam,RMSprop\n",
        "from keras.utils import np_utils\n",
        "from keras import Sequential, optimizers, regularizers\n",
        "\n",
        "import tensorflow as tf\n",
        "import keras.models\n",
        "from keras.models import Sequential\n",
        "from keras.layers import Dense, Dropout, Activation\n",
        "from keras.utils import np_utils\n",
        "\n",
        "scale = np.max(X_train)\n",
        "X_train /= scale\n",
        "X_test /= scale\n",
        "\n",
        "mean = np.mean(X_train)\n",
        "X_train -= mean\n",
        "X_test -= mean\n",
        "\n",
        "Y_train = np_utils.to_categorical(train[\"Label\"], 2)\n",
        "Y_test = np_utils.to_categorical(test[\"Label\"], 2)\n",
        "\n",
        "num_features = X_train.shape[1]\n",
        "\n",
        "model = Sequential()\n",
        "model.add(Dense(8,input_shape=(num_features,), activation='relu', kernel_regularizer = regularizers.l2(0.1)))\n",
        "model.add(Dropout(0.5))\n",
        "#model.add(Dense(32, activation='relu', kernel_regularizer = regularizers.l2(0.001)))\n",
        "#model.add(Dropout(0.5))\n",
        "#model.add(Dense(32, activation='relu', kernel_regularizer = regularizers.l2(0.0001)))\n",
        "#model.add(Dropout(0.5))\n",
        "#model.add(Dense(32, activation='relu', kernel_regularizer = regularizers.l2(0.1)))\n",
        "#model.add(Dropout(0.5))\n",
        "#model.add(Dense(128, activation='relu', kernel_regularizer = regularizers.l2(0.001)))\n",
        "#model.add(Dropout(0.5))\n",
        "model.add(Dense(2, activation='sigmoid'))\n",
        "opt = tf.keras.optimizers.Adam(learning_rate=0.00005)\n",
        "model.compile(loss='binary_crossentropy', optimizer=opt, metrics=['accuracy'])\n",
        "print(model.summary())"
      ]
    },
    {
      "cell_type": "code",
      "execution_count": 28,
      "metadata": {
        "colab": {
          "base_uri": "https://localhost:8080/"
        },
        "id": "43yIOgNrvPZ-",
        "outputId": "59bc99a4-3f9b-4965-f693-b1db1ce365e1"
      },
      "outputs": [
        {
          "output_type": "stream",
          "name": "stdout",
          "text": [
            "Epoch 1/20\n",
            "51/51 [==============================] - 3s 21ms/step - loss: 2.2049 - accuracy: 0.5047 - val_loss: 2.1242 - val_accuracy: 0.5026\n",
            "Epoch 2/20\n",
            "51/51 [==============================] - 0s 6ms/step - loss: 2.0532 - accuracy: 0.5127 - val_loss: 1.9822 - val_accuracy: 0.5053\n",
            "Epoch 3/20\n",
            "51/51 [==============================] - 0s 5ms/step - loss: 1.9192 - accuracy: 0.5115 - val_loss: 1.8531 - val_accuracy: 0.5053\n",
            "Epoch 4/20\n",
            "51/51 [==============================] - 0s 5ms/step - loss: 1.7926 - accuracy: 0.5332 - val_loss: 1.7358 - val_accuracy: 0.5053\n",
            "Epoch 5/20\n",
            "51/51 [==============================] - 0s 6ms/step - loss: 1.6812 - accuracy: 0.5363 - val_loss: 1.6294 - val_accuracy: 0.5079\n",
            "Epoch 6/20\n",
            "51/51 [==============================] - 0s 6ms/step - loss: 1.5806 - accuracy: 0.5164 - val_loss: 1.5327 - val_accuracy: 0.4974\n",
            "Epoch 7/20\n",
            "51/51 [==============================] - 0s 6ms/step - loss: 1.4865 - accuracy: 0.5382 - val_loss: 1.4451 - val_accuracy: 0.5026\n",
            "Epoch 8/20\n",
            "51/51 [==============================] - 0s 5ms/step - loss: 1.4049 - accuracy: 0.5202 - val_loss: 1.3656 - val_accuracy: 0.5000\n",
            "Epoch 9/20\n",
            "51/51 [==============================] - 0s 6ms/step - loss: 1.3268 - accuracy: 0.5450 - val_loss: 1.2938 - val_accuracy: 0.5000\n",
            "Epoch 10/20\n",
            "51/51 [==============================] - 0s 6ms/step - loss: 1.2577 - accuracy: 0.5307 - val_loss: 1.2289 - val_accuracy: 0.5000\n",
            "Epoch 11/20\n",
            "51/51 [==============================] - 0s 6ms/step - loss: 1.1966 - accuracy: 0.5245 - val_loss: 1.1702 - val_accuracy: 0.5026\n",
            "Epoch 12/20\n",
            "51/51 [==============================] - 0s 6ms/step - loss: 1.1407 - accuracy: 0.5462 - val_loss: 1.1174 - val_accuracy: 0.5079\n",
            "Epoch 13/20\n",
            "51/51 [==============================] - 0s 6ms/step - loss: 1.0905 - accuracy: 0.5301 - val_loss: 1.0698 - val_accuracy: 0.5132\n",
            "Epoch 14/20\n",
            "51/51 [==============================] - 0s 6ms/step - loss: 1.0447 - accuracy: 0.5562 - val_loss: 1.0270 - val_accuracy: 0.5185\n",
            "Epoch 15/20\n",
            "51/51 [==============================] - 0s 6ms/step - loss: 1.0041 - accuracy: 0.5487 - val_loss: 0.9885 - val_accuracy: 0.5132\n",
            "Epoch 16/20\n",
            "51/51 [==============================] - 0s 6ms/step - loss: 0.9672 - accuracy: 0.5537 - val_loss: 0.9540 - val_accuracy: 0.5106\n",
            "Epoch 17/20\n",
            "51/51 [==============================] - 0s 6ms/step - loss: 0.9357 - accuracy: 0.5363 - val_loss: 0.9231 - val_accuracy: 0.4947\n",
            "Epoch 18/20\n",
            "51/51 [==============================] - 0s 6ms/step - loss: 0.9049 - accuracy: 0.5549 - val_loss: 0.8956 - val_accuracy: 0.4947\n",
            "Epoch 19/20\n",
            "51/51 [==============================] - 0s 6ms/step - loss: 0.8794 - accuracy: 0.5636 - val_loss: 0.8710 - val_accuracy: 0.5026\n",
            "Epoch 20/20\n",
            "51/51 [==============================] - 0s 6ms/step - loss: 0.8559 - accuracy: 0.5580 - val_loss: 0.8491 - val_accuracy: 0.5079\n"
          ]
        }
      ],
      "source": [
        "history = model.fit(X_train, Y_train, batch_size=32, validation_data=(X_test, Y_test), epochs=20, verbose=1)"
      ]
    },
    {
      "cell_type": "code",
      "execution_count": 29,
      "metadata": {
        "colab": {
          "base_uri": "https://localhost:8080/",
          "height": 573
        },
        "id": "YWrW3Tmwvag3",
        "outputId": "951da185-57e2-45b1-e424-56b2d8aab055"
      },
      "outputs": [
        {
          "output_type": "display_data",
          "data": {
            "image/png": "[encoded data removed]",
            "text/plain": [
              "<Figure size 432x288 with 1 Axes>"
            ]
          },
          "metadata": {
            "needs_background": "light"
          }
        },
        {
          "output_type": "display_data",
          "data": {
            "image/png": "[encoded data removed]",
            "text/plain": [
              "<Figure size 432x288 with 1 Axes>"
            ]
          },
          "metadata": {
            "needs_background": "light"
          }
        }
      ],
      "source": [
        "# Plot training & validation accuracy values\n",
        "plt.plot(history.history['accuracy'])\n",
        "plt.plot(history.history['val_accuracy'])\n",
        "plt.title('Model accuracy')\n",
        "plt.ylabel('Accuracy')\n",
        "plt.xlabel('Epoch')\n",
        "plt.legend(['Train', 'Test'], loc='upper left')\n",
        "plt.show()\n",
        "\n",
        "# Plot training & validation loss values\n",
        "plt.plot(history.history['loss'])\n",
        "plt.plot(history.history['val_loss'])\n",
        "plt.title('Model loss')\n",
        "plt.ylabel('Loss')\n",
        "plt.xlabel('Epoch')\n",
        "plt.legend(['Train', 'Test'], loc='upper left')\n",
        "plt.show()"
      ]
    },
    {
      "cell_type": "code",
      "execution_count": 30,
      "metadata": {
        "colab": {
          "base_uri": "https://localhost:8080/"
        },
        "id": "8N-iAo_awUvb",
        "outputId": "e2ae7893-2c07-401b-a53f-611f8112bf90"
      },
      "outputs": [
        {
          "output_type": "stream",
          "name": "stdout",
          "text": [
            "12/12 [==============================] - 0s 3ms/step - loss: 0.8491 - accuracy: 0.5079\n",
            "[0.8491299748420715, 0.5079365372657776]\n"
          ]
        }
      ],
      "source": [
        "score = model.evaluate(X_test, Y_test)\n",
        "print(score)"
      ]
    },
    {
      "cell_type": "markdown",
      "metadata": {
        "id": "NUgNRA_VCnjP"
      },
      "source": [
        "# Use Word2Vec And Classifier"
      ]
    },
    {
      "cell_type": "markdown",
      "metadata": {
        "id": "a0PuJQfDc9N9"
      },
      "source": [
        "## Word2Vec"
      ]
    },
    {
      "cell_type": "markdown",
      "metadata": {
        "id": "7YNNJCO_CpU0"
      },
      "source": [
        "Use Word2Vec to find most similar words"
      ]
    },
    {
      "cell_type": "code",
      "execution_count": 31,
      "metadata": {
        "id": "AIWgH7U45cWM"
      },
      "outputs": [],
      "source": [
        "class MyTokenizer():\n",
        "    def __init__(self):\n",
        "        self.tokenizer = nltk.tokenize.RegexpTokenizer(r'\\w+')\n",
        "        self.lemmatizer = nltk.stem.WordNetLemmatizer()\n",
        "        self.stop_words_en = set(nltk.corpus.stopwords.words('english'))\n",
        "        self.stop_words_germ = set(nltk.corpus.stopwords.words('german'))\n",
        "        self.stop_words = set()\n",
        "        self.stop_words.add(\"b\")\n",
        "        \n",
        "    def tokenize(self, headlines):\n",
        "        # Tokenize\n",
        "        tokens = [self.tokenizer.tokenize(article) for article in headlines]\n",
        "\n",
        "        # Lemmatizer\n",
        "        clean_tokens = []\n",
        "        for words in tokens:\n",
        "            clean_tokens.append([self.lemmatizer.lemmatize(word) for word in words])\n",
        "\n",
        "        # Stop words\n",
        "        final_tokens = []\n",
        "        for words in clean_tokens:\n",
        "            final_tokens.append([word.lower() for word in words if word.lower() not in self.stop_words_en and word.lower() not in self.stop_words_germ and word.lower() not in self.stop_words])\n",
        "            \n",
        "        return final_tokens"
      ]
    },
    {
      "cell_type": "code",
      "execution_count": 32,
      "metadata": {
        "colab": {
          "base_uri": "https://localhost:8080/"
        },
        "id": "z5zO9orh5gdh",
        "outputId": "b6e2ab1a-1707-43f3-f160-c720ec3a2dd8"
      },
      "outputs": [
        {
          "output_type": "stream",
          "name": "stdout",
          "text": [
            "Number of word vectors: 29909\n",
            "[('abusing', 0.9863015413284302), ('repeatedly', 0.9779279232025146), ('minor', 0.9761144518852234), ('murdering', 0.9730449914932251), ('attempted', 0.9716615676879883), ('nurse', 0.9711486101150513), ('hanged', 0.9705801606178284), ('abused', 0.9703882336616516), ('brutally', 0.9702000617980957), ('father', 0.9699849486351013)]\n"
          ]
        }
      ],
      "source": [
        "from gensim.models import Word2Vec\n",
        "\n",
        "tokenizer = MyTokenizer()\n",
        "\n",
        "headlines_train = train[\"headlines\"]\n",
        "headlines_test= test[\"headlines\"]\n",
        "\n",
        "tokens_train = tokenizer.tokenize(headlines_train)\n",
        "tokens_test = tokenizer.tokenize(headlines_test)\n",
        "\n",
        "model = Word2Vec(tokens_train, min_count=1,size= 50,workers=3, window =3, sg = 1)\n",
        "\n",
        "word_vectors = model.wv\n",
        "print(\"Number of word vectors: {}\".format(len(word_vectors.vocab)))\n",
        "\n",
        "print(model.wv.most_similar('husband'))"
      ]
    },
    {
      "cell_type": "markdown",
      "metadata": {
        "id": "w6AujNtFCwK4"
      },
      "source": [
        "## Word embedding"
      ]
    },
    {
      "cell_type": "code",
      "execution_count": 33,
      "metadata": {
        "colab": {
          "base_uri": "https://localhost:8080/"
        },
        "id": "PHH-15qTwyn3",
        "outputId": "e17c644d-4672-42af-b0c8-d255ae55c253"
      },
      "outputs": [
        {
          "output_type": "stream",
          "name": "stdout",
          "text": [
            "Number of words: 20000\n",
            "max_length: 200\n"
          ]
        }
      ],
      "source": [
        "from tensorflow.python.keras.preprocessing.text import Tokenizer\n",
        "from keras.layers import Flatten, Dense, LSTM, GRU, SpatialDropout1D, Bidirectional, concatenate\n",
        "from keras.layers.embeddings import Embedding\n",
        "from keras.preprocessing.sequence import pad_sequences\n",
        "\n",
        "my_tokenizer = MyTokenizer()\n",
        "\n",
        "headlines_train = train[\"headlines\"]\n",
        "headlines_test= test[\"headlines\"]\n",
        "\n",
        "tokens_train = my_tokenizer.tokenize(headlines_train)\n",
        "tokens_test = my_tokenizer.tokenize(headlines_test)\n",
        "\n",
        "tokenizer = Tokenizer(num_words=20000)\n",
        "tokenizer.fit_on_texts(train[\"headlines\"])\n",
        "        \n",
        "vocab_size = 20000 #len(tokenizer.word_index) + 1\n",
        "print('Number of words: ' + str(vocab_size))\n",
        "\n",
        "X_train_tokens = tokenizer.texts_to_sequences(tokens_train)\n",
        "X_test_tokens = tokenizer.texts_to_sequences(tokens_test)\n",
        "\n",
        "max_length = 0\n",
        "for words in X_train_tokens:\n",
        "    if len(words)>max_length:\n",
        "        max_length = len(words)\n",
        "max_length = 200\n",
        "print('max_length: ' + str(max_length))\n",
        "\n",
        "X_train_pad = pad_sequences(X_train_tokens, maxlen=max_length, padding='post')\n",
        "X_test_pad = pad_sequences(X_test_tokens, maxlen=max_length, padding='post')\n",
        "\n",
        "y_train = train['Label']\n",
        "y_test = test['Label']\n",
        "Y_train = np_utils.to_categorical(y_train, 2)\n",
        "Y_test = np_utils.to_categorical(y_test, 2)"
      ]
    },
    {
      "cell_type": "markdown",
      "metadata": {
        "id": "kdgGqde2zUqY"
      },
      "source": [
        "## Deep Learning (Improve)"
      ]
    },
    {
      "cell_type": "code",
      "execution_count": 34,
      "metadata": {
        "colab": {
          "base_uri": "https://localhost:8080/"
        },
        "id": "M_HzTRJkbOLZ",
        "outputId": "0e1b0069-aa06-48c2-fcf7-194489e6fab8"
      },
      "outputs": [
        {
          "output_type": "execute_result",
          "data": {
            "text/plain": [
              "[name: \"/device:CPU:0\"\n",
              " device_type: \"CPU\"\n",
              " memory_limit: 268435456\n",
              " locality {\n",
              " }\n",
              " incarnation: 12199783254954826773\n",
              " xla_global_id: -1, name: \"/device:GPU:0\"\n",
              " device_type: \"GPU\"\n",
              " memory_limit: 11320098816\n",
              " locality {\n",
              "   bus_id: 1\n",
              "   links {\n",
              "   }\n",
              " }\n",
              " incarnation: 4479275288036967948\n",
              " physical_device_desc: \"device: 0, name: Tesla K80, pci bus id: 0000:00:04.0, compute capability: 3.7\"\n",
              " xla_global_id: 416903419]"
            ]
          },
          "metadata": {},
          "execution_count": 34
        }
      ],
      "source": [
        "import tensorflow as tf\n",
        "from tensorflow.python.client import device_lib\n",
        "device_lib.list_local_devices()"
      ]
    },
    {
      "cell_type": "markdown",
      "metadata": {
        "id": "gvx7zm7BegCi"
      },
      "source": [
        "#### BiLSTM 1"
      ]
    },
    {
      "cell_type": "code",
      "execution_count": 35,
      "metadata": {
        "colab": {
          "base_uri": "https://localhost:8080/"
        },
        "id": "qq66OQf-zVJB",
        "outputId": "2257cce1-4b90-47c1-8253-009cdebb1d1f"
      },
      "outputs": [
        {
          "output_type": "stream",
          "name": "stdout",
          "text": [
            "Model: \"sequential_1\"\n",
            "_________________________________________________________________\n",
            " Layer (type)                Output Shape              Param #   \n",
            "=================================================================\n",
            " embedding (Embedding)       (None, 200, 16)           320000    \n",
            "                                                                 \n",
            " bidirectional (Bidirectiona  (None, 200, 512)         559104    \n",
            " l)                                                              \n",
            "                                                                 \n",
            " bidirectional_1 (Bidirectio  (None, 200, 512)         1574912   \n",
            " nal)                                                            \n",
            "                                                                 \n",
            " bidirectional_2 (Bidirectio  (None, 200, 512)         1574912   \n",
            " nal)                                                            \n",
            "                                                                 \n",
            " bidirectional_3 (Bidirectio  (None, 512)              1574912   \n",
            " nal)                                                            \n",
            "                                                                 \n",
            " dense_2 (Dense)             (None, 128)               65664     \n",
            "                                                                 \n",
            " dropout_1 (Dropout)         (None, 128)               0         \n",
            "                                                                 \n",
            " dense_3 (Dense)             (None, 2)                 258       \n",
            "                                                                 \n",
            "=================================================================\n",
            "Total params: 5,669,762\n",
            "Trainable params: 5,669,762\n",
            "Non-trainable params: 0\n",
            "_________________________________________________________________\n",
            "None\n"
          ]
        }
      ],
      "source": [
        "bilstm_mod1 = Sequential()\n",
        "bilstm_mod1.add(Embedding(vocab_size, 16, input_length=max_length))\n",
        "bilstm_mod1.add(Bidirectional(LSTM(256, return_sequences=True)))\n",
        "bilstm_mod1.add(Bidirectional(LSTM(256, return_sequences=True)))\n",
        "bilstm_mod1.add(Bidirectional(LSTM(256, return_sequences=True)))\n",
        "bilstm_mod1.add(Bidirectional(LSTM(256, return_sequences=False)))\n",
        "bilstm_mod1.add(Dense(128, activation='relu', kernel_initializer='uniform'))\n",
        "bilstm_mod1.add(Dropout(0.2))\n",
        "bilstm_mod1.add(Dense(2, activation='sigmoid'))\n",
        "\n",
        "optt1 = tf.keras.optimizers.Adam(learning_rate=0.00005)\n",
        "bilstm_mod1.compile(optimizer=optt1, loss='binary_crossentropy', metrics=['accuracy'])\n",
        "\n",
        "print(bilstm_mod1.summary())"
      ]
    },
    {
      "cell_type": "code",
      "execution_count": 36,
      "metadata": {
        "colab": {
          "base_uri": "https://localhost:8080/"
        },
        "id": "y5tVEFhcfpuV",
        "outputId": "4143cd81-0ad8-4a3b-a08d-0d67998cf98f"
      },
      "outputs": [
        {
          "output_type": "stream",
          "name": "stdout",
          "text": [
            "Epoch 1/20\n",
            "101/101 [==============================] - 76s 600ms/step - loss: 0.6924 - accuracy: 0.5394 - val_loss: 0.6943 - val_accuracy: 0.5079\n",
            "Epoch 2/20\n",
            "101/101 [==============================] - 50s 494ms/step - loss: 0.6907 - accuracy: 0.5419 - val_loss: 0.6961 - val_accuracy: 0.5079\n",
            "Epoch 3/20\n",
            "101/101 [==============================] - 50s 494ms/step - loss: 0.6888 - accuracy: 0.5419 - val_loss: 0.6931 - val_accuracy: 0.5079\n",
            "Epoch 4/20\n",
            "101/101 [==============================] - 50s 494ms/step - loss: 0.6806 - accuracy: 0.5537 - val_loss: 0.7034 - val_accuracy: 0.5344\n",
            "Epoch 5/20\n",
            "101/101 [==============================] - 50s 494ms/step - loss: 0.5210 - accuracy: 0.7492 - val_loss: 0.8457 - val_accuracy: 0.5344\n",
            "Epoch 6/20\n",
            "101/101 [==============================] - 50s 494ms/step - loss: 0.3266 - accuracy: 0.8678 - val_loss: 1.1360 - val_accuracy: 0.5397\n",
            "Epoch 7/20\n",
            "101/101 [==============================] - 50s 493ms/step - loss: 0.1859 - accuracy: 0.9404 - val_loss: 1.2823 - val_accuracy: 0.5529\n",
            "Epoch 8/20\n",
            "101/101 [==============================] - 50s 493ms/step - loss: 0.1041 - accuracy: 0.9671 - val_loss: 1.5799 - val_accuracy: 0.5450\n",
            "Epoch 9/20\n",
            "101/101 [==============================] - 50s 494ms/step - loss: 0.0589 - accuracy: 0.9863 - val_loss: 1.8581 - val_accuracy: 0.5238\n",
            "Epoch 10/20\n",
            "101/101 [==============================] - 50s 494ms/step - loss: 0.0321 - accuracy: 0.9938 - val_loss: 2.0012 - val_accuracy: 0.5423\n",
            "Epoch 11/20\n",
            "101/101 [==============================] - 50s 494ms/step - loss: 0.0194 - accuracy: 0.9981 - val_loss: 2.0746 - val_accuracy: 0.5635\n",
            "Epoch 12/20\n",
            "101/101 [==============================] - 50s 494ms/step - loss: 0.0136 - accuracy: 0.9969 - val_loss: 2.2264 - val_accuracy: 0.5344\n",
            "Epoch 13/20\n",
            "101/101 [==============================] - 50s 493ms/step - loss: 0.0048 - accuracy: 0.9994 - val_loss: 2.4219 - val_accuracy: 0.5450\n",
            "Epoch 14/20\n",
            "101/101 [==============================] - 50s 493ms/step - loss: 0.0018 - accuracy: 1.0000 - val_loss: 2.6282 - val_accuracy: 0.5370\n",
            "Epoch 15/20\n",
            "101/101 [==============================] - 50s 494ms/step - loss: 0.0012 - accuracy: 1.0000 - val_loss: 2.7629 - val_accuracy: 0.5450\n",
            "Epoch 16/20\n",
            "101/101 [==============================] - 50s 493ms/step - loss: 9.0742e-04 - accuracy: 1.0000 - val_loss: 2.8845 - val_accuracy: 0.5370\n",
            "Epoch 17/20\n",
            "101/101 [==============================] - 50s 493ms/step - loss: 6.6701e-04 - accuracy: 1.0000 - val_loss: 2.9865 - val_accuracy: 0.5370\n",
            "Epoch 18/20\n",
            "101/101 [==============================] - 50s 493ms/step - loss: 5.2875e-04 - accuracy: 1.0000 - val_loss: 3.0846 - val_accuracy: 0.5397\n",
            "Epoch 19/20\n",
            "101/101 [==============================] - 50s 493ms/step - loss: 4.8184e-04 - accuracy: 1.0000 - val_loss: 3.1528 - val_accuracy: 0.5450\n",
            "Epoch 20/20\n",
            "101/101 [==============================] - 50s 493ms/step - loss: 4.4615e-04 - accuracy: 1.0000 - val_loss: 3.2253 - val_accuracy: 0.5423\n"
          ]
        }
      ],
      "source": [
        "bilstm_hist1 = bilstm_mod1.fit(X_train_pad, Y_train, batch_size=16, epochs=20, verbose=1, validation_data=(X_test_pad, Y_test))"
      ]
    },
    {
      "cell_type": "code",
      "execution_count": 37,
      "metadata": {
        "id": "yZ2O2iD1fp3V",
        "colab": {
          "base_uri": "https://localhost:8080/",
          "height": 573
        },
        "outputId": "e000d7ea-0754-408b-a613-4a17913dd6da"
      },
      "outputs": [
        {
          "output_type": "display_data",
          "data": {
            "image/png": "[encoded data removed]",
            "text/plain": [
              "<Figure size 432x288 with 1 Axes>"
            ]
          },
          "metadata": {
            "needs_background": "light"
          }
        },
        {
          "output_type": "display_data",
          "data": {
            "image/png": "[encoded data removed]",
            "text/plain": [
              "<Figure size 432x288 with 1 Axes>"
            ]
          },
          "metadata": {
            "needs_background": "light"
          }
        }
      ],
      "source": [
        "# Plot training & validation accuracy values\n",
        "plt.plot(bilstm_hist1.history['accuracy'])\n",
        "plt.plot(bilstm_hist1.history['val_accuracy'])\n",
        "plt.title('Model accuracy')\n",
        "plt.ylabel('Accuracy')\n",
        "plt.xlabel('Epoch')\n",
        "plt.legend(['Train', 'Test'], loc='upper left')\n",
        "plt.show()\n",
        "\n",
        "# Plot training & validation loss values\n",
        "plt.plot(bilstm_hist1.history['loss'])\n",
        "plt.plot(bilstm_hist1.history['val_loss'])\n",
        "plt.title('Model loss')\n",
        "plt.ylabel('Loss')\n",
        "plt.xlabel('Epoch')\n",
        "plt.legend(['Train', 'Test'], loc='upper left')\n",
        "plt.show()"
      ]
    },
    {
      "cell_type": "code",
      "execution_count": 38,
      "metadata": {
        "id": "zFqmRk4QhTzn",
        "colab": {
          "base_uri": "https://localhost:8080/"
        },
        "outputId": "e5cc787c-a6ad-48eb-e2d0-2f1c5c25cda5"
      },
      "outputs": [
        {
          "output_type": "stream",
          "name": "stdout",
          "text": [
            "12/12 [==============================] - 3s 248ms/step - loss: 3.2253 - accuracy: 0.5423\n",
            "Testing Accuracy is 54.23280596733093 \n"
          ]
        }
      ],
      "source": [
        "loss1, akurasi1 = bilstm_mod1.evaluate(X_test_pad,Y_test)\n",
        "print('Testing Accuracy is {} '.format(akurasi1*100))"
      ]
    },
    {
      "cell_type": "code",
      "execution_count": 39,
      "metadata": {
        "id": "mcEW_VPC1wws",
        "colab": {
          "base_uri": "https://localhost:8080/"
        },
        "outputId": "61bec2ad-34be-4004-c23b-a20c044ab5f4"
      },
      "outputs": [
        {
          "output_type": "stream",
          "name": "stdout",
          "text": [
            "akurasi =  0.5423280423280423\n",
            "f1 score =  0.5436259435280961\n",
            "AUC =  0.5432207661290323\n"
          ]
        }
      ],
      "source": [
        "y_pred1 = bilstm_mod1.predict(X_test_pad)\n",
        "y_predict1 = y_pred1>0.5\n",
        "\n",
        "print(\"akurasi = \", accuracy_score(Y_test, y_predict1))\n",
        "print(\"f1 score = \", f1_score(Y_test, y_predict1, average='macro'))\n",
        "print(\"AUC = \", roc_auc_score(Y_test, y_predict1, average='macro'))"
      ]
    },
    {
      "cell_type": "markdown",
      "metadata": {
        "id": "vVdeMu9tWCn3"
      },
      "source": [
        "#### BiLSTM 2"
      ]
    },
    {
      "cell_type": "code",
      "execution_count": 40,
      "metadata": {
        "id": "qLmO0NLMWCoG",
        "colab": {
          "base_uri": "https://localhost:8080/"
        },
        "outputId": "1e265a98-7242-455a-e58e-6ca84cff36e8"
      },
      "outputs": [
        {
          "output_type": "stream",
          "name": "stdout",
          "text": [
            "Model: \"sequential_2\"\n",
            "_________________________________________________________________\n",
            " Layer (type)                Output Shape              Param #   \n",
            "=================================================================\n",
            " embedding_1 (Embedding)     (None, 200, 16)           320000    \n",
            "                                                                 \n",
            " bidirectional_4 (Bidirectio  (None, 200, 512)         559104    \n",
            " nal)                                                            \n",
            "                                                                 \n",
            " bidirectional_5 (Bidirectio  (None, 200, 512)         1574912   \n",
            " nal)                                                            \n",
            "                                                                 \n",
            " bidirectional_6 (Bidirectio  (None, 200, 512)         1574912   \n",
            " nal)                                                            \n",
            "                                                                 \n",
            " bidirectional_7 (Bidirectio  (None, 512)              1574912   \n",
            " nal)                                                            \n",
            "                                                                 \n",
            " dense_4 (Dense)             (None, 128)               65664     \n",
            "                                                                 \n",
            " dropout_2 (Dropout)         (None, 128)               0         \n",
            "                                                                 \n",
            " dense_5 (Dense)             (None, 2)                 258       \n",
            "                                                                 \n",
            "=================================================================\n",
            "Total params: 5,669,762\n",
            "Trainable params: 5,669,762\n",
            "Non-trainable params: 0\n",
            "_________________________________________________________________\n",
            "None\n"
          ]
        }
      ],
      "source": [
        "bilstm_mod2 = Sequential()\n",
        "bilstm_mod2.add(Embedding(vocab_size, 16, input_length=max_length))\n",
        "bilstm_mod2.add(Bidirectional(LSTM(256, return_sequences=True)))\n",
        "bilstm_mod2.add(Bidirectional(LSTM(256, return_sequences=True)))\n",
        "bilstm_mod2.add(Bidirectional(LSTM(256, return_sequences=True)))\n",
        "bilstm_mod2.add(Bidirectional(LSTM(256, return_sequences=False)))\n",
        "bilstm_mod2.add(Dense(128, activation='relu', kernel_initializer='uniform'))\n",
        "bilstm_mod2.add(Dropout(0.2))\n",
        "bilstm_mod2.add(Dense(2, activation='sigmoid'))\n",
        "\n",
        "optt2 = tf.keras.optimizers.Adam(learning_rate=0.00003)\n",
        "bilstm_mod2.compile(optimizer=optt2, loss='binary_crossentropy', metrics=['accuracy'])\n",
        "\n",
        "print(bilstm_mod2.summary())"
      ]
    },
    {
      "cell_type": "code",
      "execution_count": 41,
      "metadata": {
        "id": "54kVex6wWCoG",
        "colab": {
          "base_uri": "https://localhost:8080/"
        },
        "outputId": "d263b0fd-a96e-4e08-8820-ca649b5eac22"
      },
      "outputs": [
        {
          "output_type": "stream",
          "name": "stdout",
          "text": [
            "Epoch 1/20\n",
            "101/101 [==============================] - 70s 546ms/step - loss: 0.6927 - accuracy: 0.5394 - val_loss: 0.6931 - val_accuracy: 0.5079\n",
            "Epoch 2/20\n",
            "101/101 [==============================] - 50s 494ms/step - loss: 0.6907 - accuracy: 0.5419 - val_loss: 0.6938 - val_accuracy: 0.5079\n",
            "Epoch 3/20\n",
            "101/101 [==============================] - 50s 493ms/step - loss: 0.6886 - accuracy: 0.5419 - val_loss: 0.6967 - val_accuracy: 0.5079\n",
            "Epoch 4/20\n",
            "101/101 [==============================] - 50s 495ms/step - loss: 0.6868 - accuracy: 0.5419 - val_loss: 0.6977 - val_accuracy: 0.5079\n",
            "Epoch 5/20\n",
            "101/101 [==============================] - 50s 493ms/step - loss: 0.6556 - accuracy: 0.5990 - val_loss: 0.7842 - val_accuracy: 0.4815\n",
            "Epoch 6/20\n",
            "101/101 [==============================] - 50s 493ms/step - loss: 0.5160 - accuracy: 0.7529 - val_loss: 0.9933 - val_accuracy: 0.5000\n",
            "Epoch 7/20\n",
            "101/101 [==============================] - 50s 493ms/step - loss: 0.4070 - accuracy: 0.8274 - val_loss: 1.0232 - val_accuracy: 0.5000\n",
            "Epoch 8/20\n",
            "101/101 [==============================] - 50s 493ms/step - loss: 0.3225 - accuracy: 0.8703 - val_loss: 1.2698 - val_accuracy: 0.5159\n",
            "Epoch 9/20\n",
            "101/101 [==============================] - 50s 493ms/step - loss: 0.2246 - accuracy: 0.9088 - val_loss: 1.4250 - val_accuracy: 0.4974\n",
            "Epoch 10/20\n",
            "101/101 [==============================] - 50s 492ms/step - loss: 0.1597 - accuracy: 0.9472 - val_loss: 1.6472 - val_accuracy: 0.4974\n",
            "Epoch 11/20\n",
            "101/101 [==============================] - 50s 493ms/step - loss: 0.1140 - accuracy: 0.9659 - val_loss: 1.9874 - val_accuracy: 0.4868\n",
            "Epoch 12/20\n",
            "101/101 [==============================] - 50s 493ms/step - loss: 0.0731 - accuracy: 0.9795 - val_loss: 2.2939 - val_accuracy: 0.4868\n",
            "Epoch 13/20\n",
            "101/101 [==============================] - 50s 492ms/step - loss: 0.0520 - accuracy: 0.9876 - val_loss: 2.2029 - val_accuracy: 0.4841\n",
            "Epoch 14/20\n",
            "101/101 [==============================] - 50s 492ms/step - loss: 0.0354 - accuracy: 0.9907 - val_loss: 2.6378 - val_accuracy: 0.4868\n",
            "Epoch 15/20\n",
            "101/101 [==============================] - 50s 492ms/step - loss: 0.0265 - accuracy: 0.9938 - val_loss: 2.5836 - val_accuracy: 0.4921\n",
            "Epoch 16/20\n",
            "101/101 [==============================] - 50s 492ms/step - loss: 0.0171 - accuracy: 0.9957 - val_loss: 2.7624 - val_accuracy: 0.4974\n",
            "Epoch 17/20\n",
            "101/101 [==============================] - 50s 493ms/step - loss: 0.0110 - accuracy: 0.9969 - val_loss: 2.9680 - val_accuracy: 0.5000\n",
            "Epoch 18/20\n",
            "101/101 [==============================] - 50s 492ms/step - loss: 0.0088 - accuracy: 0.9981 - val_loss: 3.0961 - val_accuracy: 0.5000\n",
            "Epoch 19/20\n",
            "101/101 [==============================] - 50s 493ms/step - loss: 0.0071 - accuracy: 0.9981 - val_loss: 3.2428 - val_accuracy: 0.5000\n",
            "Epoch 20/20\n",
            "101/101 [==============================] - 50s 493ms/step - loss: 0.0056 - accuracy: 0.9988 - val_loss: 3.2103 - val_accuracy: 0.4894\n"
          ]
        }
      ],
      "source": [
        "bilstm_hist2 = bilstm_mod2.fit(X_train_pad, Y_train, batch_size=16, epochs=20, verbose=1, validation_data=(X_test_pad, Y_test))"
      ]
    },
    {
      "cell_type": "code",
      "execution_count": 42,
      "metadata": {
        "id": "UydAkOuIWCoH",
        "colab": {
          "base_uri": "https://localhost:8080/",
          "height": 573
        },
        "outputId": "bd1bf848-f52b-4700-9f2a-4243cec61ea3"
      },
      "outputs": [
        {
          "output_type": "display_data",
          "data": {
            "image/png": "[encoded data removed]",
            "text/plain": [
              "<Figure size 432x288 with 1 Axes>"
            ]
          },
          "metadata": {
            "needs_background": "light"
          }
        },
        {
          "output_type": "display_data",
          "data": {
            "image/png": "[encoded data removed]",
            "text/plain": [
              "<Figure size 432x288 with 1 Axes>"
            ]
          },
          "metadata": {
            "needs_background": "light"
          }
        }
      ],
      "source": [
        "# Plot training & validation accuracy values\n",
        "plt.plot(bilstm_hist2.history['accuracy'])\n",
        "plt.plot(bilstm_hist2.history['val_accuracy'])\n",
        "plt.title('Model accuracy')\n",
        "plt.ylabel('Accuracy')\n",
        "plt.xlabel('Epoch')\n",
        "plt.legend(['Train', 'Test'], loc='upper left')\n",
        "plt.show()\n",
        "\n",
        "# Plot training & validation loss values\n",
        "plt.plot(bilstm_hist2.history['loss'])\n",
        "plt.plot(bilstm_hist2.history['val_loss'])\n",
        "plt.title('Model loss')\n",
        "plt.ylabel('Loss')\n",
        "plt.xlabel('Epoch')\n",
        "plt.legend(['Train', 'Test'], loc='upper left')\n",
        "plt.show()"
      ]
    },
    {
      "cell_type": "code",
      "execution_count": 43,
      "metadata": {
        "id": "L1NSh9LrWCoH",
        "colab": {
          "base_uri": "https://localhost:8080/"
        },
        "outputId": "c030d821-1b92-453c-f156-d22d09752cfd"
      },
      "outputs": [
        {
          "output_type": "stream",
          "name": "stdout",
          "text": [
            "12/12 [==============================] - 3s 242ms/step - loss: 3.2103 - accuracy: 0.4894\n",
            "Testing Accuracy is 48.941799998283386 \n"
          ]
        }
      ],
      "source": [
        "loss2, akurasi2 = bilstm_mod2.evaluate(X_test_pad,Y_test)\n",
        "print('Testing Accuracy is {} '.format(akurasi2*100))"
      ]
    },
    {
      "cell_type": "code",
      "execution_count": 44,
      "metadata": {
        "id": "0BWicakJ2LPh",
        "colab": {
          "base_uri": "https://localhost:8080/"
        },
        "outputId": "3f87da62-dbf0-432e-e4b0-7e26b88c7b40"
      },
      "outputs": [
        {
          "output_type": "stream",
          "name": "stdout",
          "text": [
            "akurasi =  0.4894179894179894\n",
            "f1 score =  0.48861354861354855\n",
            "AUC =  0.48966733870967744\n"
          ]
        }
      ],
      "source": [
        "y_pred2 = bilstm_mod2.predict(X_test_pad)\n",
        "y_predict2 = y_pred2>0.5\n",
        "\n",
        "print(\"akurasi = \", accuracy_score(Y_test, y_predict2))\n",
        "print(\"f1 score = \", f1_score(Y_test, y_predict2, average='macro'))\n",
        "print(\"AUC = \", roc_auc_score(Y_test, y_predict2, average='macro'))"
      ]
    },
    {
      "cell_type": "markdown",
      "metadata": {
        "id": "SLgBId7MW8WQ"
      },
      "source": [
        "#### BiLSTM 3"
      ]
    },
    {
      "cell_type": "code",
      "execution_count": 45,
      "metadata": {
        "id": "SPZnqTS5W8WR",
        "colab": {
          "base_uri": "https://localhost:8080/"
        },
        "outputId": "fe04b070-720c-4169-a1db-bfeafa432f06"
      },
      "outputs": [
        {
          "output_type": "stream",
          "name": "stdout",
          "text": [
            "Model: \"sequential_3\"\n",
            "_________________________________________________________________\n",
            " Layer (type)                Output Shape              Param #   \n",
            "=================================================================\n",
            " embedding_2 (Embedding)     (None, 200, 16)           320000    \n",
            "                                                                 \n",
            " bidirectional_8 (Bidirectio  (None, 200, 512)         559104    \n",
            " nal)                                                            \n",
            "                                                                 \n",
            " bidirectional_9 (Bidirectio  (None, 200, 512)         1574912   \n",
            " nal)                                                            \n",
            "                                                                 \n",
            " bidirectional_10 (Bidirecti  (None, 200, 512)         1574912   \n",
            " onal)                                                           \n",
            "                                                                 \n",
            " bidirectional_11 (Bidirecti  (None, 512)              1574912   \n",
            " onal)                                                           \n",
            "                                                                 \n",
            " dense_6 (Dense)             (None, 128)               65664     \n",
            "                                                                 \n",
            " dropout_3 (Dropout)         (None, 128)               0         \n",
            "                                                                 \n",
            " dense_7 (Dense)             (None, 2)                 258       \n",
            "                                                                 \n",
            "=================================================================\n",
            "Total params: 5,669,762\n",
            "Trainable params: 5,669,762\n",
            "Non-trainable params: 0\n",
            "_________________________________________________________________\n",
            "None\n"
          ]
        }
      ],
      "source": [
        "bilstm_mod3 = Sequential()\n",
        "bilstm_mod3.add(Embedding(vocab_size, 16, input_length=max_length))\n",
        "bilstm_mod3.add(Bidirectional(LSTM(256, return_sequences=True)))\n",
        "bilstm_mod3.add(Bidirectional(LSTM(256, return_sequences=True)))\n",
        "bilstm_mod3.add(Bidirectional(LSTM(256, return_sequences=True)))\n",
        "bilstm_mod3.add(Bidirectional(LSTM(256, return_sequences=False)))\n",
        "bilstm_mod3.add(Dense(128, activation='relu', kernel_initializer='uniform'))\n",
        "bilstm_mod3.add(Dropout(0.2))\n",
        "bilstm_mod3.add(Dense(2, activation='sigmoid'))\n",
        "\n",
        "optt3 = tf.keras.optimizers.Adam(learning_rate=0.00002)\n",
        "bilstm_mod3.compile(optimizer=optt3, loss='binary_crossentropy', metrics=['accuracy'])\n",
        "\n",
        "print(bilstm_mod3.summary())"
      ]
    },
    {
      "cell_type": "code",
      "execution_count": 46,
      "metadata": {
        "id": "JTccwtvPW8WS",
        "colab": {
          "base_uri": "https://localhost:8080/"
        },
        "outputId": "83287e95-315f-4954-8296-2e65d6b138a8"
      },
      "outputs": [
        {
          "output_type": "stream",
          "name": "stdout",
          "text": [
            "Epoch 1/20\n",
            "101/101 [==============================] - 68s 534ms/step - loss: 0.6928 - accuracy: 0.5419 - val_loss: 0.6931 - val_accuracy: 0.5079\n",
            "Epoch 2/20\n",
            "101/101 [==============================] - 50s 493ms/step - loss: 0.6911 - accuracy: 0.5419 - val_loss: 0.6944 - val_accuracy: 0.5079\n",
            "Epoch 3/20\n",
            "101/101 [==============================] - 50s 493ms/step - loss: 0.6897 - accuracy: 0.5419 - val_loss: 0.6953 - val_accuracy: 0.5079\n",
            "Epoch 4/20\n",
            "101/101 [==============================] - 50s 493ms/step - loss: 0.6893 - accuracy: 0.5419 - val_loss: 0.6961 - val_accuracy: 0.5079\n",
            "Epoch 5/20\n",
            "101/101 [==============================] - 50s 493ms/step - loss: 0.6883 - accuracy: 0.5419 - val_loss: 0.6965 - val_accuracy: 0.5079\n",
            "Epoch 6/20\n",
            "101/101 [==============================] - 50s 493ms/step - loss: 0.6813 - accuracy: 0.5456 - val_loss: 0.6944 - val_accuracy: 0.4894\n",
            "Epoch 7/20\n",
            "101/101 [==============================] - 50s 492ms/step - loss: 0.6414 - accuracy: 0.6567 - val_loss: 0.7582 - val_accuracy: 0.5132\n",
            "Epoch 8/20\n",
            "101/101 [==============================] - 50s 493ms/step - loss: 0.5425 - accuracy: 0.7306 - val_loss: 0.8806 - val_accuracy: 0.5053\n",
            "Epoch 9/20\n",
            "101/101 [==============================] - 50s 491ms/step - loss: 0.4656 - accuracy: 0.7883 - val_loss: 0.8826 - val_accuracy: 0.5026\n",
            "Epoch 10/20\n",
            "101/101 [==============================] - 50s 492ms/step - loss: 0.3963 - accuracy: 0.8305 - val_loss: 1.0181 - val_accuracy: 0.5079\n",
            "Epoch 11/20\n",
            "101/101 [==============================] - 50s 491ms/step - loss: 0.3339 - accuracy: 0.8579 - val_loss: 1.1975 - val_accuracy: 0.5185\n",
            "Epoch 12/20\n",
            "101/101 [==============================] - 50s 492ms/step - loss: 0.2881 - accuracy: 0.8845 - val_loss: 1.2363 - val_accuracy: 0.5026\n",
            "Epoch 13/20\n",
            "101/101 [==============================] - 50s 492ms/step - loss: 0.2358 - accuracy: 0.8994 - val_loss: 1.4464 - val_accuracy: 0.5000\n",
            "Epoch 14/20\n",
            "101/101 [==============================] - 50s 492ms/step - loss: 0.2001 - accuracy: 0.9187 - val_loss: 1.6127 - val_accuracy: 0.5053\n",
            "Epoch 15/20\n",
            "101/101 [==============================] - 50s 493ms/step - loss: 0.1637 - accuracy: 0.9361 - val_loss: 1.6589 - val_accuracy: 0.5106\n",
            "Epoch 16/20\n",
            "101/101 [==============================] - 50s 492ms/step - loss: 0.1380 - accuracy: 0.9472 - val_loss: 1.8037 - val_accuracy: 0.5132\n",
            "Epoch 17/20\n",
            "101/101 [==============================] - 50s 492ms/step - loss: 0.1207 - accuracy: 0.9590 - val_loss: 1.8087 - val_accuracy: 0.5079\n",
            "Epoch 18/20\n",
            "101/101 [==============================] - 50s 492ms/step - loss: 0.1106 - accuracy: 0.9609 - val_loss: 1.9256 - val_accuracy: 0.5132\n",
            "Epoch 19/20\n",
            "101/101 [==============================] - 50s 492ms/step - loss: 0.0919 - accuracy: 0.9696 - val_loss: 1.9801 - val_accuracy: 0.5212\n",
            "Epoch 20/20\n",
            "101/101 [==============================] - 50s 493ms/step - loss: 0.0795 - accuracy: 0.9733 - val_loss: 2.0484 - val_accuracy: 0.4921\n"
          ]
        }
      ],
      "source": [
        "bilstm_hist3 = bilstm_mod3.fit(X_train_pad, Y_train, batch_size=16, epochs=20, verbose=1, validation_data=(X_test_pad, Y_test))"
      ]
    },
    {
      "cell_type": "code",
      "execution_count": 47,
      "metadata": {
        "id": "_p0sTXsqW8WV",
        "colab": {
          "base_uri": "https://localhost:8080/",
          "height": 573
        },
        "outputId": "5283e774-bc80-472e-b5c7-6db7f3c9efe2"
      },
      "outputs": [
        {
          "output_type": "display_data",
          "data": {
            "image/png": "[encoded data removed]",
            "text/plain": [
              "<Figure size 432x288 with 1 Axes>"
            ]
          },
          "metadata": {
            "needs_background": "light"
          }
        },
        {
          "output_type": "display_data",
          "data": {
            "image/png": "[encoded data removed]",
            "text/plain": [
              "<Figure size 432x288 with 1 Axes>"
            ]
          },
          "metadata": {
            "needs_background": "light"
          }
        }
      ],
      "source": [
        "# Plot training & validation accuracy values\n",
        "plt.plot(bilstm_hist3.history['accuracy'])\n",
        "plt.plot(bilstm_hist3.history['val_accuracy'])\n",
        "plt.title('Model accuracy')\n",
        "plt.ylabel('Accuracy')\n",
        "plt.xlabel('Epoch')\n",
        "plt.legend(['Train', 'Test'], loc='upper left')\n",
        "plt.show()\n",
        "\n",
        "# Plot training & validation loss values\n",
        "plt.plot(bilstm_hist3.history['loss'])\n",
        "plt.plot(bilstm_hist3.history['val_loss'])\n",
        "plt.title('Model loss')\n",
        "plt.ylabel('Loss')\n",
        "plt.xlabel('Epoch')\n",
        "plt.legend(['Train', 'Test'], loc='upper left')\n",
        "plt.show()"
      ]
    },
    {
      "cell_type": "code",
      "execution_count": 48,
      "metadata": {
        "id": "dnq1vbWdW8WV",
        "colab": {
          "base_uri": "https://localhost:8080/"
        },
        "outputId": "7b41b612-1fc2-44fa-876c-542d2ae1f5c4"
      },
      "outputs": [
        {
          "output_type": "stream",
          "name": "stdout",
          "text": [
            "12/12 [==============================] - 3s 233ms/step - loss: 2.0484 - accuracy: 0.4921\n",
            "Testing Accuracy is 49.20634925365448 \n"
          ]
        }
      ],
      "source": [
        "loss3, akurasi3 = bilstm_mod3.evaluate(X_test_pad,Y_test)\n",
        "print('Testing Accuracy is {} '.format(akurasi3*100))"
      ]
    },
    {
      "cell_type": "code",
      "execution_count": 49,
      "metadata": {
        "id": "Us6EzmnH192C",
        "colab": {
          "base_uri": "https://localhost:8080/"
        },
        "outputId": "59a0862f-86b1-49e5-b6cd-13d36c27c6c1"
      },
      "outputs": [
        {
          "output_type": "stream",
          "name": "stdout",
          "text": [
            "akurasi =  0.49206349206349204\n",
            "f1 score =  0.4915590444838355\n",
            "AUC =  0.49273353494623656\n"
          ]
        }
      ],
      "source": [
        "y_pred3 = bilstm_mod3.predict(X_test_pad)\n",
        "y_predict3 = y_pred3>0.5\n",
        "\n",
        "print(\"akurasi = \", accuracy_score(Y_test, y_predict3))\n",
        "print(\"f1 score = \", f1_score(Y_test, y_predict3, average='macro'))\n",
        "print(\"AUC = \", roc_auc_score(Y_test, y_predict3, average='macro'))"
      ]
    }
  ],
  "metadata": {
    "accelerator": "GPU",
    "colab": {
      "collapsed_sections": [],
      "name": "Copy of 19112021_DEEP_BiLSTM.ipynb",
      "provenance": []
    },
    "kernelspec": {
      "display_name": "Python 3",
      "name": "python3"
    },
    "language_info": {
      "name": "python"
    }
  },
  "nbformat": 4,
  "nbformat_minor": 0
}